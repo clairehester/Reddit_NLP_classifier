{
 "cells": [
  {
   "cell_type": "markdown",
   "metadata": {},
   "source": [
    "# Project 3 - Reddit NLP\n",
    "## 02-Data Cleaning\n",
    "\n"
   ]
  },
  {
   "cell_type": "markdown",
   "metadata": {},
   "source": [
    "In this section, I will begin by inspecting the data. I will then look for:\n",
    "- Duplicated values to remove\n",
    "- Removed posts included in the web scrape\n",
    "- Missing values to impute\n",
    "- Remove special characters using regex\n",
    "\n",
    "Then I will feature engineer a few columns to capture word count. Once this has all been completed, I will save the dataframe as a csv to be used in the EDA and Modeling sections."
   ]
  },
  {
   "cell_type": "code",
   "execution_count": 1,
   "metadata": {},
   "outputs": [],
   "source": [
    "# import libraries\n",
    "import numpy as np\n",
    "import pandas as pd\n",
    "import seaborn as sns\n",
    "import re"
   ]
  },
  {
   "cell_type": "code",
   "execution_count": 2,
   "metadata": {},
   "outputs": [],
   "source": [
    "# read in data\n",
    "df = pd.read_csv('./data/legal_nsq.csv')"
   ]
  },
  {
   "cell_type": "code",
   "execution_count": 3,
   "metadata": {},
   "outputs": [
    {
     "data": {
      "text/html": [
       "<div>\n",
       "<style scoped>\n",
       "    .dataframe tbody tr th:only-of-type {\n",
       "        vertical-align: middle;\n",
       "    }\n",
       "\n",
       "    .dataframe tbody tr th {\n",
       "        vertical-align: top;\n",
       "    }\n",
       "\n",
       "    .dataframe thead th {\n",
       "        text-align: right;\n",
       "    }\n",
       "</style>\n",
       "<table border=\"1\" class=\"dataframe\">\n",
       "  <thead>\n",
       "    <tr style=\"text-align: right;\">\n",
       "      <th></th>\n",
       "      <th>title</th>\n",
       "      <th>created_utc</th>\n",
       "      <th>selftext</th>\n",
       "      <th>subreddit</th>\n",
       "      <th>author</th>\n",
       "      <th>media_only</th>\n",
       "      <th>permalink</th>\n",
       "    </tr>\n",
       "  </thead>\n",
       "  <tbody>\n",
       "    <tr>\n",
       "      <th>0</th>\n",
       "      <td>My ex gf refuses to reclaim her items from my ...</td>\n",
       "      <td>1601524380</td>\n",
       "      <td>About a week ago I ended a moderately long rel...</td>\n",
       "      <td>legaladvice</td>\n",
       "      <td>Gtormund51</td>\n",
       "      <td>False</td>\n",
       "      <td>/r/legaladvice/comments/j31aqq/my_ex_gf_refuse...</td>\n",
       "    </tr>\n",
       "    <tr>\n",
       "      <th>1</th>\n",
       "      <td>A car is advertised for $18,000 lower than MSR...</td>\n",
       "      <td>1601524283</td>\n",
       "      <td>So I'm looking for a new car and I stumbled up...</td>\n",
       "      <td>legaladvice</td>\n",
       "      <td>hustlegoat</td>\n",
       "      <td>False</td>\n",
       "      <td>/r/legaladvice/comments/j319w1/a_car_is_advert...</td>\n",
       "    </tr>\n",
       "  </tbody>\n",
       "</table>\n",
       "</div>"
      ],
      "text/plain": [
       "                                               title  created_utc  \\\n",
       "0  My ex gf refuses to reclaim her items from my ...   1601524380   \n",
       "1  A car is advertised for $18,000 lower than MSR...   1601524283   \n",
       "\n",
       "                                            selftext    subreddit      author  \\\n",
       "0  About a week ago I ended a moderately long rel...  legaladvice  Gtormund51   \n",
       "1  So I'm looking for a new car and I stumbled up...  legaladvice  hustlegoat   \n",
       "\n",
       "   media_only                                          permalink  \n",
       "0       False  /r/legaladvice/comments/j31aqq/my_ex_gf_refuse...  \n",
       "1       False  /r/legaladvice/comments/j319w1/a_car_is_advert...  "
      ]
     },
     "execution_count": 3,
     "metadata": {},
     "output_type": "execute_result"
    }
   ],
   "source": [
    "df.head(2)"
   ]
  },
  {
   "cell_type": "code",
   "execution_count": 4,
   "metadata": {},
   "outputs": [
    {
     "name": "stdout",
     "output_type": "stream",
     "text": [
      "<class 'pandas.core.frame.DataFrame'>\n",
      "RangeIndex: 60000 entries, 0 to 59999\n",
      "Data columns (total 7 columns):\n",
      " #   Column       Non-Null Count  Dtype \n",
      "---  ------       --------------  ----- \n",
      " 0   title        60000 non-null  object\n",
      " 1   created_utc  60000 non-null  int64 \n",
      " 2   selftext     50677 non-null  object\n",
      " 3   subreddit    60000 non-null  object\n",
      " 4   author       60000 non-null  object\n",
      " 5   media_only   60000 non-null  bool  \n",
      " 6   permalink    60000 non-null  object\n",
      "dtypes: bool(1), int64(1), object(5)\n",
      "memory usage: 2.8+ MB\n"
     ]
    }
   ],
   "source": [
    "df.info()"
   ]
  },
  {
   "cell_type": "markdown",
   "metadata": {},
   "source": [
    "### Check for and remove Duplicates\n"
   ]
  },
  {
   "cell_type": "code",
   "execution_count": 5,
   "metadata": {},
   "outputs": [
    {
     "data": {
      "text/plain": [
       "669"
      ]
     },
     "execution_count": 5,
     "metadata": {},
     "output_type": "execute_result"
    }
   ],
   "source": [
    "# Source: https://pandas.pydata.org/pandas-docs/stable/reference/api/pandas.DataFrame.duplicated.html\n",
    "len(df[df.duplicated(subset='title')])"
   ]
  },
  {
   "cell_type": "code",
   "execution_count": 6,
   "metadata": {},
   "outputs": [],
   "source": [
    "df.drop_duplicates(subset='title', keep='first', inplace=True)"
   ]
  },
  {
   "cell_type": "markdown",
   "metadata": {},
   "source": [
    "### Check for removed Posts\n",
    "\n",
    "There are several posts in this dataset that were removed by the moderator. There are various reasons for post removal. Here I will assume that if the post was removed from the subreddit, it should also be removed from our dataset. "
   ]
  },
  {
   "cell_type": "code",
   "execution_count": 7,
   "metadata": {},
   "outputs": [
    {
     "data": {
      "text/plain": [
       "(3618, 7)"
      ]
     },
     "execution_count": 7,
     "metadata": {},
     "output_type": "execute_result"
    }
   ],
   "source": [
    "df[df['selftext']=='[removed]'].shape"
   ]
  },
  {
   "cell_type": "code",
   "execution_count": 8,
   "metadata": {},
   "outputs": [],
   "source": [
    "df.drop(df[df['selftext']=='[removed]'].index, inplace=True)"
   ]
  },
  {
   "cell_type": "markdown",
   "metadata": {},
   "source": [
    "### Handling empty values\n",
    "\n",
    "There are several instances where \"selftext\" is left blank. Upon inspection of a sampling of submissions, this is typically because the entire question is posed in the title, and there is no body. Here, I will impute the string \"blank\"."
   ]
  },
  {
   "cell_type": "code",
   "execution_count": 9,
   "metadata": {},
   "outputs": [],
   "source": [
    "df['selftext'] = df['selftext'].replace(np.nan, 'blank')"
   ]
  },
  {
   "cell_type": "markdown",
   "metadata": {},
   "source": [
    "### Removal of special characters\n",
    "\n",
    "Once countvectorized, it became apparent that there were a number of special characters used throughout these posts. I will use RegEx to create \"clean\" columns of both the 'selftext' and 'title' columns. This will keep all alphanumeric characters, as well as select punctuation."
   ]
  },
  {
   "cell_type": "code",
   "execution_count": 10,
   "metadata": {},
   "outputs": [
    {
     "data": {
      "text/plain": [
       "['About a week ago I ended a moderately long relationship with my then gf. She refuses to get her stuff from my house amp is holding certain items of mine hostage as well. One of these items being an access key to my property. She never received mail here amp did not contribute to utility bills nor did she pay any rent. 1.How long do I have to legally keep her stuff? 2.Do her possessions HAVE to be stored on my property until she claims it or can I place the items in a secure storage unit? 3.What can I legally do to reclaim my possessions? Thanks in advance for any credible advice ',\n",
       " \"So I'm looking for a new car and I stumbled upon a nice car on a very well known car sales site. The car is listed for around 2.2k but when I look up the car it goes for around 22k. The car has very low miles and doesn't appear to have any blatant issues. If I walked into the dealership tomorrow and said I'd like to buy the car for 2.2k does the dealer have to honor the advertised price online? State is Ohio.\"]"
      ]
     },
     "execution_count": 10,
     "metadata": {},
     "output_type": "execute_result"
    }
   ],
   "source": [
    "# Reference: https://stackoverflow.com/questions/21492621/regex-to-keep-specific-characters-from-string\n",
    "clean_text = [re.sub(r\"[^a-zA-Z0-9\\'.?]+\", ' ', entry) for entry in df['selftext']]\n",
    "clean_text[:2]"
   ]
  },
  {
   "cell_type": "code",
   "execution_count": 11,
   "metadata": {},
   "outputs": [],
   "source": [
    "df['clean_text'] = clean_text"
   ]
  },
  {
   "cell_type": "code",
   "execution_count": 12,
   "metadata": {},
   "outputs": [
    {
     "data": {
      "text/plain": [
       "['My ex gf refuses to reclaim her items from my home. What are my options? Alabama amp no she not a relative lol ',\n",
       " 'A car is advertised for 18 000 lower than MSRP on a website does the dealer have to honor that price?']"
      ]
     },
     "execution_count": 12,
     "metadata": {},
     "output_type": "execute_result"
    }
   ],
   "source": [
    "clean_title = [re.sub(r\"[^a-zA-Z0-9\\'.?]+\", ' ', entry) for entry in df['title']]\n",
    "clean_title[:2]"
   ]
  },
  {
   "cell_type": "code",
   "execution_count": 13,
   "metadata": {},
   "outputs": [],
   "source": [
    "df['clean_title'] = clean_title"
   ]
  },
  {
   "cell_type": "code",
   "execution_count": 14,
   "metadata": {},
   "outputs": [],
   "source": [
    "df = df.drop(columns=['title', 'selftext'])"
   ]
  },
  {
   "cell_type": "markdown",
   "metadata": {},
   "source": [
    "### Feature Engineering\n",
    "\n",
    "Here I create an \"alltext_clean\" column that will concatenate the two word columns. I will also create word count columns, which I will use for EDA."
   ]
  },
  {
   "cell_type": "code",
   "execution_count": 15,
   "metadata": {},
   "outputs": [],
   "source": [
    "# creating a column that combines our two text columns, title and selftext\n",
    "df['alltext_clean'] = df['clean_title'] + df['clean_text']"
   ]
  },
  {
   "cell_type": "code",
   "execution_count": 16,
   "metadata": {},
   "outputs": [],
   "source": [
    "df['alltext_word_count'] = df['alltext_clean'].str.split().str.len()"
   ]
  },
  {
   "cell_type": "code",
   "execution_count": 17,
   "metadata": {},
   "outputs": [],
   "source": [
    "df['title_word_count'] = df['clean_title'].str.split().str.len()"
   ]
  },
  {
   "cell_type": "code",
   "execution_count": 18,
   "metadata": {},
   "outputs": [],
   "source": [
    "df['selftext_word_count'] = df['clean_text'].str.split().str.len()"
   ]
  },
  {
   "cell_type": "code",
   "execution_count": 19,
   "metadata": {},
   "outputs": [
    {
     "data": {
      "text/html": [
       "<div>\n",
       "<style scoped>\n",
       "    .dataframe tbody tr th:only-of-type {\n",
       "        vertical-align: middle;\n",
       "    }\n",
       "\n",
       "    .dataframe tbody tr th {\n",
       "        vertical-align: top;\n",
       "    }\n",
       "\n",
       "    .dataframe thead th {\n",
       "        text-align: right;\n",
       "    }\n",
       "</style>\n",
       "<table border=\"1\" class=\"dataframe\">\n",
       "  <thead>\n",
       "    <tr style=\"text-align: right;\">\n",
       "      <th></th>\n",
       "      <th>created_utc</th>\n",
       "      <th>subreddit</th>\n",
       "      <th>author</th>\n",
       "      <th>media_only</th>\n",
       "      <th>permalink</th>\n",
       "      <th>clean_text</th>\n",
       "      <th>clean_title</th>\n",
       "      <th>alltext_clean</th>\n",
       "      <th>alltext_word_count</th>\n",
       "      <th>title_word_count</th>\n",
       "      <th>selftext_word_count</th>\n",
       "    </tr>\n",
       "  </thead>\n",
       "  <tbody>\n",
       "    <tr>\n",
       "      <th>0</th>\n",
       "      <td>1601524380</td>\n",
       "      <td>legaladvice</td>\n",
       "      <td>Gtormund51</td>\n",
       "      <td>False</td>\n",
       "      <td>/r/legaladvice/comments/j31aqq/my_ex_gf_refuse...</td>\n",
       "      <td>About a week ago I ended a moderately long rel...</td>\n",
       "      <td>My ex gf refuses to reclaim her items from my ...</td>\n",
       "      <td>My ex gf refuses to reclaim her items from my ...</td>\n",
       "      <td>136</td>\n",
       "      <td>23</td>\n",
       "      <td>113</td>\n",
       "    </tr>\n",
       "    <tr>\n",
       "      <th>1</th>\n",
       "      <td>1601524283</td>\n",
       "      <td>legaladvice</td>\n",
       "      <td>hustlegoat</td>\n",
       "      <td>False</td>\n",
       "      <td>/r/legaladvice/comments/j319w1/a_car_is_advert...</td>\n",
       "      <td>So I'm looking for a new car and I stumbled up...</td>\n",
       "      <td>A car is advertised for 18 000 lower than MSRP...</td>\n",
       "      <td>A car is advertised for 18 000 lower than MSRP...</td>\n",
       "      <td>105</td>\n",
       "      <td>21</td>\n",
       "      <td>85</td>\n",
       "    </tr>\n",
       "  </tbody>\n",
       "</table>\n",
       "</div>"
      ],
      "text/plain": [
       "   created_utc    subreddit      author  media_only  \\\n",
       "0   1601524380  legaladvice  Gtormund51       False   \n",
       "1   1601524283  legaladvice  hustlegoat       False   \n",
       "\n",
       "                                           permalink  \\\n",
       "0  /r/legaladvice/comments/j31aqq/my_ex_gf_refuse...   \n",
       "1  /r/legaladvice/comments/j319w1/a_car_is_advert...   \n",
       "\n",
       "                                          clean_text  \\\n",
       "0  About a week ago I ended a moderately long rel...   \n",
       "1  So I'm looking for a new car and I stumbled up...   \n",
       "\n",
       "                                         clean_title  \\\n",
       "0  My ex gf refuses to reclaim her items from my ...   \n",
       "1  A car is advertised for 18 000 lower than MSRP...   \n",
       "\n",
       "                                       alltext_clean  alltext_word_count  \\\n",
       "0  My ex gf refuses to reclaim her items from my ...                 136   \n",
       "1  A car is advertised for 18 000 lower than MSRP...                 105   \n",
       "\n",
       "   title_word_count  selftext_word_count  \n",
       "0                23                  113  \n",
       "1                21                   85  "
      ]
     },
     "execution_count": 19,
     "metadata": {},
     "output_type": "execute_result"
    }
   ],
   "source": [
    "df.head(2)"
   ]
  },
  {
   "cell_type": "markdown",
   "metadata": {},
   "source": [
    "### Save Cleaned Data\n",
    "\n",
    "A special note here: due to the size of the dataset used, I will also create a smaller file with a random sampling of rows that will be uploaded to the git repository. The full dataset will not be included in the upload, though the full set was used for all of the following notebooks."
   ]
  },
  {
   "cell_type": "code",
   "execution_count": 20,
   "metadata": {},
   "outputs": [],
   "source": [
    "df.to_csv('./data/legal_nsq_clean.csv', index=False)"
   ]
  },
  {
   "cell_type": "code",
   "execution_count": 22,
   "metadata": {},
   "outputs": [],
   "source": [
    "sample_df = df.sample(n=3000)"
   ]
  },
  {
   "cell_type": "code",
   "execution_count": 23,
   "metadata": {},
   "outputs": [],
   "source": [
    "sample_df.to_csv('./data/legal_nsq_clean_sample.csv', index=False)"
   ]
  },
  {
   "cell_type": "code",
   "execution_count": null,
   "metadata": {},
   "outputs": [],
   "source": []
  }
 ],
 "metadata": {
  "kernelspec": {
   "display_name": "Python 3",
   "language": "python",
   "name": "python3"
  },
  "language_info": {
   "codemirror_mode": {
    "name": "ipython",
    "version": 3
   },
   "file_extension": ".py",
   "mimetype": "text/x-python",
   "name": "python",
   "nbconvert_exporter": "python",
   "pygments_lexer": "ipython3",
   "version": "3.8.3"
  }
 },
 "nbformat": 4,
 "nbformat_minor": 4
}
