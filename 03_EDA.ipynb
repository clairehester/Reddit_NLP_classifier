{
 "cells": [
  {
   "cell_type": "markdown",
   "metadata": {},
   "source": [
    "# Project 3 - Reddit NLP\n",
    "## 03-Exploratory Data Analysis"
   ]
  },
  {
   "cell_type": "markdown",
   "metadata": {},
   "source": [
    "In this section, using the cleaned data, I will perform exploratory data analysis. For this stage, I will explore three main areas:\n",
    "- Word count differences\n",
    "- Sentiment analyzer using Vader\n",
    "- Word Frequency"
   ]
  },
  {
   "cell_type": "code",
   "execution_count": 1,
   "metadata": {},
   "outputs": [],
   "source": [
    "import matplotlib.pyplot as plt\n",
    "import numpy as np\n",
    "import pandas as pd\n",
    "import seaborn as sns\n",
    "\n",
    "from vaderSentiment.vaderSentiment import SentimentIntensityAnalyzer\n",
    "from sklearn.feature_extraction.text import CountVectorizer\n",
    "\n",
    "import warnings\n",
    "warnings.filterwarnings(\"ignore\")"
   ]
  },
  {
   "cell_type": "code",
   "execution_count": 2,
   "metadata": {},
   "outputs": [],
   "source": [
    "df = pd.read_csv('./data/legal_nsq_clean.csv')"
   ]
  },
  {
   "cell_type": "code",
   "execution_count": 3,
   "metadata": {},
   "outputs": [
    {
     "data": {
      "text/html": [
       "<div>\n",
       "<style scoped>\n",
       "    .dataframe tbody tr th:only-of-type {\n",
       "        vertical-align: middle;\n",
       "    }\n",
       "\n",
       "    .dataframe tbody tr th {\n",
       "        vertical-align: top;\n",
       "    }\n",
       "\n",
       "    .dataframe thead th {\n",
       "        text-align: right;\n",
       "    }\n",
       "</style>\n",
       "<table border=\"1\" class=\"dataframe\">\n",
       "  <thead>\n",
       "    <tr style=\"text-align: right;\">\n",
       "      <th></th>\n",
       "      <th>title</th>\n",
       "      <th>created_utc</th>\n",
       "      <th>selftext</th>\n",
       "      <th>subreddit</th>\n",
       "      <th>author</th>\n",
       "      <th>media_only</th>\n",
       "      <th>permalink</th>\n",
       "      <th>clean_text</th>\n",
       "      <th>clean_title</th>\n",
       "      <th>alltext_clean</th>\n",
       "      <th>alltext_word_count</th>\n",
       "      <th>title_word_count</th>\n",
       "      <th>selftext_word_count</th>\n",
       "    </tr>\n",
       "  </thead>\n",
       "  <tbody>\n",
       "    <tr>\n",
       "      <th>0</th>\n",
       "      <td>My ex gf refuses to reclaim her items from my ...</td>\n",
       "      <td>1601524380</td>\n",
       "      <td>About a week ago I ended a moderately long rel...</td>\n",
       "      <td>legaladvice</td>\n",
       "      <td>Gtormund51</td>\n",
       "      <td>False</td>\n",
       "      <td>/r/legaladvice/comments/j31aqq/my_ex_gf_refuse...</td>\n",
       "      <td>About a week ago I ended a moderately long rel...</td>\n",
       "      <td>My ex gf refuses to reclaim her items from my ...</td>\n",
       "      <td>My ex gf refuses to reclaim her items from my ...</td>\n",
       "      <td>136</td>\n",
       "      <td>23</td>\n",
       "      <td>113</td>\n",
       "    </tr>\n",
       "    <tr>\n",
       "      <th>1</th>\n",
       "      <td>A car is advertised for $18,000 lower than MSR...</td>\n",
       "      <td>1601524283</td>\n",
       "      <td>So I'm looking for a new car and I stumbled up...</td>\n",
       "      <td>legaladvice</td>\n",
       "      <td>hustlegoat</td>\n",
       "      <td>False</td>\n",
       "      <td>/r/legaladvice/comments/j319w1/a_car_is_advert...</td>\n",
       "      <td>So I'm looking for a new car and I stumbled up...</td>\n",
       "      <td>A car is advertised for 18 000 lower than MSRP...</td>\n",
       "      <td>A car is advertised for 18 000 lower than MSRP...</td>\n",
       "      <td>105</td>\n",
       "      <td>21</td>\n",
       "      <td>85</td>\n",
       "    </tr>\n",
       "  </tbody>\n",
       "</table>\n",
       "</div>"
      ],
      "text/plain": [
       "                                               title  created_utc  \\\n",
       "0  My ex gf refuses to reclaim her items from my ...   1601524380   \n",
       "1  A car is advertised for $18,000 lower than MSR...   1601524283   \n",
       "\n",
       "                                            selftext    subreddit      author  \\\n",
       "0  About a week ago I ended a moderately long rel...  legaladvice  Gtormund51   \n",
       "1  So I'm looking for a new car and I stumbled up...  legaladvice  hustlegoat   \n",
       "\n",
       "   media_only                                          permalink  \\\n",
       "0       False  /r/legaladvice/comments/j31aqq/my_ex_gf_refuse...   \n",
       "1       False  /r/legaladvice/comments/j319w1/a_car_is_advert...   \n",
       "\n",
       "                                          clean_text  \\\n",
       "0  About a week ago I ended a moderately long rel...   \n",
       "1  So I'm looking for a new car and I stumbled up...   \n",
       "\n",
       "                                         clean_title  \\\n",
       "0  My ex gf refuses to reclaim her items from my ...   \n",
       "1  A car is advertised for 18 000 lower than MSRP...   \n",
       "\n",
       "                                       alltext_clean  alltext_word_count  \\\n",
       "0  My ex gf refuses to reclaim her items from my ...                 136   \n",
       "1  A car is advertised for 18 000 lower than MSRP...                 105   \n",
       "\n",
       "   title_word_count  selftext_word_count  \n",
       "0                23                  113  \n",
       "1                21                   85  "
      ]
     },
     "execution_count": 3,
     "metadata": {},
     "output_type": "execute_result"
    }
   ],
   "source": [
    "df.head(2)"
   ]
  },
  {
   "cell_type": "code",
   "execution_count": 4,
   "metadata": {},
   "outputs": [
    {
     "name": "stdout",
     "output_type": "stream",
     "text": [
      "<class 'pandas.core.frame.DataFrame'>\n",
      "RangeIndex: 55713 entries, 0 to 55712\n",
      "Data columns (total 13 columns):\n",
      " #   Column               Non-Null Count  Dtype \n",
      "---  ------               --------------  ----- \n",
      " 0   title                55713 non-null  object\n",
      " 1   created_utc          55713 non-null  int64 \n",
      " 2   selftext             55713 non-null  object\n",
      " 3   subreddit            55713 non-null  object\n",
      " 4   author               55713 non-null  object\n",
      " 5   media_only           55713 non-null  bool  \n",
      " 6   permalink            55713 non-null  object\n",
      " 7   clean_text           55713 non-null  object\n",
      " 8   clean_title          55713 non-null  object\n",
      " 9   alltext_clean        55713 non-null  object\n",
      " 10  alltext_word_count   55713 non-null  int64 \n",
      " 11  title_word_count     55713 non-null  int64 \n",
      " 12  selftext_word_count  55713 non-null  int64 \n",
      "dtypes: bool(1), int64(4), object(8)\n",
      "memory usage: 5.2+ MB\n"
     ]
    }
   ],
   "source": [
    "df.info()"
   ]
  },
  {
   "cell_type": "markdown",
   "metadata": {},
   "source": [
    "### Exploring Word Count"
   ]
  },
  {
   "cell_type": "code",
   "execution_count": 27,
   "metadata": {},
   "outputs": [
    {
     "data": {
      "text/html": [
       "<div>\n",
       "<style scoped>\n",
       "    .dataframe tbody tr th:only-of-type {\n",
       "        vertical-align: middle;\n",
       "    }\n",
       "\n",
       "    .dataframe tbody tr th {\n",
       "        vertical-align: top;\n",
       "    }\n",
       "\n",
       "    .dataframe thead th {\n",
       "        text-align: right;\n",
       "    }\n",
       "</style>\n",
       "<table border=\"1\" class=\"dataframe\">\n",
       "  <thead>\n",
       "    <tr style=\"text-align: right;\">\n",
       "      <th></th>\n",
       "      <th>count</th>\n",
       "      <th>mean</th>\n",
       "      <th>std</th>\n",
       "      <th>min</th>\n",
       "      <th>25%</th>\n",
       "      <th>50%</th>\n",
       "      <th>75%</th>\n",
       "      <th>max</th>\n",
       "    </tr>\n",
       "  </thead>\n",
       "  <tbody>\n",
       "    <tr>\n",
       "      <th>alltext_word_count</th>\n",
       "      <td>55713.0</td>\n",
       "      <td>140.012959</td>\n",
       "      <td>174.090591</td>\n",
       "      <td>0.0</td>\n",
       "      <td>34.0</td>\n",
       "      <td>85.0</td>\n",
       "      <td>181.0</td>\n",
       "      <td>4957.0</td>\n",
       "    </tr>\n",
       "    <tr>\n",
       "      <th>title_word_count</th>\n",
       "      <td>55713.0</td>\n",
       "      <td>13.102220</td>\n",
       "      <td>8.775740</td>\n",
       "      <td>0.0</td>\n",
       "      <td>7.0</td>\n",
       "      <td>11.0</td>\n",
       "      <td>17.0</td>\n",
       "      <td>67.0</td>\n",
       "    </tr>\n",
       "  </tbody>\n",
       "</table>\n",
       "</div>"
      ],
      "text/plain": [
       "                      count        mean         std  min   25%   50%    75%  \\\n",
       "alltext_word_count  55713.0  140.012959  174.090591  0.0  34.0  85.0  181.0   \n",
       "title_word_count    55713.0   13.102220    8.775740  0.0   7.0  11.0   17.0   \n",
       "\n",
       "                       max  \n",
       "alltext_word_count  4957.0  \n",
       "title_word_count      67.0  "
      ]
     },
     "execution_count": 27,
     "metadata": {},
     "output_type": "execute_result"
    }
   ],
   "source": [
    "df[['alltext_word_count', 'title_word_count']].describe().T"
   ]
  },
  {
   "cell_type": "code",
   "execution_count": 5,
   "metadata": {},
   "outputs": [
    {
     "data": {
      "text/html": [
       "<div>\n",
       "<style scoped>\n",
       "    .dataframe tbody tr th:only-of-type {\n",
       "        vertical-align: middle;\n",
       "    }\n",
       "\n",
       "    .dataframe tbody tr th {\n",
       "        vertical-align: top;\n",
       "    }\n",
       "\n",
       "    .dataframe thead tr th {\n",
       "        text-align: left;\n",
       "    }\n",
       "\n",
       "    .dataframe thead tr:last-of-type th {\n",
       "        text-align: right;\n",
       "    }\n",
       "</style>\n",
       "<table border=\"1\" class=\"dataframe\">\n",
       "  <thead>\n",
       "    <tr>\n",
       "      <th></th>\n",
       "      <th colspan=\"8\" halign=\"left\">alltext_word_count</th>\n",
       "      <th colspan=\"8\" halign=\"left\">title_word_count</th>\n",
       "    </tr>\n",
       "    <tr>\n",
       "      <th></th>\n",
       "      <th>count</th>\n",
       "      <th>mean</th>\n",
       "      <th>std</th>\n",
       "      <th>min</th>\n",
       "      <th>25%</th>\n",
       "      <th>50%</th>\n",
       "      <th>75%</th>\n",
       "      <th>max</th>\n",
       "      <th>count</th>\n",
       "      <th>mean</th>\n",
       "      <th>std</th>\n",
       "      <th>min</th>\n",
       "      <th>25%</th>\n",
       "      <th>50%</th>\n",
       "      <th>75%</th>\n",
       "      <th>max</th>\n",
       "    </tr>\n",
       "    <tr>\n",
       "      <th>subreddit</th>\n",
       "      <th></th>\n",
       "      <th></th>\n",
       "      <th></th>\n",
       "      <th></th>\n",
       "      <th></th>\n",
       "      <th></th>\n",
       "      <th></th>\n",
       "      <th></th>\n",
       "      <th></th>\n",
       "      <th></th>\n",
       "      <th></th>\n",
       "      <th></th>\n",
       "      <th></th>\n",
       "      <th></th>\n",
       "      <th></th>\n",
       "      <th></th>\n",
       "    </tr>\n",
       "  </thead>\n",
       "  <tbody>\n",
       "    <tr>\n",
       "      <th>NoStupidQuestions</th>\n",
       "      <td>26987.0</td>\n",
       "      <td>55.225442</td>\n",
       "      <td>61.083882</td>\n",
       "      <td>0.0</td>\n",
       "      <td>18.0</td>\n",
       "      <td>37.0</td>\n",
       "      <td>71.0</td>\n",
       "      <td>1149.0</td>\n",
       "      <td>26987.0</td>\n",
       "      <td>13.953607</td>\n",
       "      <td>8.390779</td>\n",
       "      <td>0.0</td>\n",
       "      <td>8.0</td>\n",
       "      <td>12.0</td>\n",
       "      <td>17.0</td>\n",
       "      <td>64.0</td>\n",
       "    </tr>\n",
       "    <tr>\n",
       "      <th>legaladvice</th>\n",
       "      <td>28726.0</td>\n",
       "      <td>219.667653</td>\n",
       "      <td>205.370188</td>\n",
       "      <td>1.0</td>\n",
       "      <td>96.0</td>\n",
       "      <td>163.0</td>\n",
       "      <td>274.0</td>\n",
       "      <td>4957.0</td>\n",
       "      <td>28726.0</td>\n",
       "      <td>12.302374</td>\n",
       "      <td>9.050077</td>\n",
       "      <td>1.0</td>\n",
       "      <td>6.0</td>\n",
       "      <td>10.0</td>\n",
       "      <td>16.0</td>\n",
       "      <td>67.0</td>\n",
       "    </tr>\n",
       "  </tbody>\n",
       "</table>\n",
       "</div>"
      ],
      "text/plain": [
       "                  alltext_word_count                                     \\\n",
       "                               count        mean         std  min   25%   \n",
       "subreddit                                                                 \n",
       "NoStupidQuestions            26987.0   55.225442   61.083882  0.0  18.0   \n",
       "legaladvice                  28726.0  219.667653  205.370188  1.0  96.0   \n",
       "\n",
       "                                        title_word_count                       \\\n",
       "                     50%    75%     max            count       mean       std   \n",
       "subreddit                                                                       \n",
       "NoStupidQuestions   37.0   71.0  1149.0          26987.0  13.953607  8.390779   \n",
       "legaladvice        163.0  274.0  4957.0          28726.0  12.302374  9.050077   \n",
       "\n",
       "                                               \n",
       "                   min  25%   50%   75%   max  \n",
       "subreddit                                      \n",
       "NoStupidQuestions  0.0  8.0  12.0  17.0  64.0  \n",
       "legaladvice        1.0  6.0  10.0  16.0  67.0  "
      ]
     },
     "execution_count": 5,
     "metadata": {},
     "output_type": "execute_result"
    }
   ],
   "source": [
    "df.groupby('subreddit')['alltext_word_count', 'title_word_count'].describe()"
   ]
  },
  {
   "cell_type": "code",
   "execution_count": 6,
   "metadata": {},
   "outputs": [
    {
     "data": {
      "image/png": "[encoded data removed]",
      "text/plain": [
       "<Figure size 720x360 with 2 Axes>"
      ]
     },
     "metadata": {},
     "output_type": "display_data"
    }
   ],
   "source": [
    "plt.style.use('ggplot')\n",
    "g = sns.displot(data=df, x='alltext_word_count', col='subreddit', color='teal')\n",
    "g.set(xlim=(0, 1000), ylim=(0, 3000));\n",
    "g.set_axis_labels('Word Count Total', 'Count');"
   ]
  },
  {
   "cell_type": "markdown",
   "metadata": {},
   "source": [
    "**Word Count Total:** The above graphs show the word count distribution for both subreddits. Legal Advice has a broader range in word counts and a much more smoothed curve. Here, 75% of the posts are below 274 words, with a max post length of 4957. No Stupid Questions submissions, on the other hand, are generally much shorter, with 75% of their posts below 71 words and an overall max of 1149 words. "
   ]
  },
  {
   "cell_type": "code",
   "execution_count": 7,
   "metadata": {},
   "outputs": [
    {
     "data": {
      "image/png": "[encoded data removed]",
      "text/plain": [
       "<Figure size 720x360 with 2 Axes>"
      ]
     },
     "metadata": {},
     "output_type": "display_data"
    }
   ],
   "source": [
    "plt.style.use('ggplot')\n",
    "g = sns.displot(data=df, x='title_word_count', col='subreddit', color='red')\n",
    "g.set_axis_labels('Word Count (Title Only)', 'Count');"
   ]
  },
  {
   "cell_type": "markdown",
   "metadata": {},
   "source": [
    "**Word Count - Title Only:** Here we see that the title length of each subreddit is virtually indistinguishable. The vast majority are under 20 words total, and the max word count is relatively similar for each: 67 for Legal Advice, 64 for No Stupid Questions."
   ]
  },
  {
   "cell_type": "markdown",
   "metadata": {},
   "source": [
    "### Sentiment Analysis\n",
    "\n",
    "First I will instantiate the Sentiment Intensity Analyzer, and then I will create one dataframe for each subreddit so that they can easily be compared side by side. Then I will use some graphs to analyze the observed differences."
   ]
  },
  {
   "cell_type": "code",
   "execution_count": 8,
   "metadata": {},
   "outputs": [],
   "source": [
    "sia = SentimentIntensityAnalyzer()"
   ]
  },
  {
   "cell_type": "code",
   "execution_count": 9,
   "metadata": {},
   "outputs": [
    {
     "data": {
      "text/html": [
       "<div>\n",
       "<style scoped>\n",
       "    .dataframe tbody tr th:only-of-type {\n",
       "        vertical-align: middle;\n",
       "    }\n",
       "\n",
       "    .dataframe tbody tr th {\n",
       "        vertical-align: top;\n",
       "    }\n",
       "\n",
       "    .dataframe thead th {\n",
       "        text-align: right;\n",
       "    }\n",
       "</style>\n",
       "<table border=\"1\" class=\"dataframe\">\n",
       "  <thead>\n",
       "    <tr style=\"text-align: right;\">\n",
       "      <th></th>\n",
       "      <th>neg</th>\n",
       "      <th>neu</th>\n",
       "      <th>pos</th>\n",
       "      <th>compound</th>\n",
       "      <th>subreddit</th>\n",
       "    </tr>\n",
       "  </thead>\n",
       "  <tbody>\n",
       "    <tr>\n",
       "      <th>0</th>\n",
       "      <td>0.031</td>\n",
       "      <td>0.869</td>\n",
       "      <td>0.100</td>\n",
       "      <td>0.7920</td>\n",
       "      <td>legaladvice</td>\n",
       "    </tr>\n",
       "    <tr>\n",
       "      <th>1</th>\n",
       "      <td>0.040</td>\n",
       "      <td>0.843</td>\n",
       "      <td>0.117</td>\n",
       "      <td>0.8367</td>\n",
       "      <td>legaladvice</td>\n",
       "    </tr>\n",
       "  </tbody>\n",
       "</table>\n",
       "</div>"
      ],
      "text/plain": [
       "     neg    neu    pos  compound    subreddit\n",
       "0  0.031  0.869  0.100    0.7920  legaladvice\n",
       "1  0.040  0.843  0.117    0.8367  legaladvice"
      ]
     },
     "execution_count": 9,
     "metadata": {},
     "output_type": "execute_result"
    }
   ],
   "source": [
    "results = []\n",
    "\n",
    "for i in df[df['subreddit']=='legaladvice']['alltext_clean']:\n",
    "    result = sia.polarity_scores(i)\n",
    "    results.append(result)\n",
    "    \n",
    "la_scores = pd.DataFrame(results)\n",
    "la_scores['subreddit'] = 'legaladvice'\n",
    "la_scores.head(2)"
   ]
  },
  {
   "cell_type": "code",
   "execution_count": 10,
   "metadata": {},
   "outputs": [
    {
     "data": {
      "text/html": [
       "<div>\n",
       "<style scoped>\n",
       "    .dataframe tbody tr th:only-of-type {\n",
       "        vertical-align: middle;\n",
       "    }\n",
       "\n",
       "    .dataframe tbody tr th {\n",
       "        vertical-align: top;\n",
       "    }\n",
       "\n",
       "    .dataframe thead th {\n",
       "        text-align: right;\n",
       "    }\n",
       "</style>\n",
       "<table border=\"1\" class=\"dataframe\">\n",
       "  <thead>\n",
       "    <tr style=\"text-align: right;\">\n",
       "      <th></th>\n",
       "      <th>neg</th>\n",
       "      <th>neu</th>\n",
       "      <th>pos</th>\n",
       "      <th>compound</th>\n",
       "      <th>subreddit</th>\n",
       "    </tr>\n",
       "  </thead>\n",
       "  <tbody>\n",
       "    <tr>\n",
       "      <th>0</th>\n",
       "      <td>0.059</td>\n",
       "      <td>0.941</td>\n",
       "      <td>0.000</td>\n",
       "      <td>-0.5267</td>\n",
       "      <td>NoStupidQuestions</td>\n",
       "    </tr>\n",
       "    <tr>\n",
       "      <th>1</th>\n",
       "      <td>0.099</td>\n",
       "      <td>0.687</td>\n",
       "      <td>0.214</td>\n",
       "      <td>0.9460</td>\n",
       "      <td>NoStupidQuestions</td>\n",
       "    </tr>\n",
       "  </tbody>\n",
       "</table>\n",
       "</div>"
      ],
      "text/plain": [
       "     neg    neu    pos  compound          subreddit\n",
       "0  0.059  0.941  0.000   -0.5267  NoStupidQuestions\n",
       "1  0.099  0.687  0.214    0.9460  NoStupidQuestions"
      ]
     },
     "execution_count": 10,
     "metadata": {},
     "output_type": "execute_result"
    }
   ],
   "source": [
    "results = []\n",
    "\n",
    "for i in df[df['subreddit']=='NoStupidQuestions']['alltext_clean']:\n",
    "    result = sia.polarity_scores(i)\n",
    "    results.append(result)\n",
    "    \n",
    "nsq_scores = pd.DataFrame(results)\n",
    "nsq_scores['subreddit'] = 'NoStupidQuestions'\n",
    "nsq_scores.head(2)"
   ]
  },
  {
   "cell_type": "code",
   "execution_count": 11,
   "metadata": {},
   "outputs": [
    {
     "data": {
      "text/html": [
       "<div>\n",
       "<style scoped>\n",
       "    .dataframe tbody tr th:only-of-type {\n",
       "        vertical-align: middle;\n",
       "    }\n",
       "\n",
       "    .dataframe tbody tr th {\n",
       "        vertical-align: top;\n",
       "    }\n",
       "\n",
       "    .dataframe thead th {\n",
       "        text-align: right;\n",
       "    }\n",
       "</style>\n",
       "<table border=\"1\" class=\"dataframe\">\n",
       "  <thead>\n",
       "    <tr style=\"text-align: right;\">\n",
       "      <th></th>\n",
       "      <th>count</th>\n",
       "      <th>mean</th>\n",
       "      <th>std</th>\n",
       "      <th>min</th>\n",
       "      <th>25%</th>\n",
       "      <th>50%</th>\n",
       "      <th>75%</th>\n",
       "      <th>max</th>\n",
       "    </tr>\n",
       "  </thead>\n",
       "  <tbody>\n",
       "    <tr>\n",
       "      <th>neg</th>\n",
       "      <td>28726.0</td>\n",
       "      <td>0.074862</td>\n",
       "      <td>0.054713</td>\n",
       "      <td>0.0000</td>\n",
       "      <td>0.0370</td>\n",
       "      <td>0.0670</td>\n",
       "      <td>0.1030</td>\n",
       "      <td>0.7440</td>\n",
       "    </tr>\n",
       "    <tr>\n",
       "      <th>neu</th>\n",
       "      <td>28726.0</td>\n",
       "      <td>0.855046</td>\n",
       "      <td>0.066481</td>\n",
       "      <td>0.1960</td>\n",
       "      <td>0.8180</td>\n",
       "      <td>0.8600</td>\n",
       "      <td>0.8990</td>\n",
       "      <td>1.0000</td>\n",
       "    </tr>\n",
       "    <tr>\n",
       "      <th>pos</th>\n",
       "      <td>28726.0</td>\n",
       "      <td>0.070096</td>\n",
       "      <td>0.046374</td>\n",
       "      <td>0.0000</td>\n",
       "      <td>0.0390</td>\n",
       "      <td>0.0650</td>\n",
       "      <td>0.0940</td>\n",
       "      <td>0.7370</td>\n",
       "    </tr>\n",
       "    <tr>\n",
       "      <th>compound</th>\n",
       "      <td>28726.0</td>\n",
       "      <td>-0.048382</td>\n",
       "      <td>0.739554</td>\n",
       "      <td>-0.9999</td>\n",
       "      <td>-0.8176</td>\n",
       "      <td>-0.1158</td>\n",
       "      <td>0.7351</td>\n",
       "      <td>0.9994</td>\n",
       "    </tr>\n",
       "  </tbody>\n",
       "</table>\n",
       "</div>"
      ],
      "text/plain": [
       "            count      mean       std     min     25%     50%     75%     max\n",
       "neg       28726.0  0.074862  0.054713  0.0000  0.0370  0.0670  0.1030  0.7440\n",
       "neu       28726.0  0.855046  0.066481  0.1960  0.8180  0.8600  0.8990  1.0000\n",
       "pos       28726.0  0.070096  0.046374  0.0000  0.0390  0.0650  0.0940  0.7370\n",
       "compound  28726.0 -0.048382  0.739554 -0.9999 -0.8176 -0.1158  0.7351  0.9994"
      ]
     },
     "execution_count": 11,
     "metadata": {},
     "output_type": "execute_result"
    }
   ],
   "source": [
    "la_scores.describe().T"
   ]
  },
  {
   "cell_type": "code",
   "execution_count": 12,
   "metadata": {},
   "outputs": [
    {
     "data": {
      "text/html": [
       "<div>\n",
       "<style scoped>\n",
       "    .dataframe tbody tr th:only-of-type {\n",
       "        vertical-align: middle;\n",
       "    }\n",
       "\n",
       "    .dataframe tbody tr th {\n",
       "        vertical-align: top;\n",
       "    }\n",
       "\n",
       "    .dataframe thead th {\n",
       "        text-align: right;\n",
       "    }\n",
       "</style>\n",
       "<table border=\"1\" class=\"dataframe\">\n",
       "  <thead>\n",
       "    <tr style=\"text-align: right;\">\n",
       "      <th></th>\n",
       "      <th>neg</th>\n",
       "      <th>neu</th>\n",
       "      <th>pos</th>\n",
       "      <th>compound</th>\n",
       "      <th>subreddit</th>\n",
       "    </tr>\n",
       "  </thead>\n",
       "  <tbody>\n",
       "    <tr>\n",
       "      <th>0</th>\n",
       "      <td>0.031</td>\n",
       "      <td>0.869</td>\n",
       "      <td>0.100</td>\n",
       "      <td>0.7920</td>\n",
       "      <td>legaladvice</td>\n",
       "    </tr>\n",
       "    <tr>\n",
       "      <th>1</th>\n",
       "      <td>0.040</td>\n",
       "      <td>0.843</td>\n",
       "      <td>0.117</td>\n",
       "      <td>0.8367</td>\n",
       "      <td>legaladvice</td>\n",
       "    </tr>\n",
       "  </tbody>\n",
       "</table>\n",
       "</div>"
      ],
      "text/plain": [
       "     neg    neu    pos  compound    subreddit\n",
       "0  0.031  0.869  0.100    0.7920  legaladvice\n",
       "1  0.040  0.843  0.117    0.8367  legaladvice"
      ]
     },
     "execution_count": 12,
     "metadata": {},
     "output_type": "execute_result"
    }
   ],
   "source": [
    "la_scores.head(2)"
   ]
  },
  {
   "cell_type": "code",
   "execution_count": 13,
   "metadata": {},
   "outputs": [
    {
     "data": {
      "text/html": [
       "<div>\n",
       "<style scoped>\n",
       "    .dataframe tbody tr th:only-of-type {\n",
       "        vertical-align: middle;\n",
       "    }\n",
       "\n",
       "    .dataframe tbody tr th {\n",
       "        vertical-align: top;\n",
       "    }\n",
       "\n",
       "    .dataframe thead th {\n",
       "        text-align: right;\n",
       "    }\n",
       "</style>\n",
       "<table border=\"1\" class=\"dataframe\">\n",
       "  <thead>\n",
       "    <tr style=\"text-align: right;\">\n",
       "      <th></th>\n",
       "      <th>count</th>\n",
       "      <th>mean</th>\n",
       "      <th>std</th>\n",
       "      <th>min</th>\n",
       "      <th>25%</th>\n",
       "      <th>50%</th>\n",
       "      <th>75%</th>\n",
       "      <th>max</th>\n",
       "    </tr>\n",
       "  </thead>\n",
       "  <tbody>\n",
       "    <tr>\n",
       "      <th>neg</th>\n",
       "      <td>26987.0</td>\n",
       "      <td>0.067182</td>\n",
       "      <td>0.085892</td>\n",
       "      <td>0.0000</td>\n",
       "      <td>0.0000</td>\n",
       "      <td>0.039</td>\n",
       "      <td>0.1080</td>\n",
       "      <td>0.676</td>\n",
       "    </tr>\n",
       "    <tr>\n",
       "      <th>neu</th>\n",
       "      <td>26987.0</td>\n",
       "      <td>0.852846</td>\n",
       "      <td>0.115530</td>\n",
       "      <td>0.0000</td>\n",
       "      <td>0.7800</td>\n",
       "      <td>0.860</td>\n",
       "      <td>0.9430</td>\n",
       "      <td>1.000</td>\n",
       "    </tr>\n",
       "    <tr>\n",
       "      <th>pos</th>\n",
       "      <td>26987.0</td>\n",
       "      <td>0.079938</td>\n",
       "      <td>0.086389</td>\n",
       "      <td>0.0000</td>\n",
       "      <td>0.0000</td>\n",
       "      <td>0.064</td>\n",
       "      <td>0.1270</td>\n",
       "      <td>0.773</td>\n",
       "    </tr>\n",
       "    <tr>\n",
       "      <th>compound</th>\n",
       "      <td>26987.0</td>\n",
       "      <td>0.069524</td>\n",
       "      <td>0.549200</td>\n",
       "      <td>-0.9984</td>\n",
       "      <td>-0.3506</td>\n",
       "      <td>0.000</td>\n",
       "      <td>0.5314</td>\n",
       "      <td>0.999</td>\n",
       "    </tr>\n",
       "  </tbody>\n",
       "</table>\n",
       "</div>"
      ],
      "text/plain": [
       "            count      mean       std     min     25%    50%     75%    max\n",
       "neg       26987.0  0.067182  0.085892  0.0000  0.0000  0.039  0.1080  0.676\n",
       "neu       26987.0  0.852846  0.115530  0.0000  0.7800  0.860  0.9430  1.000\n",
       "pos       26987.0  0.079938  0.086389  0.0000  0.0000  0.064  0.1270  0.773\n",
       "compound  26987.0  0.069524  0.549200 -0.9984 -0.3506  0.000  0.5314  0.999"
      ]
     },
     "execution_count": 13,
     "metadata": {},
     "output_type": "execute_result"
    }
   ],
   "source": [
    "nsq_scores.describe().T"
   ]
  },
  {
   "cell_type": "code",
   "execution_count": 16,
   "metadata": {},
   "outputs": [
    {
     "data": {
      "image/png": "[encoded data removed]",
      "text/plain": [
       "<Figure size 1008x432 with 2 Axes>"
      ]
     },
     "metadata": {},
     "output_type": "display_data"
    }
   ],
   "source": [
    "fig, ax = plt.subplots(1, 2, figsize = (14, 6), sharey=True)\n",
    "\n",
    "plt.subplot(1, 2, 1)\n",
    "la_scores.mean().plot(kind='bar')\n",
    "plt.title('Mean Sentiment Scores - Legal Advice')\n",
    "plt.xlabel('Sentiment')\n",
    "plt.ylim(-0.2, 1)\n",
    "plt.xticks(rotation=45);\n",
    "\n",
    "plt.subplot(1, 2, 2)\n",
    "nsq_scores.mean().plot(kind='bar')\n",
    "plt.title('Mean Sentiment Scores - No Stupid Questions')\n",
    "plt.xlabel('Sentiment')\n",
    "plt.ylim(-0.2, 1)\n",
    "plt.xticks(rotation=45);"
   ]
  },
  {
   "cell_type": "markdown",
   "metadata": {},
   "source": [
    "**Mean Sentiment Scores:** Here we can see that the distributions for Negative, Neutral, and Positve are relatively similar. There is a divergence in the compound value: Legal Advice has a negative compound score, while No Stupid Questions has a positive compound score."
   ]
  },
  {
   "cell_type": "code",
   "execution_count": 18,
   "metadata": {},
   "outputs": [],
   "source": [
    "cvect = CountVectorizer(stop_words='english')"
   ]
  },
  {
   "cell_type": "code",
   "execution_count": 21,
   "metadata": {},
   "outputs": [],
   "source": [
    "la_df = df[df['subreddit']=='legaladvice']\n",
    "la_to_vect = la_df['alltext_clean']\n",
    "la_vect = cvect.fit_transform(la_to_vect)\n",
    "la_vect_df = pd.DataFrame(la_vect.toarray(), columns=cvect.get_feature_names())"
   ]
  },
  {
   "cell_type": "code",
   "execution_count": 24,
   "metadata": {},
   "outputs": [
    {
     "data": {
      "image/png": "[encoded data removed]",
      "text/plain": [
       "<Figure size 576x360 with 1 Axes>"
      ]
     },
     "metadata": {},
     "output_type": "display_data"
    }
   ],
   "source": [
    "plt.subplots(figsize=(8,5))\n",
    "la_vect_df.sum().nlargest(10).plot(kind='barh', color='teal', fontsize=15)\n",
    "plt.title('Top 10 Most Frequent Words - Legal Advice');\n",
    "plt.xticks(rotation=45);"
   ]
  },
  {
   "cell_type": "code",
   "execution_count": 23,
   "metadata": {},
   "outputs": [],
   "source": [
    "nsq_df = df[df['subreddit']=='NoStupidQuestions']\n",
    "nsq_to_vect = nsq_df['alltext_clean']\n",
    "nsq_vect = cvect.fit_transform(nsq_to_vect)\n",
    "nsq_vect_df = pd.DataFrame(nsq_vect.toarray(), columns=cvect.get_feature_names())"
   ]
  },
  {
   "cell_type": "code",
   "execution_count": 25,
   "metadata": {},
   "outputs": [
    {
     "data": {
      "image/png": "[encoded data removed]",
      "text/plain": [
       "<Figure size 576x360 with 1 Axes>"
      ]
     },
     "metadata": {},
     "output_type": "display_data"
    }
   ],
   "source": [
    "plt.subplots(figsize=(8,5))\n",
    "nsq_vect_df.sum().nlargest(10).plot(kind='barh', color='teal', fontsize=15)\n",
    "plt.title('Top 10 Most Frequent Words - No Stupid Questions');\n",
    "plt.xticks(rotation=45);"
   ]
  },
  {
   "cell_type": "markdown",
   "metadata": {},
   "source": [
    "**Word Frequency:** In the two plots above, we can see that these two subreddits have a few words in common: like, don (probably don’t), time, know, and just. There aren't many words that act as obvious separators between the two. It is notable that Legal Advice frequencies are quite a bit higher - top 10 words occur at least 10,000 times, but for No Stupid Questions there aren’t any words that appear over 10,000 times. This is likely affected by the overall word count from 2 slides ago.\n"
   ]
  }
 ],
 "metadata": {
  "kernelspec": {
   "display_name": "Python 3",
   "language": "python",
   "name": "python3"
  },
  "language_info": {
   "codemirror_mode": {
    "name": "ipython",
    "version": 3
   },
   "file_extension": ".py",
   "mimetype": "text/x-python",
   "name": "python",
   "nbconvert_exporter": "python",
   "pygments_lexer": "ipython3",
   "version": "3.8.3"
  }
 },
 "nbformat": 4,
 "nbformat_minor": 4
}
