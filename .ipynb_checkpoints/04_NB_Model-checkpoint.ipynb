{
 "cells": [
  {
   "cell_type": "markdown",
   "metadata": {},
   "source": [
    "# Project 3: Reddit Scrape"
   ]
  },
  {
   "cell_type": "markdown",
   "metadata": {},
   "source": [
    "### Problem Statement\n",
    "\n",
    "Reddit calls itself the front page of the internet. Reddit is made up of several internet communities called subreddits. One very popular use of Reddit is asking questions. The Legal Advice subreddit (r/legaladvice) is a community for asking basic legal questions and the explanation of basic legal concepts. No Such Thing as Stupid Questions subreddit (r/nostupidquestions) is a judgement-free zone for all of the questions that you may be too embarassed to ask. Both of these subreddits are communities for users who have questions that they feel most comfortable turning to the internet to. This project will combine web scraping using an API, Natural Language Processing, and classification modeling to determine which subreddit is the origin of each post. \n",
    "\n",
    "\n",
    "### Executive Summary\n",
    "- Data collection using .py script\n",
    "- impute missing values as \"blank\", combine text and title columns (many questions are just asked in title, some carry over, want to capture all text)\n",
    "- Preprocessing: cvect, tfidf\n",
    "- Modeling: Naive Bayes, basic forms of other models, pick a model from there\n",
    "- \n",
    "\n",
    "### Contents\n",
    "- Data Collection\n",
    "- Data Cleaning \n",
    "- Feature Engineering\n",
    "- EDA\n",
    "- Preprocessing & Modeling\n",
    "- Evaluation and Conceptual Understanding\n",
    "- Conclusion and Recommendations"
   ]
  },
  {
   "cell_type": "markdown",
   "metadata": {},
   "source": [
    "### Data Collection\n",
    "\n",
    "Data collection was performed using the \"reddit_pull_claire.py\" file. I used this Python script to scrape two subreddits for comparison: r/legaladvice and r/NoStupidQuestions. I pulled 30,000 submissions from each subreddit page. This was executed using a function designed to pull 100 comments at a time, with a 30 second sleep time in between each pull. This function was iterated over 300 times for each subreddit, creating two dataframes. These were then concatenated and exported to csv."
   ]
  },
  {
   "cell_type": "code",
   "execution_count": 1,
   "metadata": {},
   "outputs": [],
   "source": [
    "import matplotlib.pyplot as plt\n",
    "import numpy as np\n",
    "import pandas as pd\n",
    "import seaborn as sns\n",
    "import re\n",
    "\n",
    "from sklearn.naive_bayes import MultinomialNB\n",
    "from sklearn.model_selection import train_test_split, GridSearchCV\n",
    "from sklearn.linear_model import LogisticRegression\n",
    "from sklearn.svm import SVC\n",
    "from sklearn.neighbors import KNeighborsClassifier\n",
    "from sklearn.tree import DecisionTreeClassifier\n",
    "from sklearn.ensemble import BaggingClassifier, RandomForestClassifier, AdaBoostClassifier\n",
    "from sklearn.feature_extraction.text import CountVectorizer, TfidfVectorizer\n",
    "from sklearn.pipeline import make_pipeline\n",
    "from textblob import TextBlob\n",
    "from vaderSentiment.vaderSentiment import SentimentIntensityAnalyzer\n",
    "from nltk.stem import WordNetLemmatizer\n",
    "from nltk.corpus import stopwords"
   ]
  },
  {
   "cell_type": "code",
   "execution_count": 2,
   "metadata": {},
   "outputs": [],
   "source": [
    "df = pd.read_csv('./data/legal_nsq_clean.csv')"
   ]
  },
  {
   "cell_type": "code",
   "execution_count": 3,
   "metadata": {},
   "outputs": [
    {
     "data": {
      "text/html": [
       "<div>\n",
       "<style scoped>\n",
       "    .dataframe tbody tr th:only-of-type {\n",
       "        vertical-align: middle;\n",
       "    }\n",
       "\n",
       "    .dataframe tbody tr th {\n",
       "        vertical-align: top;\n",
       "    }\n",
       "\n",
       "    .dataframe thead th {\n",
       "        text-align: right;\n",
       "    }\n",
       "</style>\n",
       "<table border=\"1\" class=\"dataframe\">\n",
       "  <thead>\n",
       "    <tr style=\"text-align: right;\">\n",
       "      <th></th>\n",
       "      <th>title</th>\n",
       "      <th>created_utc</th>\n",
       "      <th>selftext</th>\n",
       "      <th>subreddit</th>\n",
       "      <th>author</th>\n",
       "      <th>media_only</th>\n",
       "      <th>permalink</th>\n",
       "      <th>clean_text</th>\n",
       "      <th>clean_title</th>\n",
       "      <th>alltext_clean</th>\n",
       "      <th>alltext_word_count</th>\n",
       "      <th>title_word_count</th>\n",
       "      <th>selftext_word_count</th>\n",
       "    </tr>\n",
       "  </thead>\n",
       "  <tbody>\n",
       "    <tr>\n",
       "      <th>0</th>\n",
       "      <td>My ex gf refuses to reclaim her items from my ...</td>\n",
       "      <td>1601524380</td>\n",
       "      <td>About a week ago I ended a moderately long rel...</td>\n",
       "      <td>legaladvice</td>\n",
       "      <td>Gtormund51</td>\n",
       "      <td>False</td>\n",
       "      <td>/r/legaladvice/comments/j31aqq/my_ex_gf_refuse...</td>\n",
       "      <td>About a week ago I ended a moderately long rel...</td>\n",
       "      <td>My ex gf refuses to reclaim her items from my ...</td>\n",
       "      <td>My ex gf refuses to reclaim her items from my ...</td>\n",
       "      <td>139</td>\n",
       "      <td>23</td>\n",
       "      <td>116</td>\n",
       "    </tr>\n",
       "    <tr>\n",
       "      <th>1</th>\n",
       "      <td>A car is advertised for $18,000 lower than MSR...</td>\n",
       "      <td>1601524283</td>\n",
       "      <td>So I'm looking for a new car and I stumbled up...</td>\n",
       "      <td>legaladvice</td>\n",
       "      <td>hustlegoat</td>\n",
       "      <td>False</td>\n",
       "      <td>/r/legaladvice/comments/j319w1/a_car_is_advert...</td>\n",
       "      <td>So I m looking for a new car and I stumbled up...</td>\n",
       "      <td>A car is advertised for 18 000 lower than MSRP...</td>\n",
       "      <td>A car is advertised for 18 000 lower than MSRP...</td>\n",
       "      <td>111</td>\n",
       "      <td>21</td>\n",
       "      <td>90</td>\n",
       "    </tr>\n",
       "  </tbody>\n",
       "</table>\n",
       "</div>"
      ],
      "text/plain": [
       "                                               title  created_utc  \\\n",
       "0  My ex gf refuses to reclaim her items from my ...   1601524380   \n",
       "1  A car is advertised for $18,000 lower than MSR...   1601524283   \n",
       "\n",
       "                                            selftext    subreddit      author  \\\n",
       "0  About a week ago I ended a moderately long rel...  legaladvice  Gtormund51   \n",
       "1  So I'm looking for a new car and I stumbled up...  legaladvice  hustlegoat   \n",
       "\n",
       "   media_only                                          permalink  \\\n",
       "0       False  /r/legaladvice/comments/j31aqq/my_ex_gf_refuse...   \n",
       "1       False  /r/legaladvice/comments/j319w1/a_car_is_advert...   \n",
       "\n",
       "                                          clean_text  \\\n",
       "0  About a week ago I ended a moderately long rel...   \n",
       "1  So I m looking for a new car and I stumbled up...   \n",
       "\n",
       "                                         clean_title  \\\n",
       "0  My ex gf refuses to reclaim her items from my ...   \n",
       "1  A car is advertised for 18 000 lower than MSRP...   \n",
       "\n",
       "                                       alltext_clean  alltext_word_count  \\\n",
       "0  My ex gf refuses to reclaim her items from my ...                 139   \n",
       "1  A car is advertised for 18 000 lower than MSRP...                 111   \n",
       "\n",
       "   title_word_count  selftext_word_count  \n",
       "0                23                  116  \n",
       "1                21                   90  "
      ]
     },
     "execution_count": 3,
     "metadata": {},
     "output_type": "execute_result"
    }
   ],
   "source": [
    "df.head(2)"
   ]
  },
  {
   "cell_type": "code",
   "execution_count": 4,
   "metadata": {},
   "outputs": [
    {
     "name": "stdout",
     "output_type": "stream",
     "text": [
      "<class 'pandas.core.frame.DataFrame'>\n",
      "RangeIndex: 55713 entries, 0 to 55712\n",
      "Data columns (total 13 columns):\n",
      " #   Column               Non-Null Count  Dtype \n",
      "---  ------               --------------  ----- \n",
      " 0   title                55713 non-null  object\n",
      " 1   created_utc          55713 non-null  int64 \n",
      " 2   selftext             55713 non-null  object\n",
      " 3   subreddit            55713 non-null  object\n",
      " 4   author               55713 non-null  object\n",
      " 5   media_only           55713 non-null  bool  \n",
      " 6   permalink            55713 non-null  object\n",
      " 7   clean_text           55713 non-null  object\n",
      " 8   clean_title          55713 non-null  object\n",
      " 9   alltext_clean        55713 non-null  object\n",
      " 10  alltext_word_count   55713 non-null  int64 \n",
      " 11  title_word_count     55713 non-null  int64 \n",
      " 12  selftext_word_count  55713 non-null  int64 \n",
      "dtypes: bool(1), int64(4), object(8)\n",
      "memory usage: 5.2+ MB\n"
     ]
    }
   ],
   "source": [
    "df.info()"
   ]
  },
  {
   "cell_type": "code",
   "execution_count": 5,
   "metadata": {},
   "outputs": [],
   "source": [
    "df['subreddit'], names = pd.factorize(df['subreddit'])"
   ]
  },
  {
   "cell_type": "code",
   "execution_count": 6,
   "metadata": {},
   "outputs": [],
   "source": [
    "X = df['clean_text']\n",
    "y = df['subreddit']"
   ]
  },
  {
   "cell_type": "code",
   "execution_count": 7,
   "metadata": {},
   "outputs": [
    {
     "data": {
      "text/plain": [
       "0    About a week ago I ended a moderately long rel...\n",
       "1    So I m looking for a new car and I stumbled up...\n",
       "2    I m an essential worker I work part time My co...\n",
       "3    28F engaged to a 31M we ll refer to him as M b...\n",
       "4    Can I be sued for using a common phrase someth...\n",
       "Name: clean_text, dtype: object"
      ]
     },
     "execution_count": 7,
     "metadata": {},
     "output_type": "execute_result"
    }
   ],
   "source": [
    "X.head()"
   ]
  },
  {
   "cell_type": "code",
   "execution_count": 8,
   "metadata": {},
   "outputs": [
    {
     "data": {
      "text/plain": [
       "<bound method NDFrame.head of 0        0\n",
       "1        0\n",
       "2        0\n",
       "3        0\n",
       "4        0\n",
       "        ..\n",
       "55708    1\n",
       "55709    1\n",
       "55710    1\n",
       "55711    1\n",
       "55712    1\n",
       "Name: subreddit, Length: 55713, dtype: int64>"
      ]
     },
     "execution_count": 8,
     "metadata": {},
     "output_type": "execute_result"
    }
   ],
   "source": [
    "y.head"
   ]
  },
  {
   "cell_type": "code",
   "execution_count": 9,
   "metadata": {},
   "outputs": [],
   "source": [
    "X_train, X_test, y_train, y_test = train_test_split(X, y, random_state=22)"
   ]
  },
  {
   "cell_type": "code",
   "execution_count": 10,
   "metadata": {},
   "outputs": [
    {
     "data": {
      "text/plain": [
       "(41784,)"
      ]
     },
     "execution_count": 10,
     "metadata": {},
     "output_type": "execute_result"
    }
   ],
   "source": [
    "X_train.shape"
   ]
  },
  {
   "cell_type": "code",
   "execution_count": 11,
   "metadata": {},
   "outputs": [
    {
     "data": {
      "text/plain": [
       "(41784,)"
      ]
     },
     "execution_count": 11,
     "metadata": {},
     "output_type": "execute_result"
    }
   ],
   "source": [
    "y_train.shape"
   ]
  },
  {
   "cell_type": "code",
   "execution_count": 12,
   "metadata": {},
   "outputs": [],
   "source": [
    "nbayes = MultinomialNB()\n",
    "cvect = CountVectorizer(stop_words='english')"
   ]
  },
  {
   "cell_type": "code",
   "execution_count": 13,
   "metadata": {},
   "outputs": [],
   "source": [
    "X_train_vect = cvect.fit_transform(X_train)"
   ]
  },
  {
   "cell_type": "code",
   "execution_count": 14,
   "metadata": {},
   "outputs": [],
   "source": [
    "X_train_df = pd.DataFrame(X_train_vect.toarray(), columns=cvect.get_feature_names())"
   ]
  },
  {
   "cell_type": "code",
   "execution_count": 15,
   "metadata": {},
   "outputs": [
    {
     "data": {
      "text/html": [
       "<div>\n",
       "<style scoped>\n",
       "    .dataframe tbody tr th:only-of-type {\n",
       "        vertical-align: middle;\n",
       "    }\n",
       "\n",
       "    .dataframe tbody tr th {\n",
       "        vertical-align: top;\n",
       "    }\n",
       "\n",
       "    .dataframe thead th {\n",
       "        text-align: right;\n",
       "    }\n",
       "</style>\n",
       "<table border=\"1\" class=\"dataframe\">\n",
       "  <thead>\n",
       "    <tr style=\"text-align: right;\">\n",
       "      <th></th>\n",
       "      <th>00</th>\n",
       "      <th>000</th>\n",
       "      <th>0000</th>\n",
       "      <th>000000298023224ft</th>\n",
       "      <th>00001</th>\n",
       "      <th>00002511</th>\n",
       "      <th>00008</th>\n",
       "      <th>0001</th>\n",
       "      <th>000ish</th>\n",
       "      <th>000k</th>\n",
       "      <th>...</th>\n",
       "      <th>zwei</th>\n",
       "      <th>zwischen</th>\n",
       "      <th>zxuwbfle1sy</th>\n",
       "      <th>zykkqg2</th>\n",
       "      <th>zymun</th>\n",
       "      <th>zyprexa</th>\n",
       "      <th>zyslyat</th>\n",
       "      <th>zzevbq4pp1wrbl4</th>\n",
       "      <th>zzz</th>\n",
       "      <th>zzzquil</th>\n",
       "    </tr>\n",
       "  </thead>\n",
       "  <tbody>\n",
       "    <tr>\n",
       "      <th>0</th>\n",
       "      <td>0</td>\n",
       "      <td>0</td>\n",
       "      <td>0</td>\n",
       "      <td>0</td>\n",
       "      <td>0</td>\n",
       "      <td>0</td>\n",
       "      <td>0</td>\n",
       "      <td>0</td>\n",
       "      <td>0</td>\n",
       "      <td>0</td>\n",
       "      <td>...</td>\n",
       "      <td>0</td>\n",
       "      <td>0</td>\n",
       "      <td>0</td>\n",
       "      <td>0</td>\n",
       "      <td>0</td>\n",
       "      <td>0</td>\n",
       "      <td>0</td>\n",
       "      <td>0</td>\n",
       "      <td>0</td>\n",
       "      <td>0</td>\n",
       "    </tr>\n",
       "    <tr>\n",
       "      <th>1</th>\n",
       "      <td>0</td>\n",
       "      <td>0</td>\n",
       "      <td>0</td>\n",
       "      <td>0</td>\n",
       "      <td>0</td>\n",
       "      <td>0</td>\n",
       "      <td>0</td>\n",
       "      <td>0</td>\n",
       "      <td>0</td>\n",
       "      <td>0</td>\n",
       "      <td>...</td>\n",
       "      <td>0</td>\n",
       "      <td>0</td>\n",
       "      <td>0</td>\n",
       "      <td>0</td>\n",
       "      <td>0</td>\n",
       "      <td>0</td>\n",
       "      <td>0</td>\n",
       "      <td>0</td>\n",
       "      <td>0</td>\n",
       "      <td>0</td>\n",
       "    </tr>\n",
       "  </tbody>\n",
       "</table>\n",
       "<p>2 rows × 48061 columns</p>\n",
       "</div>"
      ],
      "text/plain": [
       "   00  000  0000  000000298023224ft  00001  00002511  00008  0001  000ish  \\\n",
       "0   0    0     0                  0      0         0      0     0       0   \n",
       "1   0    0     0                  0      0         0      0     0       0   \n",
       "\n",
       "   000k  ...  zwei  zwischen  zxuwbfle1sy  zykkqg2  zymun  zyprexa  zyslyat  \\\n",
       "0     0  ...     0         0            0        0      0        0        0   \n",
       "1     0  ...     0         0            0        0      0        0        0   \n",
       "\n",
       "   zzevbq4pp1wrbl4  zzz  zzzquil  \n",
       "0                0    0        0  \n",
       "1                0    0        0  \n",
       "\n",
       "[2 rows x 48061 columns]"
      ]
     },
     "execution_count": 15,
     "metadata": {},
     "output_type": "execute_result"
    }
   ],
   "source": [
    "X_train_df.head(2)"
   ]
  },
  {
   "cell_type": "code",
   "execution_count": 16,
   "metadata": {},
   "outputs": [],
   "source": [
    "X_test_vect = cvect.transform(X_test)"
   ]
  },
  {
   "cell_type": "code",
   "execution_count": 17,
   "metadata": {},
   "outputs": [],
   "source": [
    "X_test_df = pd.DataFrame(X_test_vect.toarray(), columns=cvect.get_feature_names())"
   ]
  },
  {
   "cell_type": "code",
   "execution_count": 18,
   "metadata": {},
   "outputs": [
    {
     "data": {
      "text/html": [
       "<div>\n",
       "<style scoped>\n",
       "    .dataframe tbody tr th:only-of-type {\n",
       "        vertical-align: middle;\n",
       "    }\n",
       "\n",
       "    .dataframe tbody tr th {\n",
       "        vertical-align: top;\n",
       "    }\n",
       "\n",
       "    .dataframe thead th {\n",
       "        text-align: right;\n",
       "    }\n",
       "</style>\n",
       "<table border=\"1\" class=\"dataframe\">\n",
       "  <thead>\n",
       "    <tr style=\"text-align: right;\">\n",
       "      <th></th>\n",
       "      <th>00</th>\n",
       "      <th>000</th>\n",
       "      <th>0000</th>\n",
       "      <th>000000298023224ft</th>\n",
       "      <th>00001</th>\n",
       "      <th>00002511</th>\n",
       "      <th>00008</th>\n",
       "      <th>0001</th>\n",
       "      <th>000ish</th>\n",
       "      <th>000k</th>\n",
       "      <th>...</th>\n",
       "      <th>zwei</th>\n",
       "      <th>zwischen</th>\n",
       "      <th>zxuwbfle1sy</th>\n",
       "      <th>zykkqg2</th>\n",
       "      <th>zymun</th>\n",
       "      <th>zyprexa</th>\n",
       "      <th>zyslyat</th>\n",
       "      <th>zzevbq4pp1wrbl4</th>\n",
       "      <th>zzz</th>\n",
       "      <th>zzzquil</th>\n",
       "    </tr>\n",
       "  </thead>\n",
       "  <tbody>\n",
       "    <tr>\n",
       "      <th>0</th>\n",
       "      <td>0</td>\n",
       "      <td>0</td>\n",
       "      <td>0</td>\n",
       "      <td>0</td>\n",
       "      <td>0</td>\n",
       "      <td>0</td>\n",
       "      <td>0</td>\n",
       "      <td>0</td>\n",
       "      <td>0</td>\n",
       "      <td>0</td>\n",
       "      <td>...</td>\n",
       "      <td>0</td>\n",
       "      <td>0</td>\n",
       "      <td>0</td>\n",
       "      <td>0</td>\n",
       "      <td>0</td>\n",
       "      <td>0</td>\n",
       "      <td>0</td>\n",
       "      <td>0</td>\n",
       "      <td>0</td>\n",
       "      <td>0</td>\n",
       "    </tr>\n",
       "    <tr>\n",
       "      <th>1</th>\n",
       "      <td>0</td>\n",
       "      <td>0</td>\n",
       "      <td>0</td>\n",
       "      <td>0</td>\n",
       "      <td>0</td>\n",
       "      <td>0</td>\n",
       "      <td>0</td>\n",
       "      <td>0</td>\n",
       "      <td>0</td>\n",
       "      <td>0</td>\n",
       "      <td>...</td>\n",
       "      <td>0</td>\n",
       "      <td>0</td>\n",
       "      <td>0</td>\n",
       "      <td>0</td>\n",
       "      <td>0</td>\n",
       "      <td>0</td>\n",
       "      <td>0</td>\n",
       "      <td>0</td>\n",
       "      <td>0</td>\n",
       "      <td>0</td>\n",
       "    </tr>\n",
       "    <tr>\n",
       "      <th>2</th>\n",
       "      <td>0</td>\n",
       "      <td>0</td>\n",
       "      <td>0</td>\n",
       "      <td>0</td>\n",
       "      <td>0</td>\n",
       "      <td>0</td>\n",
       "      <td>0</td>\n",
       "      <td>0</td>\n",
       "      <td>0</td>\n",
       "      <td>0</td>\n",
       "      <td>...</td>\n",
       "      <td>0</td>\n",
       "      <td>0</td>\n",
       "      <td>0</td>\n",
       "      <td>0</td>\n",
       "      <td>0</td>\n",
       "      <td>0</td>\n",
       "      <td>0</td>\n",
       "      <td>0</td>\n",
       "      <td>0</td>\n",
       "      <td>0</td>\n",
       "    </tr>\n",
       "    <tr>\n",
       "      <th>3</th>\n",
       "      <td>0</td>\n",
       "      <td>0</td>\n",
       "      <td>0</td>\n",
       "      <td>0</td>\n",
       "      <td>0</td>\n",
       "      <td>0</td>\n",
       "      <td>0</td>\n",
       "      <td>0</td>\n",
       "      <td>0</td>\n",
       "      <td>0</td>\n",
       "      <td>...</td>\n",
       "      <td>0</td>\n",
       "      <td>0</td>\n",
       "      <td>0</td>\n",
       "      <td>0</td>\n",
       "      <td>0</td>\n",
       "      <td>0</td>\n",
       "      <td>0</td>\n",
       "      <td>0</td>\n",
       "      <td>0</td>\n",
       "      <td>0</td>\n",
       "    </tr>\n",
       "    <tr>\n",
       "      <th>4</th>\n",
       "      <td>0</td>\n",
       "      <td>0</td>\n",
       "      <td>0</td>\n",
       "      <td>0</td>\n",
       "      <td>0</td>\n",
       "      <td>0</td>\n",
       "      <td>0</td>\n",
       "      <td>0</td>\n",
       "      <td>0</td>\n",
       "      <td>0</td>\n",
       "      <td>...</td>\n",
       "      <td>0</td>\n",
       "      <td>0</td>\n",
       "      <td>0</td>\n",
       "      <td>0</td>\n",
       "      <td>0</td>\n",
       "      <td>0</td>\n",
       "      <td>0</td>\n",
       "      <td>0</td>\n",
       "      <td>0</td>\n",
       "      <td>0</td>\n",
       "    </tr>\n",
       "  </tbody>\n",
       "</table>\n",
       "<p>5 rows × 48061 columns</p>\n",
       "</div>"
      ],
      "text/plain": [
       "   00  000  0000  000000298023224ft  00001  00002511  00008  0001  000ish  \\\n",
       "0   0    0     0                  0      0         0      0     0       0   \n",
       "1   0    0     0                  0      0         0      0     0       0   \n",
       "2   0    0     0                  0      0         0      0     0       0   \n",
       "3   0    0     0                  0      0         0      0     0       0   \n",
       "4   0    0     0                  0      0         0      0     0       0   \n",
       "\n",
       "   000k  ...  zwei  zwischen  zxuwbfle1sy  zykkqg2  zymun  zyprexa  zyslyat  \\\n",
       "0     0  ...     0         0            0        0      0        0        0   \n",
       "1     0  ...     0         0            0        0      0        0        0   \n",
       "2     0  ...     0         0            0        0      0        0        0   \n",
       "3     0  ...     0         0            0        0      0        0        0   \n",
       "4     0  ...     0         0            0        0      0        0        0   \n",
       "\n",
       "   zzevbq4pp1wrbl4  zzz  zzzquil  \n",
       "0                0    0        0  \n",
       "1                0    0        0  \n",
       "2                0    0        0  \n",
       "3                0    0        0  \n",
       "4                0    0        0  \n",
       "\n",
       "[5 rows x 48061 columns]"
      ]
     },
     "execution_count": 18,
     "metadata": {},
     "output_type": "execute_result"
    }
   ],
   "source": [
    "X_test_df.head()"
   ]
  },
  {
   "cell_type": "code",
   "execution_count": 19,
   "metadata": {},
   "outputs": [],
   "source": [
    "def split_lem(text):\n",
    "    text = text.lower()\n",
    "    lem = WordNetLemmatizer()\n",
    "    return ' '.join([lem.lemmatize(word) for word in text.split()])"
   ]
  },
  {
   "cell_type": "code",
   "execution_count": 23,
   "metadata": {},
   "outputs": [
    {
     "name": "stdout",
     "output_type": "stream",
     "text": [
      "Training score:  0.9300689259046525\n",
      "Testing score:  0.913130878024266\n",
      "Best parameters:  {'countvectorizer__min_df': 5, 'countvectorizer__ngram_range': (1, 2), 'countvectorizer__preprocessor': None, 'countvectorizer__stop_words': ['i', 'me', 'my', 'myself', 'we', 'our', 'ours', 'ourselves', 'you', \"you're\", \"you've\", \"you'll\", \"you'd\", 'your', 'yours', 'yourself', 'yourselves', 'he', 'him', 'his', 'himself', 'she', \"she's\", 'her', 'hers', 'herself', 'it', \"it's\", 'its', 'itself', 'they', 'them', 'their', 'theirs', 'themselves', 'what', 'which', 'who', 'whom', 'this', 'that', \"that'll\", 'these', 'those', 'am', 'is', 'are', 'was', 'were', 'be', 'been', 'being', 'have', 'has', 'had', 'having', 'do', 'does', 'did', 'doing', 'a', 'an', 'the', 'and', 'but', 'if', 'or', 'because', 'as', 'until', 'while', 'of', 'at', 'by', 'for', 'with', 'about', 'against', 'between', 'into', 'through', 'during', 'before', 'after', 'above', 'below', 'to', 'from', 'up', 'down', 'in', 'out', 'on', 'off', 'over', 'under', 'again', 'further', 'then', 'once', 'here', 'there', 'when', 'where', 'why', 'how', 'all', 'any', 'both', 'each', 'few', 'more', 'most', 'other', 'some', 'such', 'no', 'nor', 'not', 'only', 'own', 'same', 'so', 'than', 'too', 'very', 's', 't', 'can', 'will', 'just', 'don', \"don't\", 'should', \"should've\", 'now', 'd', 'll', 'm', 'o', 're', 've', 'y', 'ain', 'aren', \"aren't\", 'couldn', \"couldn't\", 'didn', \"didn't\", 'doesn', \"doesn't\", 'hadn', \"hadn't\", 'hasn', \"hasn't\", 'haven', \"haven't\", 'isn', \"isn't\", 'ma', 'mightn', \"mightn't\", 'mustn', \"mustn't\", 'needn', \"needn't\", 'shan', \"shan't\", 'shouldn', \"shouldn't\", 'wasn', \"wasn't\", 'weren', \"weren't\", 'won', \"won't\", 'wouldn', \"wouldn't\"]}\n"
     ]
    }
   ],
   "source": [
    "pipe = make_pipeline(CountVectorizer(), MultinomialNB())\n",
    "\n",
    "params = {\n",
    "    'countvectorizer__ngram_range': [(1,1), (1,2), (1,3)],\n",
    "    'countvectorizer__min_df': [5, .05],\n",
    "    'countvectorizer__preprocessor': [None, split_lem],\n",
    "    'countvectorizer__stop_words': ['english', stopwords.words('english')]\n",
    "}\n",
    "\n",
    "grid = GridSearchCV(pipe, params, n_jobs=-1)\n",
    "\n",
    "grid.fit(X_train, y_train)\n",
    "\n",
    "print('Training score: ', grid.score(X_train, y_train))\n",
    "print('Testing score: ', grid.score(X_test, y_test))\n",
    "print('Best parameters: ', grid.best_params_)"
   ]
  },
  {
   "cell_type": "code",
   "execution_count": 25,
   "metadata": {},
   "outputs": [
    {
     "name": "stdout",
     "output_type": "stream",
     "text": [
      "Training score:  0.9135793605207735\n",
      "Testing score:  0.8998492354081413\n",
      "Best parameters:  {'tfidfvectorizer__min_df': 5, 'tfidfvectorizer__ngram_range': (1, 1), 'tfidfvectorizer__preprocessor': None, 'tfidfvectorizer__stop_words': 'english'}\n"
     ]
    }
   ],
   "source": [
    "pipe = make_pipeline(TfidfVectorizer(), MultinomialNB())\n",
    "\n",
    "params = {\n",
    "    'tfidfvectorizer__ngram_range': [(1,1), (1,2), (1,3)],\n",
    "    'tfidfvectorizer__min_df': [5, .05],\n",
    "    'tfidfvectorizer__preprocessor': [None, split_lem],\n",
    "    'tfidfvectorizer__stop_words': ['english', stopwords.words('english')]\n",
    "}\n",
    "\n",
    "grid = GridSearchCV(pipe, params, n_jobs=-1)\n",
    "\n",
    "grid.fit(X_train, y_train)\n",
    "\n",
    "print('Training score: ', grid.score(X_train, y_train))\n",
    "print('Testing score: ', grid.score(X_test, y_test))\n",
    "print('Best parameters: ', grid.best_params_)"
   ]
  },
  {
   "cell_type": "code",
   "execution_count": null,
   "metadata": {},
   "outputs": [],
   "source": []
  },
  {
   "cell_type": "code",
   "execution_count": 68,
   "metadata": {},
   "outputs": [
    {
     "data": {
      "text/plain": [
       "MultinomialNB()"
      ]
     },
     "execution_count": 68,
     "metadata": {},
     "output_type": "execute_result"
    }
   ],
   "source": [
    "nbayes.fit(X_train_vect, y_train)"
   ]
  },
  {
   "cell_type": "code",
   "execution_count": 69,
   "metadata": {},
   "outputs": [
    {
     "data": {
      "text/plain": [
       "0.923056672410492"
      ]
     },
     "execution_count": 69,
     "metadata": {},
     "output_type": "execute_result"
    }
   ],
   "source": [
    "nbayes.score(X_train_vect, y_train)"
   ]
  },
  {
   "cell_type": "code",
   "execution_count": 70,
   "metadata": {},
   "outputs": [
    {
     "data": {
      "text/plain": [
       "0.9076746356522364"
      ]
     },
     "execution_count": 70,
     "metadata": {},
     "output_type": "execute_result"
    }
   ],
   "source": [
    "nbayes.score(X_test_vect, y_test)"
   ]
  },
  {
   "cell_type": "code",
   "execution_count": 29,
   "metadata": {},
   "outputs": [
    {
     "data": {
      "text/plain": [
       "Text(0.5, 1.0, 'Top 15 Most Frequent Words')"
      ]
     },
     "execution_count": 29,
     "metadata": {},
     "output_type": "execute_result"
    },
    {
     "data": {
      "image/png": "[encoded data removed]",
      "text/plain": [
       "<Figure size 576x396 with 1 Axes>"
      ]
     },
     "metadata": {},
     "output_type": "display_data"
    }
   ],
   "source": [
    "plt.style.use('ggplot')\n",
    "X_train_df.sum().nlargest(15).plot(kind='bar')\n",
    "plt.title('Top 15 Most Frequent Words')\n",
    "plt.xticks(rotation=45);"
   ]
  },
  {
   "cell_type": "code",
   "execution_count": 83,
   "metadata": {},
   "outputs": [
    {
     "data": {
      "image/png": "[encoded data removed]",
      "text/plain": [
       "<Figure size 576x396 with 1 Axes>"
      ]
     },
     "metadata": {},
     "output_type": "display_data"
    }
   ],
   "source": [
    "X_train_df[X_train_df['subreddit']==0].sum().nlargest(15).plot(kind='bar');"
   ]
  },
  {
   "cell_type": "code",
   "execution_count": 84,
   "metadata": {},
   "outputs": [
    {
     "data": {
      "image/png": "[encoded data removed]",
      "text/plain": [
       "<Figure size 576x396 with 1 Axes>"
      ]
     },
     "metadata": {},
     "output_type": "display_data"
    }
   ],
   "source": [
    "X_train_df[X_train_df['subreddit']==1].sum().nlargest(15).plot(kind='bar');"
   ]
  },
  {
   "cell_type": "code",
   "execution_count": 48,
   "metadata": {},
   "outputs": [
    {
     "name": "stderr",
     "output_type": "stream",
     "text": [
      "/Users/claireph/opt/anaconda3/lib/python3.8/site-packages/sklearn/utils/deprecation.py:143: FutureWarning: The sklearn.metrics.classification module is  deprecated in version 0.22 and will be removed in version 0.24. The corresponding classes / functions should instead be imported from sklearn.metrics. Anything that cannot be imported from sklearn.metrics is now part of the private API.\n",
      "  warnings.warn(message, FutureWarning)\n"
     ]
    }
   ],
   "source": [
    "from yellowbrick.classifier import ROCAUC"
   ]
  },
  {
   "cell_type": "code",
   "execution_count": 49,
   "metadata": {},
   "outputs": [
    {
     "name": "stderr",
     "output_type": "stream",
     "text": [
      "/Users/claireph/opt/anaconda3/lib/python3.8/site-packages/sklearn/base.py:209: FutureWarning: From version 0.24, get_params will raise an AttributeError if a parameter cannot be retrieved as an instance attribute. Previously it would return None.\n",
      "  warnings.warn('From version 0.24, get_params will raise an '\n"
     ]
    },
    {
     "data": {
      "image/png": "[encoded data removed]",
      "text/plain": [
       "<Figure size 576x396 with 1 Axes>"
      ]
     },
     "metadata": {},
     "output_type": "display_data"
    }
   ],
   "source": [
    "# idea provided by Alex Fioto\n",
    "rocauc_viz = ROCAUC(nbayes, classes=['legaladvice', 'nostupidquestions'])\n",
    "rocauc_viz.fit(X_train_df, y_train)\n",
    "rocauc_viz.score(X_test_df, y_test)\n",
    "rocauc_viz.show();"
   ]
  },
  {
   "cell_type": "code",
   "execution_count": 26,
   "metadata": {},
   "outputs": [
    {
     "name": "stderr",
     "output_type": "stream",
     "text": [
      "/Users/claireph/opt/anaconda3/lib/python3.8/site-packages/sklearn/utils/deprecation.py:143: FutureWarning: The sklearn.metrics.classification module is  deprecated in version 0.22 and will be removed in version 0.24. The corresponding classes / functions should instead be imported from sklearn.metrics. Anything that cannot be imported from sklearn.metrics is now part of the private API.\n",
      "  warnings.warn(message, FutureWarning)\n"
     ]
    },
    {
     "data": {
      "image/png": "[encoded data removed]",
      "text/plain": [
       "<Figure size 576x396 with 1 Axes>"
      ]
     },
     "metadata": {},
     "output_type": "display_data"
    }
   ],
   "source": [
    "from yellowbrick.text import FreqDistVisualizer\n",
    "vectorizer = CountVectorizer(stop_words = 'english', ngram_range=(1,2), min_df=5)\n",
    "docs       = vectorizer.fit_transform(X_train)\n",
    "features   = vectorizer.get_feature_names()\n",
    "visualizer = FreqDistVisualizer(features=features, orient='v')\n",
    "visualizer.fit(docs)\n",
    "visualizer.show();"
   ]
  },
  {
   "cell_type": "markdown",
   "metadata": {},
   "source": [
    "### Discovering Model 2"
   ]
  },
  {
   "cell_type": "code",
   "execution_count": 91,
   "metadata": {},
   "outputs": [],
   "source": [
    "lr = LogisticRegression(max_iter=10_000)\n",
    "knn = KNeighborsClassifier()\n",
    "dtc = DecisionTreeClassifier()\n",
    "bag = BaggingClassifier()\n",
    "rfc = RandomForestClassifier()\n",
    "ada = AdaBoostClassifier()\n",
    "svc = SVC()"
   ]
  },
  {
   "cell_type": "code",
   "execution_count": 45,
   "metadata": {},
   "outputs": [
    {
     "data": {
      "text/plain": [
       "LogisticRegression(max_iter=10000)"
      ]
     },
     "execution_count": 45,
     "metadata": {},
     "output_type": "execute_result"
    }
   ],
   "source": [
    "lr.fit(X_train_vect, y_train)"
   ]
  },
  {
   "cell_type": "code",
   "execution_count": null,
   "metadata": {},
   "outputs": [],
   "source": []
  },
  {
   "cell_type": "code",
   "execution_count": null,
   "metadata": {},
   "outputs": [],
   "source": []
  },
  {
   "cell_type": "code",
   "execution_count": null,
   "metadata": {},
   "outputs": [],
   "source": []
  },
  {
   "cell_type": "code",
   "execution_count": 89,
   "metadata": {},
   "outputs": [],
   "source": [
    "def multi_class(estimator):\n",
    "    estimator.fit(X_train_vect, y_train)\n",
    "    return f'Train score, {estimator}: {estimator.score(X_train_vect, y_train)}   \\nTest score, {estimator}: {estimator.score(X_test_vect, y_test)}'"
   ]
  },
  {
   "cell_type": "code",
   "execution_count": 92,
   "metadata": {},
   "outputs": [
    {
     "name": "stdout",
     "output_type": "stream",
     "text": [
      "Train score, LogisticRegression(max_iter=10000): 0.9874994069927416   \n",
      "Test score, LogisticRegression(max_iter=10000): 0.9402262862022344\n",
      "Train score, KNeighborsClassifier(): 0.7261729683571327   \n",
      "Test score, KNeighborsClassifier(): 0.6634882231551982\n",
      "Train score, DecisionTreeClassifier(): 0.9998339579676455   \n",
      "Test score, DecisionTreeClassifier(): 0.8814488009677649\n",
      "Train score, BaggingClassifier(): 0.9899663171877223   \n",
      "Test score, BaggingClassifier(): 0.9063545150501672\n",
      "Train score, RandomForestClassifier(): 0.9998339579676455   \n",
      "Test score, RandomForestClassifier(): 0.9286984985412368\n",
      "Train score, AdaBoostClassifier(): 0.8976706674889701   \n",
      "Test score, AdaBoostClassifier(): 0.8943997722906141\n",
      "Train score, SVC(): 0.9680487689169316   \n",
      "Test score, SVC(): 0.9417206290471786\n"
     ]
    }
   ],
   "source": [
    "estimators = [lr, knn, dtc, bag, rfc, ada, svc]\n",
    "\n",
    "for est in estimators:\n",
    "    print(multi_class(est))"
   ]
  },
  {
   "cell_type": "code",
   "execution_count": 86,
   "metadata": {},
   "outputs": [],
   "source": [
    "def split_lem(text):\n",
    "    text = text.lower()\n",
    "    lem = WordNetLemmatizer()\n",
    "    return ' '.join([lem.lemmatize(word) for word in text.split()])"
   ]
  },
  {
   "cell_type": "code",
   "execution_count": 87,
   "metadata": {},
   "outputs": [],
   "source": [
    "pipe = make_pipeline(\n",
    "    CountVectorizer(stop_words=stopwords.words('english'), min_df=5),\n",
    "    LogisticRegression(max_iter=10_000)\n",
    ")\n",
    "\n",
    "params = {\n",
    "    'countvectorizer__max_features': [30_000],\n",
    "    'countvectorizer__ngram_range': [(1,2)],\n",
    "    'countvectorizer__preprocessor': [split_lem]\n",
    "}\n",
    "\n",
    "grid = GridSearchCV(pipe, params, n_jobs=-1)"
   ]
  },
  {
   "cell_type": "code",
   "execution_count": 88,
   "metadata": {},
   "outputs": [
    {
     "name": "stderr",
     "output_type": "stream",
     "text": [
      "/Users/claireph/opt/anaconda3/lib/python3.8/site-packages/sklearn/feature_extraction/text.py:383: UserWarning: Your stop_words may be inconsistent with your preprocessing. Tokenizing the stop words generated tokens ['doe', 'ha', 'wa'] not in stop_words.\n",
      "  warnings.warn('Your stop_words may be inconsistent with '\n"
     ]
    },
    {
     "name": "stdout",
     "output_type": "stream",
     "text": [
      "Train score:  0.9939750462545661\n",
      "Test score:  0.9422899025119191\n"
     ]
    }
   ],
   "source": [
    "grid.fit(X_train, y_train)\n",
    "print(\"Train score: \", grid.score(X_train, y_train))\n",
    "print(\"Test score: \", grid.score(X_test, y_test))"
   ]
  },
  {
   "cell_type": "code",
   "execution_count": 56,
   "metadata": {},
   "outputs": [
    {
     "data": {
      "text/plain": [
       "{'countvectorizer__max_features': 30000,\n",
       " 'countvectorizer__ngram_range': (1, 2),\n",
       " 'countvectorizer__preprocessor': None}"
      ]
     },
     "execution_count": 56,
     "metadata": {},
     "output_type": "execute_result"
    }
   ],
   "source": [
    "grid.best_params_"
   ]
  },
  {
   "cell_type": "code",
   "execution_count": 67,
   "metadata": {},
   "outputs": [],
   "source": [
    "pipe2 = make_pipeline(\n",
    "    CountVectorizer(stop_words=stopwords.words('english')),\n",
    "    RandomForestClassifier()\n",
    ")\n",
    "\n",
    "params2 = {\n",
    "    'countvectorizer__max_features': [20_000, 30_000],\n",
    "    'countvectorizer__ngram_range': [(1,1), (1,2), (1,3)],\n",
    "    'countvectorizer__preprocessor': [split_lem],\n",
    "    'randomforestclassifier__n_estimators': [100,200,500],\n",
    "    'randomforestclassifier__max_depth': [ 5, 9, 15, 25],\n",
    "}\n",
    "\n",
    "grid2 = GridSearchCV(pipe2, params2, n_jobs=-1)"
   ]
  },
  {
   "cell_type": "code",
   "execution_count": null,
   "metadata": {},
   "outputs": [],
   "source": [
    "grid2.fit(X_train, y_train)\n",
    "print(\"Train score: \", grid.score(X_train, y_train))\n",
    "print(\"Test score: \", grid.score(X_test, y_test))"
   ]
  },
  {
   "cell_type": "code",
   "execution_count": null,
   "metadata": {},
   "outputs": [],
   "source": []
  }
 ],
 "metadata": {
  "kernelspec": {
   "display_name": "Python 3",
   "language": "python",
   "name": "python3"
  },
  "language_info": {
   "codemirror_mode": {
    "name": "ipython",
    "version": 3
   },
   "file_extension": ".py",
   "mimetype": "text/x-python",
   "name": "python",
   "nbconvert_exporter": "python",
   "pygments_lexer": "ipython3",
   "version": "3.8.3"
  }
 },
 "nbformat": 4,
 "nbformat_minor": 4
}
