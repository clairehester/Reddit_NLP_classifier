{
 "cells": [
  {
   "cell_type": "markdown",
   "metadata": {},
   "source": [
    "# Project 3: Reddit Scrape"
   ]
  },
  {
   "cell_type": "markdown",
   "metadata": {},
   "source": [
    "### Problem Statement\n",
    "\n",
    "Reddit calls itself the front page of the internet. Reddit is made up of several internet communities called subreddits. One very popular use of Reddit is asking questions. The Legal Advice subreddit (r/legaladvice) is a community for asking basic legal questions and the explanation of basic legal concepts. No Such Thing as Stupid Questions subreddit (r/nostupidquestions) is a judgement-free zone for all of the questions that you may be too embarassed to ask. Both of these subreddits are communities for users who have questions that they feel most comfortable turning to the internet to. This project will combine web scraping using an API, Natural Language Processing, and classification modeling to determine which subreddit is the origin of each post. \n",
    "\n",
    "\n",
    "### Executive Summary\n",
    "- Data collection using .py script\n",
    "- impute missing values as \"blank\", combine text and title columns (many questions are just asked in title, some carry over, want to capture all text)\n",
    "- Preprocessing: cvect, tfidf\n",
    "- Modeling: Naive Bayes, basic forms of other models, pick a model from there\n",
    "- \n",
    "\n",
    "### Contents\n",
    "- Data Collection\n",
    "- Data Cleaning \n",
    "- Feature Engineering\n",
    "- EDA\n",
    "- Preprocessing & Modeling\n",
    "- Evaluation and Conceptual Understanding\n",
    "- Conclusion and Recommendations"
   ]
  },
  {
   "cell_type": "markdown",
   "metadata": {},
   "source": [
    "### Data Collection\n",
    "\n",
    "Data collection was performed using the \"reddit_pull_claire.py\" file. I used this Python script to scrape two subreddits for comparison: r/legaladvice and r/NoStupidQuestions. I pulled 30,000 submissions from each subreddit page. This was executed using a function designed to pull 100 comments at a time, with a 30 second sleep time in between each pull. This function was iterated over 300 times for each subreddit, creating two dataframes. These were then concatenated and exported to csv."
   ]
  },
  {
   "cell_type": "code",
   "execution_count": 1,
   "metadata": {},
   "outputs": [],
   "source": [
    "import matplotlib.pyplot as plt\n",
    "import numpy as np\n",
    "import pandas as pd\n",
    "import seaborn as sns\n",
    "import re\n",
    "\n",
    "from sklearn.naive_bayes import MultinomialNB\n",
    "from sklearn.model_selection import train_test_split, GridSearchCV\n",
    "from sklearn.linear_model import LogisticRegression\n",
    "from sklearn.svm import SVC\n",
    "from sklearn.neighbors import KNeighborsClassifier\n",
    "from sklearn.tree import DecisionTreeClassifier\n",
    "from sklearn.ensemble import BaggingClassifier, RandomForestClassifier, AdaBoostClassifier\n",
    "from sklearn.feature_extraction.text import CountVectorizer, TfidfVectorizer\n",
    "from sklearn.pipeline import make_pipeline\n",
    "from textblob import TextBlob\n",
    "from vaderSentiment.vaderSentiment import SentimentIntensityAnalyzer\n",
    "from nltk.stem import WordNetLemmatizer\n",
    "from nltk.corpus import stopwords"
   ]
  },
  {
   "cell_type": "code",
   "execution_count": 2,
   "metadata": {},
   "outputs": [],
   "source": [
    "df = pd.read_csv('./data/legal_nsq.csv')"
   ]
  },
  {
   "cell_type": "code",
   "execution_count": 3,
   "metadata": {},
   "outputs": [
    {
     "data": {
      "text/html": [
       "<div>\n",
       "<style scoped>\n",
       "    .dataframe tbody tr th:only-of-type {\n",
       "        vertical-align: middle;\n",
       "    }\n",
       "\n",
       "    .dataframe tbody tr th {\n",
       "        vertical-align: top;\n",
       "    }\n",
       "\n",
       "    .dataframe thead th {\n",
       "        text-align: right;\n",
       "    }\n",
       "</style>\n",
       "<table border=\"1\" class=\"dataframe\">\n",
       "  <thead>\n",
       "    <tr style=\"text-align: right;\">\n",
       "      <th></th>\n",
       "      <th>title</th>\n",
       "      <th>created_utc</th>\n",
       "      <th>selftext</th>\n",
       "      <th>subreddit</th>\n",
       "      <th>author</th>\n",
       "      <th>media_only</th>\n",
       "      <th>permalink</th>\n",
       "    </tr>\n",
       "  </thead>\n",
       "  <tbody>\n",
       "    <tr>\n",
       "      <th>0</th>\n",
       "      <td>My ex gf refuses to reclaim her items from my ...</td>\n",
       "      <td>1601524380</td>\n",
       "      <td>About a week ago I ended a moderately long rel...</td>\n",
       "      <td>legaladvice</td>\n",
       "      <td>Gtormund51</td>\n",
       "      <td>False</td>\n",
       "      <td>/r/legaladvice/comments/j31aqq/my_ex_gf_refuse...</td>\n",
       "    </tr>\n",
       "    <tr>\n",
       "      <th>1</th>\n",
       "      <td>A car is advertised for $18,000 lower than MSR...</td>\n",
       "      <td>1601524283</td>\n",
       "      <td>So I'm looking for a new car and I stumbled up...</td>\n",
       "      <td>legaladvice</td>\n",
       "      <td>hustlegoat</td>\n",
       "      <td>False</td>\n",
       "      <td>/r/legaladvice/comments/j319w1/a_car_is_advert...</td>\n",
       "    </tr>\n",
       "  </tbody>\n",
       "</table>\n",
       "</div>"
      ],
      "text/plain": [
       "                                               title  created_utc  \\\n",
       "0  My ex gf refuses to reclaim her items from my ...   1601524380   \n",
       "1  A car is advertised for $18,000 lower than MSR...   1601524283   \n",
       "\n",
       "                                            selftext    subreddit      author  \\\n",
       "0  About a week ago I ended a moderately long rel...  legaladvice  Gtormund51   \n",
       "1  So I'm looking for a new car and I stumbled up...  legaladvice  hustlegoat   \n",
       "\n",
       "   media_only                                          permalink  \n",
       "0       False  /r/legaladvice/comments/j31aqq/my_ex_gf_refuse...  \n",
       "1       False  /r/legaladvice/comments/j319w1/a_car_is_advert...  "
      ]
     },
     "execution_count": 3,
     "metadata": {},
     "output_type": "execute_result"
    }
   ],
   "source": [
    "df.head(2)"
   ]
  },
  {
   "cell_type": "code",
   "execution_count": 4,
   "metadata": {},
   "outputs": [
    {
     "name": "stdout",
     "output_type": "stream",
     "text": [
      "<class 'pandas.core.frame.DataFrame'>\n",
      "RangeIndex: 60000 entries, 0 to 59999\n",
      "Data columns (total 7 columns):\n",
      " #   Column       Non-Null Count  Dtype \n",
      "---  ------       --------------  ----- \n",
      " 0   title        60000 non-null  object\n",
      " 1   created_utc  60000 non-null  int64 \n",
      " 2   selftext     50677 non-null  object\n",
      " 3   subreddit    60000 non-null  object\n",
      " 4   author       60000 non-null  object\n",
      " 5   media_only   60000 non-null  bool  \n",
      " 6   permalink    60000 non-null  object\n",
      "dtypes: bool(1), int64(1), object(5)\n",
      "memory usage: 2.8+ MB\n"
     ]
    }
   ],
   "source": [
    "df.info()"
   ]
  },
  {
   "cell_type": "markdown",
   "metadata": {},
   "source": [
    "### Data Cleaning\n",
    "\n",
    "In this section, I will begin by inspecting the data for:\n",
    "- Duplicated values to remove\n",
    "- Removed posts included in the web scrape\n",
    "- Remove special characters using regex\n",
    "- Missing values to impute\n",
    "\n"
   ]
  },
  {
   "cell_type": "code",
   "execution_count": 5,
   "metadata": {},
   "outputs": [
    {
     "data": {
      "text/html": [
       "<div>\n",
       "<style scoped>\n",
       "    .dataframe tbody tr th:only-of-type {\n",
       "        vertical-align: middle;\n",
       "    }\n",
       "\n",
       "    .dataframe tbody tr th {\n",
       "        vertical-align: top;\n",
       "    }\n",
       "\n",
       "    .dataframe thead th {\n",
       "        text-align: right;\n",
       "    }\n",
       "</style>\n",
       "<table border=\"1\" class=\"dataframe\">\n",
       "  <thead>\n",
       "    <tr style=\"text-align: right;\">\n",
       "      <th></th>\n",
       "      <th>title</th>\n",
       "      <th>created_utc</th>\n",
       "      <th>selftext</th>\n",
       "      <th>subreddit</th>\n",
       "      <th>author</th>\n",
       "      <th>media_only</th>\n",
       "      <th>permalink</th>\n",
       "    </tr>\n",
       "  </thead>\n",
       "  <tbody>\n",
       "    <tr>\n",
       "      <th>234</th>\n",
       "      <td>(AZ) Roommate is getting her 30-day notice for...</td>\n",
       "      <td>1601503032</td>\n",
       "      <td>Here is my situation:\\n\\nI live in a house wit...</td>\n",
       "      <td>legaladvice</td>\n",
       "      <td>casino_night</td>\n",
       "      <td>False</td>\n",
       "      <td>/r/legaladvice/comments/j2vnja/az_roommate_is_...</td>\n",
       "    </tr>\n",
       "    <tr>\n",
       "      <th>288</th>\n",
       "      <td>Held against my will by hospital for an entire...</td>\n",
       "      <td>1601498393</td>\n",
       "      <td>[removed]</td>\n",
       "      <td>legaladvice</td>\n",
       "      <td>epicscreenname0818</td>\n",
       "      <td>False</td>\n",
       "      <td>/r/legaladvice/comments/j2u8t5/held_against_my...</td>\n",
       "    </tr>\n",
       "    <tr>\n",
       "      <th>301</th>\n",
       "      <td>U.S. Special Forces military spouse (my grandm...</td>\n",
       "      <td>1601497392</td>\n",
       "      <td>[removed]</td>\n",
       "      <td>legaladvice</td>\n",
       "      <td>trying_n_crying_206</td>\n",
       "      <td>False</td>\n",
       "      <td>/r/legaladvice/comments/j2txm2/us_special_forc...</td>\n",
       "    </tr>\n",
       "    <tr>\n",
       "      <th>386</th>\n",
       "      <td>Should I write a letter to the DA?</td>\n",
       "      <td>1601491061</td>\n",
       "      <td>I got a class A misdemeanor and theft II. I ha...</td>\n",
       "      <td>legaladvice</td>\n",
       "      <td>Masonniedens</td>\n",
       "      <td>False</td>\n",
       "      <td>/r/legaladvice/comments/j2rxry/should_i_write_...</td>\n",
       "    </tr>\n",
       "    <tr>\n",
       "      <th>387</th>\n",
       "      <td>Can I sue a car dealership for letting me driv...</td>\n",
       "      <td>1601490959</td>\n",
       "      <td>I was in a t-bone accident in my 2016 rubicon ...</td>\n",
       "      <td>legaladvice</td>\n",
       "      <td>sunnydaze8</td>\n",
       "      <td>False</td>\n",
       "      <td>/r/legaladvice/comments/j2rwn6/can_i_sue_a_car...</td>\n",
       "    </tr>\n",
       "    <tr>\n",
       "      <th>...</th>\n",
       "      <td>...</td>\n",
       "      <td>...</td>\n",
       "      <td>...</td>\n",
       "      <td>...</td>\n",
       "      <td>...</td>\n",
       "      <td>...</td>\n",
       "      <td>...</td>\n",
       "    </tr>\n",
       "    <tr>\n",
       "      <th>59515</th>\n",
       "      <td>How do i talk to a camera?</td>\n",
       "      <td>1599744542</td>\n",
       "      <td>im 15 years old and my teacher recently gave m...</td>\n",
       "      <td>NoStupidQuestions</td>\n",
       "      <td>gregpauler</td>\n",
       "      <td>False</td>\n",
       "      <td>/r/NoStupidQuestions/comments/iq3a9e/how_do_i_...</td>\n",
       "    </tr>\n",
       "    <tr>\n",
       "      <th>59517</th>\n",
       "      <td>What is this?</td>\n",
       "      <td>1599744486</td>\n",
       "      <td>I’ll try to make this make sense. So in 8th gr...</td>\n",
       "      <td>NoStupidQuestions</td>\n",
       "      <td>Darkpit745</td>\n",
       "      <td>False</td>\n",
       "      <td>/r/NoStupidQuestions/comments/iq39po/what_is_t...</td>\n",
       "    </tr>\n",
       "    <tr>\n",
       "      <th>59649</th>\n",
       "      <td>What can I do to help those affected by the wi...</td>\n",
       "      <td>1599733846</td>\n",
       "      <td>Yes, donating is always an option and I plan t...</td>\n",
       "      <td>NoStupidQuestions</td>\n",
       "      <td>steakoutwhoa</td>\n",
       "      <td>False</td>\n",
       "      <td>/r/NoStupidQuestions/comments/iq0s80/what_can_...</td>\n",
       "    </tr>\n",
       "    <tr>\n",
       "      <th>59734</th>\n",
       "      <td>How well does the flame-retardant material spr...</td>\n",
       "      <td>1599726927</td>\n",
       "      <td>My home was caught in the path of the Oregon w...</td>\n",
       "      <td>NoStupidQuestions</td>\n",
       "      <td>DreMin015</td>\n",
       "      <td>False</td>\n",
       "      <td>/r/NoStupidQuestions/comments/ipzhep/how_well_...</td>\n",
       "    </tr>\n",
       "    <tr>\n",
       "      <th>59834</th>\n",
       "      <td>Is this racist?</td>\n",
       "      <td>1599719504</td>\n",
       "      <td>I was watching my bf play an online game calle...</td>\n",
       "      <td>NoStupidQuestions</td>\n",
       "      <td>pepperlunch123</td>\n",
       "      <td>False</td>\n",
       "      <td>/r/NoStupidQuestions/comments/ipy2uz/is_this_r...</td>\n",
       "    </tr>\n",
       "  </tbody>\n",
       "</table>\n",
       "<p>669 rows × 7 columns</p>\n",
       "</div>"
      ],
      "text/plain": [
       "                                                   title  created_utc  \\\n",
       "234    (AZ) Roommate is getting her 30-day notice for...   1601503032   \n",
       "288    Held against my will by hospital for an entire...   1601498393   \n",
       "301    U.S. Special Forces military spouse (my grandm...   1601497392   \n",
       "386                   Should I write a letter to the DA?   1601491061   \n",
       "387    Can I sue a car dealership for letting me driv...   1601490959   \n",
       "...                                                  ...          ...   \n",
       "59515                         How do i talk to a camera?   1599744542   \n",
       "59517                                      What is this?   1599744486   \n",
       "59649  What can I do to help those affected by the wi...   1599733846   \n",
       "59734  How well does the flame-retardant material spr...   1599726927   \n",
       "59834                                    Is this racist?   1599719504   \n",
       "\n",
       "                                                selftext          subreddit  \\\n",
       "234    Here is my situation:\\n\\nI live in a house wit...        legaladvice   \n",
       "288                                            [removed]        legaladvice   \n",
       "301                                            [removed]        legaladvice   \n",
       "386    I got a class A misdemeanor and theft II. I ha...        legaladvice   \n",
       "387    I was in a t-bone accident in my 2016 rubicon ...        legaladvice   \n",
       "...                                                  ...                ...   \n",
       "59515  im 15 years old and my teacher recently gave m...  NoStupidQuestions   \n",
       "59517  I’ll try to make this make sense. So in 8th gr...  NoStupidQuestions   \n",
       "59649  Yes, donating is always an option and I plan t...  NoStupidQuestions   \n",
       "59734  My home was caught in the path of the Oregon w...  NoStupidQuestions   \n",
       "59834  I was watching my bf play an online game calle...  NoStupidQuestions   \n",
       "\n",
       "                    author  media_only  \\\n",
       "234           casino_night       False   \n",
       "288     epicscreenname0818       False   \n",
       "301    trying_n_crying_206       False   \n",
       "386           Masonniedens       False   \n",
       "387             sunnydaze8       False   \n",
       "...                    ...         ...   \n",
       "59515           gregpauler       False   \n",
       "59517           Darkpit745       False   \n",
       "59649         steakoutwhoa       False   \n",
       "59734            DreMin015       False   \n",
       "59834       pepperlunch123       False   \n",
       "\n",
       "                                               permalink  \n",
       "234    /r/legaladvice/comments/j2vnja/az_roommate_is_...  \n",
       "288    /r/legaladvice/comments/j2u8t5/held_against_my...  \n",
       "301    /r/legaladvice/comments/j2txm2/us_special_forc...  \n",
       "386    /r/legaladvice/comments/j2rxry/should_i_write_...  \n",
       "387    /r/legaladvice/comments/j2rwn6/can_i_sue_a_car...  \n",
       "...                                                  ...  \n",
       "59515  /r/NoStupidQuestions/comments/iq3a9e/how_do_i_...  \n",
       "59517  /r/NoStupidQuestions/comments/iq39po/what_is_t...  \n",
       "59649  /r/NoStupidQuestions/comments/iq0s80/what_can_...  \n",
       "59734  /r/NoStupidQuestions/comments/ipzhep/how_well_...  \n",
       "59834  /r/NoStupidQuestions/comments/ipy2uz/is_this_r...  \n",
       "\n",
       "[669 rows x 7 columns]"
      ]
     },
     "execution_count": 5,
     "metadata": {},
     "output_type": "execute_result"
    }
   ],
   "source": [
    "# Source: https://pandas.pydata.org/pandas-docs/stable/reference/api/pandas.DataFrame.duplicated.html\n",
    "df[df.duplicated(subset='title')]"
   ]
  },
  {
   "cell_type": "code",
   "execution_count": 6,
   "metadata": {},
   "outputs": [],
   "source": [
    "df.drop_duplicates(subset='title', keep='first', inplace=True)"
   ]
  },
  {
   "cell_type": "code",
   "execution_count": 7,
   "metadata": {},
   "outputs": [
    {
     "data": {
      "text/html": [
       "<div>\n",
       "<style scoped>\n",
       "    .dataframe tbody tr th:only-of-type {\n",
       "        vertical-align: middle;\n",
       "    }\n",
       "\n",
       "    .dataframe tbody tr th {\n",
       "        vertical-align: top;\n",
       "    }\n",
       "\n",
       "    .dataframe thead th {\n",
       "        text-align: right;\n",
       "    }\n",
       "</style>\n",
       "<table border=\"1\" class=\"dataframe\">\n",
       "  <thead>\n",
       "    <tr style=\"text-align: right;\">\n",
       "      <th></th>\n",
       "      <th>title</th>\n",
       "      <th>created_utc</th>\n",
       "      <th>selftext</th>\n",
       "      <th>subreddit</th>\n",
       "      <th>author</th>\n",
       "      <th>media_only</th>\n",
       "      <th>permalink</th>\n",
       "    </tr>\n",
       "  </thead>\n",
       "  <tbody>\n",
       "    <tr>\n",
       "      <th>53</th>\n",
       "      <td>No lights, cameras, or security in \"employee\"p...</td>\n",
       "      <td>1601518559</td>\n",
       "      <td>[removed]</td>\n",
       "      <td>legaladvice</td>\n",
       "      <td>Employee-24601</td>\n",
       "      <td>False</td>\n",
       "      <td>/r/legaladvice/comments/j2zv33/no_lights_camer...</td>\n",
       "    </tr>\n",
       "    <tr>\n",
       "      <th>80</th>\n",
       "      <td>Rf welding hazards and lack of basic safety tr...</td>\n",
       "      <td>1601515637</td>\n",
       "      <td>[removed]</td>\n",
       "      <td>legaladvice</td>\n",
       "      <td>the5thdimension</td>\n",
       "      <td>False</td>\n",
       "      <td>/r/legaladvice/comments/j2z47a/rf_welding_haza...</td>\n",
       "    </tr>\n",
       "    <tr>\n",
       "      <th>86</th>\n",
       "      <td>Rf welding hazards</td>\n",
       "      <td>1601514977</td>\n",
       "      <td>[removed]</td>\n",
       "      <td>legaladvice</td>\n",
       "      <td>the5thdimension</td>\n",
       "      <td>False</td>\n",
       "      <td>/r/legaladvice/comments/j2yyb7/rf_welding_haza...</td>\n",
       "    </tr>\n",
       "    <tr>\n",
       "      <th>136</th>\n",
       "      <td>Is threatening to post a bad yelp review and f...</td>\n",
       "      <td>1601510386</td>\n",
       "      <td>[removed]</td>\n",
       "      <td>legaladvice</td>\n",
       "      <td>throwaway4632311</td>\n",
       "      <td>False</td>\n",
       "      <td>/r/legaladvice/comments/j2xqp5/is_threatening_...</td>\n",
       "    </tr>\n",
       "    <tr>\n",
       "      <th>144</th>\n",
       "      <td>Can I accept a job position at a company my cu...</td>\n",
       "      <td>1601510062</td>\n",
       "      <td>[removed]</td>\n",
       "      <td>legaladvice</td>\n",
       "      <td>firebreathingdracula</td>\n",
       "      <td>False</td>\n",
       "      <td>/r/legaladvice/comments/j2xnns/can_i_accept_a_...</td>\n",
       "    </tr>\n",
       "    <tr>\n",
       "      <th>...</th>\n",
       "      <td>...</td>\n",
       "      <td>...</td>\n",
       "      <td>...</td>\n",
       "      <td>...</td>\n",
       "      <td>...</td>\n",
       "      <td>...</td>\n",
       "      <td>...</td>\n",
       "    </tr>\n",
       "    <tr>\n",
       "      <th>59868</th>\n",
       "      <td>My boy (11) wants to be a zoologist when he's ...</td>\n",
       "      <td>1599717048</td>\n",
       "      <td>[removed]</td>\n",
       "      <td>NoStupidQuestions</td>\n",
       "      <td>SidneyBean</td>\n",
       "      <td>False</td>\n",
       "      <td>/r/NoStupidQuestions/comments/ipxkyd/my_boy_11...</td>\n",
       "    </tr>\n",
       "    <tr>\n",
       "      <th>59954</th>\n",
       "      <td>Do vegans think their own breast milk is vegan?</td>\n",
       "      <td>1599711365</td>\n",
       "      <td>[removed]</td>\n",
       "      <td>NoStupidQuestions</td>\n",
       "      <td>MarchKick</td>\n",
       "      <td>False</td>\n",
       "      <td>/r/NoStupidQuestions/comments/ipwb3q/do_vegans...</td>\n",
       "    </tr>\n",
       "    <tr>\n",
       "      <th>59958</th>\n",
       "      <td>Which came first, 911 the emergency phone numb...</td>\n",
       "      <td>1599710977</td>\n",
       "      <td>[removed]</td>\n",
       "      <td>NoStupidQuestions</td>\n",
       "      <td>weebof</td>\n",
       "      <td>False</td>\n",
       "      <td>/r/NoStupidQuestions/comments/ipw7s7/which_cam...</td>\n",
       "    </tr>\n",
       "    <tr>\n",
       "      <th>59973</th>\n",
       "      <td>Does anyone get a very large amount of YouTube...</td>\n",
       "      <td>1599710018</td>\n",
       "      <td>[removed]</td>\n",
       "      <td>NoStupidQuestions</td>\n",
       "      <td>EverythingSucks12</td>\n",
       "      <td>False</td>\n",
       "      <td>/r/NoStupidQuestions/comments/ipvz8n/does_anyo...</td>\n",
       "    </tr>\n",
       "    <tr>\n",
       "      <th>59978</th>\n",
       "      <td>Can black people get sunburns?</td>\n",
       "      <td>1599709862</td>\n",
       "      <td>[removed]</td>\n",
       "      <td>NoStupidQuestions</td>\n",
       "      <td>spacecucumber_inpain</td>\n",
       "      <td>False</td>\n",
       "      <td>/r/NoStupidQuestions/comments/ipvxty/can_black...</td>\n",
       "    </tr>\n",
       "  </tbody>\n",
       "</table>\n",
       "<p>3618 rows × 7 columns</p>\n",
       "</div>"
      ],
      "text/plain": [
       "                                                   title  created_utc  \\\n",
       "53     No lights, cameras, or security in \"employee\"p...   1601518559   \n",
       "80     Rf welding hazards and lack of basic safety tr...   1601515637   \n",
       "86                                    Rf welding hazards   1601514977   \n",
       "136    Is threatening to post a bad yelp review and f...   1601510386   \n",
       "144    Can I accept a job position at a company my cu...   1601510062   \n",
       "...                                                  ...          ...   \n",
       "59868  My boy (11) wants to be a zoologist when he's ...   1599717048   \n",
       "59954    Do vegans think their own breast milk is vegan?   1599711365   \n",
       "59958  Which came first, 911 the emergency phone numb...   1599710977   \n",
       "59973  Does anyone get a very large amount of YouTube...   1599710018   \n",
       "59978                     Can black people get sunburns?   1599709862   \n",
       "\n",
       "        selftext          subreddit                author  media_only  \\\n",
       "53     [removed]        legaladvice        Employee-24601       False   \n",
       "80     [removed]        legaladvice       the5thdimension       False   \n",
       "86     [removed]        legaladvice       the5thdimension       False   \n",
       "136    [removed]        legaladvice      throwaway4632311       False   \n",
       "144    [removed]        legaladvice  firebreathingdracula       False   \n",
       "...          ...                ...                   ...         ...   \n",
       "59868  [removed]  NoStupidQuestions            SidneyBean       False   \n",
       "59954  [removed]  NoStupidQuestions             MarchKick       False   \n",
       "59958  [removed]  NoStupidQuestions                weebof       False   \n",
       "59973  [removed]  NoStupidQuestions     EverythingSucks12       False   \n",
       "59978  [removed]  NoStupidQuestions  spacecucumber_inpain       False   \n",
       "\n",
       "                                               permalink  \n",
       "53     /r/legaladvice/comments/j2zv33/no_lights_camer...  \n",
       "80     /r/legaladvice/comments/j2z47a/rf_welding_haza...  \n",
       "86     /r/legaladvice/comments/j2yyb7/rf_welding_haza...  \n",
       "136    /r/legaladvice/comments/j2xqp5/is_threatening_...  \n",
       "144    /r/legaladvice/comments/j2xnns/can_i_accept_a_...  \n",
       "...                                                  ...  \n",
       "59868  /r/NoStupidQuestions/comments/ipxkyd/my_boy_11...  \n",
       "59954  /r/NoStupidQuestions/comments/ipwb3q/do_vegans...  \n",
       "59958  /r/NoStupidQuestions/comments/ipw7s7/which_cam...  \n",
       "59973  /r/NoStupidQuestions/comments/ipvz8n/does_anyo...  \n",
       "59978  /r/NoStupidQuestions/comments/ipvxty/can_black...  \n",
       "\n",
       "[3618 rows x 7 columns]"
      ]
     },
     "execution_count": 7,
     "metadata": {},
     "output_type": "execute_result"
    }
   ],
   "source": [
    "df[df['selftext']=='[removed]']"
   ]
  },
  {
   "cell_type": "code",
   "execution_count": 8,
   "metadata": {},
   "outputs": [],
   "source": [
    "# remove all posts that have been removed by moderators\n",
    "df.drop(df[df['selftext']=='[removed]'].index, inplace=True)"
   ]
  },
  {
   "cell_type": "code",
   "execution_count": 9,
   "metadata": {},
   "outputs": [],
   "source": [
    "# replacing empty values with 'blank'\n",
    "df['selftext'] = df['selftext'].replace(np.nan, 'blank')"
   ]
  },
  {
   "cell_type": "code",
   "execution_count": 10,
   "metadata": {},
   "outputs": [
    {
     "data": {
      "text/plain": [
       "legaladvice          28726\n",
       "NoStupidQuestions    26987\n",
       "Name: subreddit, dtype: int64"
      ]
     },
     "execution_count": 10,
     "metadata": {},
     "output_type": "execute_result"
    }
   ],
   "source": [
    "# Checking for balance of non-na values between subreddits\n",
    "df.dropna()['subreddit'].value_counts()"
   ]
  },
  {
   "cell_type": "code",
   "execution_count": 11,
   "metadata": {},
   "outputs": [
    {
     "data": {
      "text/plain": [
       "['About a week ago I ended a moderately long relationship with my then gf She refuses to get her stuff from my house amp is holding certain items of mine hostage as well One of these items being an access key to my property She never received mail here amp did not contribute to utility bills nor did she pay any rent 1 How long do I have to legally keep her stuff 2 Do her possessions HAVE to be stored on my property until she claims it or can I place the items in a secure storage unit 3 What can I legally do to reclaim my possessions Thanks in advance for any credible advice ',\n",
       " 'So I m looking for a new car and I stumbled upon a nice car on a very well known car sales site The car is listed for around 2 2k but when I look up the car it goes for around 22k The car has very low miles and doesn t appear to have any blatant issues If I walked into the dealership tomorrow and said I d like to buy the car for 2 2k does the dealer have to honor the advertised price online State is Ohio ']"
      ]
     },
     "execution_count": 11,
     "metadata": {},
     "output_type": "execute_result"
    }
   ],
   "source": [
    "clean_text = [re.sub(r\"[^a-zA-Z0-9]+\", ' ', entry) for entry in df['selftext']]\n",
    "clean_text[:2]"
   ]
  },
  {
   "cell_type": "code",
   "execution_count": 12,
   "metadata": {},
   "outputs": [
    {
     "data": {
      "text/html": [
       "<div>\n",
       "<style scoped>\n",
       "    .dataframe tbody tr th:only-of-type {\n",
       "        vertical-align: middle;\n",
       "    }\n",
       "\n",
       "    .dataframe tbody tr th {\n",
       "        vertical-align: top;\n",
       "    }\n",
       "\n",
       "    .dataframe thead th {\n",
       "        text-align: right;\n",
       "    }\n",
       "</style>\n",
       "<table border=\"1\" class=\"dataframe\">\n",
       "  <thead>\n",
       "    <tr style=\"text-align: right;\">\n",
       "      <th></th>\n",
       "      <th>title</th>\n",
       "      <th>created_utc</th>\n",
       "      <th>selftext</th>\n",
       "      <th>subreddit</th>\n",
       "      <th>author</th>\n",
       "      <th>media_only</th>\n",
       "      <th>permalink</th>\n",
       "      <th>clean_text</th>\n",
       "    </tr>\n",
       "  </thead>\n",
       "  <tbody>\n",
       "    <tr>\n",
       "      <th>0</th>\n",
       "      <td>My ex gf refuses to reclaim her items from my ...</td>\n",
       "      <td>1601524380</td>\n",
       "      <td>About a week ago I ended a moderately long rel...</td>\n",
       "      <td>legaladvice</td>\n",
       "      <td>Gtormund51</td>\n",
       "      <td>False</td>\n",
       "      <td>/r/legaladvice/comments/j31aqq/my_ex_gf_refuse...</td>\n",
       "      <td>About a week ago I ended a moderately long rel...</td>\n",
       "    </tr>\n",
       "    <tr>\n",
       "      <th>1</th>\n",
       "      <td>A car is advertised for $18,000 lower than MSR...</td>\n",
       "      <td>1601524283</td>\n",
       "      <td>So I'm looking for a new car and I stumbled up...</td>\n",
       "      <td>legaladvice</td>\n",
       "      <td>hustlegoat</td>\n",
       "      <td>False</td>\n",
       "      <td>/r/legaladvice/comments/j319w1/a_car_is_advert...</td>\n",
       "      <td>So I m looking for a new car and I stumbled up...</td>\n",
       "    </tr>\n",
       "    <tr>\n",
       "      <th>2</th>\n",
       "      <td>Can my boss make me (16 year old) work 28.5 ho...</td>\n",
       "      <td>1601524222</td>\n",
       "      <td>I'm an essential worker, I work part time. My ...</td>\n",
       "      <td>legaladvice</td>\n",
       "      <td>Minimum_Measurement9</td>\n",
       "      <td>False</td>\n",
       "      <td>/r/legaladvice/comments/j319cf/can_my_boss_mak...</td>\n",
       "      <td>I m an essential worker I work part time My co...</td>\n",
       "    </tr>\n",
       "  </tbody>\n",
       "</table>\n",
       "</div>"
      ],
      "text/plain": [
       "                                               title  created_utc  \\\n",
       "0  My ex gf refuses to reclaim her items from my ...   1601524380   \n",
       "1  A car is advertised for $18,000 lower than MSR...   1601524283   \n",
       "2  Can my boss make me (16 year old) work 28.5 ho...   1601524222   \n",
       "\n",
       "                                            selftext    subreddit  \\\n",
       "0  About a week ago I ended a moderately long rel...  legaladvice   \n",
       "1  So I'm looking for a new car and I stumbled up...  legaladvice   \n",
       "2  I'm an essential worker, I work part time. My ...  legaladvice   \n",
       "\n",
       "                 author  media_only  \\\n",
       "0            Gtormund51       False   \n",
       "1            hustlegoat       False   \n",
       "2  Minimum_Measurement9       False   \n",
       "\n",
       "                                           permalink  \\\n",
       "0  /r/legaladvice/comments/j31aqq/my_ex_gf_refuse...   \n",
       "1  /r/legaladvice/comments/j319w1/a_car_is_advert...   \n",
       "2  /r/legaladvice/comments/j319cf/can_my_boss_mak...   \n",
       "\n",
       "                                          clean_text  \n",
       "0  About a week ago I ended a moderately long rel...  \n",
       "1  So I m looking for a new car and I stumbled up...  \n",
       "2  I m an essential worker I work part time My co...  "
      ]
     },
     "execution_count": 12,
     "metadata": {},
     "output_type": "execute_result"
    }
   ],
   "source": [
    "df['clean_text'] = clean_text\n",
    "df.head(3)"
   ]
  },
  {
   "cell_type": "code",
   "execution_count": 13,
   "metadata": {},
   "outputs": [
    {
     "data": {
      "text/plain": [
       "['My ex gf refuses to reclaim her items from my home What are my options Alabama amp no she not a relative lol ',\n",
       " 'A car is advertised for 18 000 lower than MSRP on a website does the dealer have to honor that price ']"
      ]
     },
     "execution_count": 13,
     "metadata": {},
     "output_type": "execute_result"
    }
   ],
   "source": [
    "clean_title = [re.sub(r\"[^a-zA-Z0-9]+\", ' ', entry) for entry in df['title']]\n",
    "clean_title[:2]"
   ]
  },
  {
   "cell_type": "code",
   "execution_count": 14,
   "metadata": {},
   "outputs": [],
   "source": [
    "df['clean_title'] = clean_title"
   ]
  },
  {
   "cell_type": "code",
   "execution_count": 23,
   "metadata": {},
   "outputs": [
    {
     "data": {
      "text/plain": [
       "legaladvice          0.515607\n",
       "NoStupidQuestions    0.484393\n",
       "Name: subreddit, dtype: float64"
      ]
     },
     "execution_count": 23,
     "metadata": {},
     "output_type": "execute_result"
    }
   ],
   "source": [
    "df['subreddit'].value_counts(normalize=True)"
   ]
  },
  {
   "cell_type": "code",
   "execution_count": 16,
   "metadata": {},
   "outputs": [],
   "source": [
    "# creating a column that combines our two text columns, title and selftext\n",
    "df['alltext_clean'] = df['clean_title'] + df['clean_text']"
   ]
  },
  {
   "cell_type": "code",
   "execution_count": 18,
   "metadata": {},
   "outputs": [],
   "source": [
    "df['alltext_word_count'] = df['alltext_clean'].str.split().str.len()"
   ]
  },
  {
   "cell_type": "code",
   "execution_count": 20,
   "metadata": {},
   "outputs": [],
   "source": [
    "df['title_word_count'] = df['clean_title'].str.split().str.len()"
   ]
  },
  {
   "cell_type": "code",
   "execution_count": 21,
   "metadata": {},
   "outputs": [],
   "source": [
    "df['selftext_word_count'] = df['clean_text'].str.split().str.len()"
   ]
  },
  {
   "cell_type": "code",
   "execution_count": 22,
   "metadata": {},
   "outputs": [
    {
     "data": {
      "text/html": [
       "<div>\n",
       "<style scoped>\n",
       "    .dataframe tbody tr th:only-of-type {\n",
       "        vertical-align: middle;\n",
       "    }\n",
       "\n",
       "    .dataframe tbody tr th {\n",
       "        vertical-align: top;\n",
       "    }\n",
       "\n",
       "    .dataframe thead th {\n",
       "        text-align: right;\n",
       "    }\n",
       "</style>\n",
       "<table border=\"1\" class=\"dataframe\">\n",
       "  <thead>\n",
       "    <tr style=\"text-align: right;\">\n",
       "      <th></th>\n",
       "      <th>title</th>\n",
       "      <th>created_utc</th>\n",
       "      <th>selftext</th>\n",
       "      <th>subreddit</th>\n",
       "      <th>author</th>\n",
       "      <th>media_only</th>\n",
       "      <th>permalink</th>\n",
       "      <th>clean_text</th>\n",
       "      <th>clean_title</th>\n",
       "      <th>alltext_clean</th>\n",
       "      <th>alltext_word_count</th>\n",
       "      <th>title_word_count</th>\n",
       "      <th>selftext_word_count</th>\n",
       "    </tr>\n",
       "  </thead>\n",
       "  <tbody>\n",
       "    <tr>\n",
       "      <th>0</th>\n",
       "      <td>My ex gf refuses to reclaim her items from my ...</td>\n",
       "      <td>1601524380</td>\n",
       "      <td>About a week ago I ended a moderately long rel...</td>\n",
       "      <td>legaladvice</td>\n",
       "      <td>Gtormund51</td>\n",
       "      <td>False</td>\n",
       "      <td>/r/legaladvice/comments/j31aqq/my_ex_gf_refuse...</td>\n",
       "      <td>About a week ago I ended a moderately long rel...</td>\n",
       "      <td>My ex gf refuses to reclaim her items from my ...</td>\n",
       "      <td>My ex gf refuses to reclaim her items from my ...</td>\n",
       "      <td>139</td>\n",
       "      <td>23</td>\n",
       "      <td>116</td>\n",
       "    </tr>\n",
       "    <tr>\n",
       "      <th>1</th>\n",
       "      <td>A car is advertised for $18,000 lower than MSR...</td>\n",
       "      <td>1601524283</td>\n",
       "      <td>So I'm looking for a new car and I stumbled up...</td>\n",
       "      <td>legaladvice</td>\n",
       "      <td>hustlegoat</td>\n",
       "      <td>False</td>\n",
       "      <td>/r/legaladvice/comments/j319w1/a_car_is_advert...</td>\n",
       "      <td>So I m looking for a new car and I stumbled up...</td>\n",
       "      <td>A car is advertised for 18 000 lower than MSRP...</td>\n",
       "      <td>A car is advertised for 18 000 lower than MSRP...</td>\n",
       "      <td>111</td>\n",
       "      <td>21</td>\n",
       "      <td>90</td>\n",
       "    </tr>\n",
       "  </tbody>\n",
       "</table>\n",
       "</div>"
      ],
      "text/plain": [
       "                                               title  created_utc  \\\n",
       "0  My ex gf refuses to reclaim her items from my ...   1601524380   \n",
       "1  A car is advertised for $18,000 lower than MSR...   1601524283   \n",
       "\n",
       "                                            selftext    subreddit      author  \\\n",
       "0  About a week ago I ended a moderately long rel...  legaladvice  Gtormund51   \n",
       "1  So I'm looking for a new car and I stumbled up...  legaladvice  hustlegoat   \n",
       "\n",
       "   media_only                                          permalink  \\\n",
       "0       False  /r/legaladvice/comments/j31aqq/my_ex_gf_refuse...   \n",
       "1       False  /r/legaladvice/comments/j319w1/a_car_is_advert...   \n",
       "\n",
       "                                          clean_text  \\\n",
       "0  About a week ago I ended a moderately long rel...   \n",
       "1  So I m looking for a new car and I stumbled up...   \n",
       "\n",
       "                                         clean_title  \\\n",
       "0  My ex gf refuses to reclaim her items from my ...   \n",
       "1  A car is advertised for 18 000 lower than MSRP...   \n",
       "\n",
       "                                       alltext_clean  alltext_word_count  \\\n",
       "0  My ex gf refuses to reclaim her items from my ...                 139   \n",
       "1  A car is advertised for 18 000 lower than MSRP...                 111   \n",
       "\n",
       "   title_word_count  selftext_word_count  \n",
       "0                23                  116  \n",
       "1                21                   90  "
      ]
     },
     "execution_count": 22,
     "metadata": {},
     "output_type": "execute_result"
    }
   ],
   "source": [
    "df.head(2)"
   ]
  },
  {
   "cell_type": "code",
   "execution_count": 25,
   "metadata": {},
   "outputs": [],
   "source": [
    "df.to_csv('./data/legal_nsq_clean.csv', index=False)"
   ]
  },
  {
   "cell_type": "code",
   "execution_count": 21,
   "metadata": {},
   "outputs": [
    {
     "data": {
      "image/png": "[encoded data removed]",
      "text/plain": [
       "<Figure size 720x360 with 2 Axes>"
      ]
     },
     "metadata": {},
     "output_type": "display_data"
    }
   ],
   "source": [
    "plt.style.use('ggplot')\n",
    "g = sns.displot(data=df, x='alltext_word_count', col='subreddit', color='teal')\n",
    "g.set(xlim=(0, 1000), ylim=(0, 3000));\n",
    "g.set_axis_labels('Word Count Total', 'Count');"
   ]
  },
  {
   "cell_type": "code",
   "execution_count": 22,
   "metadata": {},
   "outputs": [
    {
     "data": {
      "image/png": "[encoded data removed]",
      "text/plain": [
       "<Figure size 720x360 with 2 Axes>"
      ]
     },
     "metadata": {},
     "output_type": "display_data"
    }
   ],
   "source": [
    "plt.style.use('ggplot')\n",
    "g = sns.displot(data=df, x='title_word_count', col='subreddit', color='red')\n",
    "g.set_axis_labels('Word Count Total', 'Count');"
   ]
  },
  {
   "cell_type": "code",
   "execution_count": 23,
   "metadata": {},
   "outputs": [],
   "source": [
    "sia = SentimentIntensityAnalyzer()"
   ]
  },
  {
   "cell_type": "code",
   "execution_count": 24,
   "metadata": {},
   "outputs": [
    {
     "data": {
      "text/html": [
       "<div>\n",
       "<style scoped>\n",
       "    .dataframe tbody tr th:only-of-type {\n",
       "        vertical-align: middle;\n",
       "    }\n",
       "\n",
       "    .dataframe tbody tr th {\n",
       "        vertical-align: top;\n",
       "    }\n",
       "\n",
       "    .dataframe thead th {\n",
       "        text-align: right;\n",
       "    }\n",
       "</style>\n",
       "<table border=\"1\" class=\"dataframe\">\n",
       "  <thead>\n",
       "    <tr style=\"text-align: right;\">\n",
       "      <th></th>\n",
       "      <th>neg</th>\n",
       "      <th>neu</th>\n",
       "      <th>pos</th>\n",
       "      <th>compound</th>\n",
       "    </tr>\n",
       "  </thead>\n",
       "  <tbody>\n",
       "    <tr>\n",
       "      <th>0</th>\n",
       "      <td>0.015</td>\n",
       "      <td>0.882</td>\n",
       "      <td>0.103</td>\n",
       "      <td>0.8641</td>\n",
       "    </tr>\n",
       "    <tr>\n",
       "      <th>1</th>\n",
       "      <td>0.041</td>\n",
       "      <td>0.841</td>\n",
       "      <td>0.118</td>\n",
       "      <td>0.8367</td>\n",
       "    </tr>\n",
       "    <tr>\n",
       "      <th>2</th>\n",
       "      <td>0.127</td>\n",
       "      <td>0.823</td>\n",
       "      <td>0.050</td>\n",
       "      <td>-0.8000</td>\n",
       "    </tr>\n",
       "    <tr>\n",
       "      <th>3</th>\n",
       "      <td>0.094</td>\n",
       "      <td>0.778</td>\n",
       "      <td>0.128</td>\n",
       "      <td>0.8146</td>\n",
       "    </tr>\n",
       "    <tr>\n",
       "      <th>4</th>\n",
       "      <td>0.053</td>\n",
       "      <td>0.857</td>\n",
       "      <td>0.090</td>\n",
       "      <td>0.8424</td>\n",
       "    </tr>\n",
       "    <tr>\n",
       "      <th>...</th>\n",
       "      <td>...</td>\n",
       "      <td>...</td>\n",
       "      <td>...</td>\n",
       "      <td>...</td>\n",
       "    </tr>\n",
       "    <tr>\n",
       "      <th>28721</th>\n",
       "      <td>0.105</td>\n",
       "      <td>0.762</td>\n",
       "      <td>0.133</td>\n",
       "      <td>0.9895</td>\n",
       "    </tr>\n",
       "    <tr>\n",
       "      <th>28722</th>\n",
       "      <td>0.100</td>\n",
       "      <td>0.877</td>\n",
       "      <td>0.023</td>\n",
       "      <td>-0.9514</td>\n",
       "    </tr>\n",
       "    <tr>\n",
       "      <th>28723</th>\n",
       "      <td>0.120</td>\n",
       "      <td>0.810</td>\n",
       "      <td>0.071</td>\n",
       "      <td>-0.6808</td>\n",
       "    </tr>\n",
       "    <tr>\n",
       "      <th>28724</th>\n",
       "      <td>0.089</td>\n",
       "      <td>0.842</td>\n",
       "      <td>0.070</td>\n",
       "      <td>-0.8622</td>\n",
       "    </tr>\n",
       "    <tr>\n",
       "      <th>28725</th>\n",
       "      <td>0.045</td>\n",
       "      <td>0.880</td>\n",
       "      <td>0.075</td>\n",
       "      <td>0.8897</td>\n",
       "    </tr>\n",
       "  </tbody>\n",
       "</table>\n",
       "<p>28726 rows × 4 columns</p>\n",
       "</div>"
      ],
      "text/plain": [
       "         neg    neu    pos  compound\n",
       "0      0.015  0.882  0.103    0.8641\n",
       "1      0.041  0.841  0.118    0.8367\n",
       "2      0.127  0.823  0.050   -0.8000\n",
       "3      0.094  0.778  0.128    0.8146\n",
       "4      0.053  0.857  0.090    0.8424\n",
       "...      ...    ...    ...       ...\n",
       "28721  0.105  0.762  0.133    0.9895\n",
       "28722  0.100  0.877  0.023   -0.9514\n",
       "28723  0.120  0.810  0.071   -0.6808\n",
       "28724  0.089  0.842  0.070   -0.8622\n",
       "28725  0.045  0.880  0.075    0.8897\n",
       "\n",
       "[28726 rows x 4 columns]"
      ]
     },
     "execution_count": 24,
     "metadata": {},
     "output_type": "execute_result"
    }
   ],
   "source": [
    "results = []\n",
    "\n",
    "for i in df[df['subreddit']=='legaladvice']['alltext']:\n",
    "    result = sia.polarity_scores(i)\n",
    "    results.append(result)\n",
    "    \n",
    "la_scores = pd.DataFrame(results)\n",
    "la_scores"
   ]
  },
  {
   "cell_type": "code",
   "execution_count": 25,
   "metadata": {},
   "outputs": [
    {
     "data": {
      "text/html": [
       "<div>\n",
       "<style scoped>\n",
       "    .dataframe tbody tr th:only-of-type {\n",
       "        vertical-align: middle;\n",
       "    }\n",
       "\n",
       "    .dataframe tbody tr th {\n",
       "        vertical-align: top;\n",
       "    }\n",
       "\n",
       "    .dataframe thead th {\n",
       "        text-align: right;\n",
       "    }\n",
       "</style>\n",
       "<table border=\"1\" class=\"dataframe\">\n",
       "  <thead>\n",
       "    <tr style=\"text-align: right;\">\n",
       "      <th></th>\n",
       "      <th>neg</th>\n",
       "      <th>neu</th>\n",
       "      <th>pos</th>\n",
       "      <th>compound</th>\n",
       "    </tr>\n",
       "  </thead>\n",
       "  <tbody>\n",
       "    <tr>\n",
       "      <th>0</th>\n",
       "      <td>0.060</td>\n",
       "      <td>0.940</td>\n",
       "      <td>0.000</td>\n",
       "      <td>-0.5267</td>\n",
       "    </tr>\n",
       "    <tr>\n",
       "      <th>1</th>\n",
       "      <td>0.089</td>\n",
       "      <td>0.686</td>\n",
       "      <td>0.225</td>\n",
       "      <td>0.9552</td>\n",
       "    </tr>\n",
       "    <tr>\n",
       "      <th>2</th>\n",
       "      <td>0.115</td>\n",
       "      <td>0.836</td>\n",
       "      <td>0.049</td>\n",
       "      <td>-0.7997</td>\n",
       "    </tr>\n",
       "    <tr>\n",
       "      <th>3</th>\n",
       "      <td>0.000</td>\n",
       "      <td>1.000</td>\n",
       "      <td>0.000</td>\n",
       "      <td>0.0000</td>\n",
       "    </tr>\n",
       "    <tr>\n",
       "      <th>4</th>\n",
       "      <td>0.000</td>\n",
       "      <td>0.967</td>\n",
       "      <td>0.033</td>\n",
       "      <td>0.2287</td>\n",
       "    </tr>\n",
       "    <tr>\n",
       "      <th>...</th>\n",
       "      <td>...</td>\n",
       "      <td>...</td>\n",
       "      <td>...</td>\n",
       "      <td>...</td>\n",
       "    </tr>\n",
       "    <tr>\n",
       "      <th>26982</th>\n",
       "      <td>0.062</td>\n",
       "      <td>0.845</td>\n",
       "      <td>0.093</td>\n",
       "      <td>0.5349</td>\n",
       "    </tr>\n",
       "    <tr>\n",
       "      <th>26983</th>\n",
       "      <td>0.000</td>\n",
       "      <td>0.930</td>\n",
       "      <td>0.070</td>\n",
       "      <td>0.5112</td>\n",
       "    </tr>\n",
       "    <tr>\n",
       "      <th>26984</th>\n",
       "      <td>0.000</td>\n",
       "      <td>0.839</td>\n",
       "      <td>0.161</td>\n",
       "      <td>0.4696</td>\n",
       "    </tr>\n",
       "    <tr>\n",
       "      <th>26985</th>\n",
       "      <td>0.022</td>\n",
       "      <td>0.772</td>\n",
       "      <td>0.206</td>\n",
       "      <td>0.9074</td>\n",
       "    </tr>\n",
       "    <tr>\n",
       "      <th>26986</th>\n",
       "      <td>0.065</td>\n",
       "      <td>0.870</td>\n",
       "      <td>0.065</td>\n",
       "      <td>0.0000</td>\n",
       "    </tr>\n",
       "  </tbody>\n",
       "</table>\n",
       "<p>26987 rows × 4 columns</p>\n",
       "</div>"
      ],
      "text/plain": [
       "         neg    neu    pos  compound\n",
       "0      0.060  0.940  0.000   -0.5267\n",
       "1      0.089  0.686  0.225    0.9552\n",
       "2      0.115  0.836  0.049   -0.7997\n",
       "3      0.000  1.000  0.000    0.0000\n",
       "4      0.000  0.967  0.033    0.2287\n",
       "...      ...    ...    ...       ...\n",
       "26982  0.062  0.845  0.093    0.5349\n",
       "26983  0.000  0.930  0.070    0.5112\n",
       "26984  0.000  0.839  0.161    0.4696\n",
       "26985  0.022  0.772  0.206    0.9074\n",
       "26986  0.065  0.870  0.065    0.0000\n",
       "\n",
       "[26987 rows x 4 columns]"
      ]
     },
     "execution_count": 25,
     "metadata": {},
     "output_type": "execute_result"
    }
   ],
   "source": [
    "results = []\n",
    "\n",
    "for i in df[df['subreddit']=='NoStupidQuestions']['alltext']:\n",
    "    result = sia.polarity_scores(i)\n",
    "    results.append(result)\n",
    "    \n",
    "nsq_scores = pd.DataFrame(results)\n",
    "nsq_scores"
   ]
  },
  {
   "cell_type": "code",
   "execution_count": 26,
   "metadata": {},
   "outputs": [
    {
     "data": {
      "text/html": [
       "<div>\n",
       "<style scoped>\n",
       "    .dataframe tbody tr th:only-of-type {\n",
       "        vertical-align: middle;\n",
       "    }\n",
       "\n",
       "    .dataframe tbody tr th {\n",
       "        vertical-align: top;\n",
       "    }\n",
       "\n",
       "    .dataframe thead th {\n",
       "        text-align: right;\n",
       "    }\n",
       "</style>\n",
       "<table border=\"1\" class=\"dataframe\">\n",
       "  <thead>\n",
       "    <tr style=\"text-align: right;\">\n",
       "      <th></th>\n",
       "      <th>count</th>\n",
       "      <th>mean</th>\n",
       "      <th>std</th>\n",
       "      <th>min</th>\n",
       "      <th>25%</th>\n",
       "      <th>50%</th>\n",
       "      <th>75%</th>\n",
       "      <th>max</th>\n",
       "    </tr>\n",
       "  </thead>\n",
       "  <tbody>\n",
       "    <tr>\n",
       "      <th>neg</th>\n",
       "      <td>28726.0</td>\n",
       "      <td>0.074766</td>\n",
       "      <td>0.054982</td>\n",
       "      <td>0.0000</td>\n",
       "      <td>0.0370</td>\n",
       "      <td>0.0670</td>\n",
       "      <td>0.103000</td>\n",
       "      <td>0.7620</td>\n",
       "    </tr>\n",
       "    <tr>\n",
       "      <th>neu</th>\n",
       "      <td>28726.0</td>\n",
       "      <td>0.855922</td>\n",
       "      <td>0.066622</td>\n",
       "      <td>0.2380</td>\n",
       "      <td>0.8190</td>\n",
       "      <td>0.8600</td>\n",
       "      <td>0.900000</td>\n",
       "      <td>1.0000</td>\n",
       "    </tr>\n",
       "    <tr>\n",
       "      <th>pos</th>\n",
       "      <td>28726.0</td>\n",
       "      <td>0.069316</td>\n",
       "      <td>0.046498</td>\n",
       "      <td>0.0000</td>\n",
       "      <td>0.0380</td>\n",
       "      <td>0.0640</td>\n",
       "      <td>0.094000</td>\n",
       "      <td>0.7300</td>\n",
       "    </tr>\n",
       "    <tr>\n",
       "      <th>compound</th>\n",
       "      <td>28726.0</td>\n",
       "      <td>-0.056411</td>\n",
       "      <td>0.738386</td>\n",
       "      <td>-0.9999</td>\n",
       "      <td>-0.8202</td>\n",
       "      <td>-0.1484</td>\n",
       "      <td>0.727475</td>\n",
       "      <td>0.9995</td>\n",
       "    </tr>\n",
       "  </tbody>\n",
       "</table>\n",
       "</div>"
      ],
      "text/plain": [
       "            count      mean       std     min     25%     50%       75%  \\\n",
       "neg       28726.0  0.074766  0.054982  0.0000  0.0370  0.0670  0.103000   \n",
       "neu       28726.0  0.855922  0.066622  0.2380  0.8190  0.8600  0.900000   \n",
       "pos       28726.0  0.069316  0.046498  0.0000  0.0380  0.0640  0.094000   \n",
       "compound  28726.0 -0.056411  0.738386 -0.9999 -0.8202 -0.1484  0.727475   \n",
       "\n",
       "             max  \n",
       "neg       0.7620  \n",
       "neu       1.0000  \n",
       "pos       0.7300  \n",
       "compound  0.9995  "
      ]
     },
     "execution_count": 26,
     "metadata": {},
     "output_type": "execute_result"
    }
   ],
   "source": [
    "la_scores.describe().T"
   ]
  },
  {
   "cell_type": "code",
   "execution_count": 27,
   "metadata": {},
   "outputs": [],
   "source": [
    "la_scores['subreddit'] = 'legaladvice'"
   ]
  },
  {
   "cell_type": "code",
   "execution_count": 28,
   "metadata": {},
   "outputs": [
    {
     "data": {
      "text/html": [
       "<div>\n",
       "<style scoped>\n",
       "    .dataframe tbody tr th:only-of-type {\n",
       "        vertical-align: middle;\n",
       "    }\n",
       "\n",
       "    .dataframe tbody tr th {\n",
       "        vertical-align: top;\n",
       "    }\n",
       "\n",
       "    .dataframe thead th {\n",
       "        text-align: right;\n",
       "    }\n",
       "</style>\n",
       "<table border=\"1\" class=\"dataframe\">\n",
       "  <thead>\n",
       "    <tr style=\"text-align: right;\">\n",
       "      <th></th>\n",
       "      <th>neg</th>\n",
       "      <th>neu</th>\n",
       "      <th>pos</th>\n",
       "      <th>compound</th>\n",
       "      <th>subreddit</th>\n",
       "    </tr>\n",
       "  </thead>\n",
       "  <tbody>\n",
       "    <tr>\n",
       "      <th>0</th>\n",
       "      <td>0.015</td>\n",
       "      <td>0.882</td>\n",
       "      <td>0.103</td>\n",
       "      <td>0.8641</td>\n",
       "      <td>legaladvice</td>\n",
       "    </tr>\n",
       "    <tr>\n",
       "      <th>1</th>\n",
       "      <td>0.041</td>\n",
       "      <td>0.841</td>\n",
       "      <td>0.118</td>\n",
       "      <td>0.8367</td>\n",
       "      <td>legaladvice</td>\n",
       "    </tr>\n",
       "  </tbody>\n",
       "</table>\n",
       "</div>"
      ],
      "text/plain": [
       "     neg    neu    pos  compound    subreddit\n",
       "0  0.015  0.882  0.103    0.8641  legaladvice\n",
       "1  0.041  0.841  0.118    0.8367  legaladvice"
      ]
     },
     "execution_count": 28,
     "metadata": {},
     "output_type": "execute_result"
    }
   ],
   "source": [
    "la_scores.head(2)"
   ]
  },
  {
   "cell_type": "code",
   "execution_count": 29,
   "metadata": {},
   "outputs": [
    {
     "data": {
      "text/html": [
       "<div>\n",
       "<style scoped>\n",
       "    .dataframe tbody tr th:only-of-type {\n",
       "        vertical-align: middle;\n",
       "    }\n",
       "\n",
       "    .dataframe tbody tr th {\n",
       "        vertical-align: top;\n",
       "    }\n",
       "\n",
       "    .dataframe thead th {\n",
       "        text-align: right;\n",
       "    }\n",
       "</style>\n",
       "<table border=\"1\" class=\"dataframe\">\n",
       "  <thead>\n",
       "    <tr style=\"text-align: right;\">\n",
       "      <th></th>\n",
       "      <th>count</th>\n",
       "      <th>mean</th>\n",
       "      <th>std</th>\n",
       "      <th>min</th>\n",
       "      <th>25%</th>\n",
       "      <th>50%</th>\n",
       "      <th>75%</th>\n",
       "      <th>max</th>\n",
       "    </tr>\n",
       "  </thead>\n",
       "  <tbody>\n",
       "    <tr>\n",
       "      <th>neg</th>\n",
       "      <td>26987.0</td>\n",
       "      <td>0.066549</td>\n",
       "      <td>0.085892</td>\n",
       "      <td>0.0000</td>\n",
       "      <td>0.0000</td>\n",
       "      <td>0.037</td>\n",
       "      <td>0.1070</td>\n",
       "      <td>0.6760</td>\n",
       "    </tr>\n",
       "    <tr>\n",
       "      <th>neu</th>\n",
       "      <td>26987.0</td>\n",
       "      <td>0.854217</td>\n",
       "      <td>0.115764</td>\n",
       "      <td>0.2780</td>\n",
       "      <td>0.7810</td>\n",
       "      <td>0.861</td>\n",
       "      <td>0.9460</td>\n",
       "      <td>1.0000</td>\n",
       "    </tr>\n",
       "    <tr>\n",
       "      <th>pos</th>\n",
       "      <td>26987.0</td>\n",
       "      <td>0.079235</td>\n",
       "      <td>0.086697</td>\n",
       "      <td>0.0000</td>\n",
       "      <td>0.0000</td>\n",
       "      <td>0.062</td>\n",
       "      <td>0.1260</td>\n",
       "      <td>0.7220</td>\n",
       "    </tr>\n",
       "    <tr>\n",
       "      <th>compound</th>\n",
       "      <td>26987.0</td>\n",
       "      <td>0.068198</td>\n",
       "      <td>0.546802</td>\n",
       "      <td>-0.9983</td>\n",
       "      <td>-0.3485</td>\n",
       "      <td>0.000</td>\n",
       "      <td>0.5251</td>\n",
       "      <td>0.9991</td>\n",
       "    </tr>\n",
       "  </tbody>\n",
       "</table>\n",
       "</div>"
      ],
      "text/plain": [
       "            count      mean       std     min     25%    50%     75%     max\n",
       "neg       26987.0  0.066549  0.085892  0.0000  0.0000  0.037  0.1070  0.6760\n",
       "neu       26987.0  0.854217  0.115764  0.2780  0.7810  0.861  0.9460  1.0000\n",
       "pos       26987.0  0.079235  0.086697  0.0000  0.0000  0.062  0.1260  0.7220\n",
       "compound  26987.0  0.068198  0.546802 -0.9983 -0.3485  0.000  0.5251  0.9991"
      ]
     },
     "execution_count": 29,
     "metadata": {},
     "output_type": "execute_result"
    }
   ],
   "source": [
    "nsq_scores.describe().T"
   ]
  },
  {
   "cell_type": "code",
   "execution_count": 30,
   "metadata": {},
   "outputs": [],
   "source": [
    "nsq_scores['subreddit'] = 'NoStupidQuestions'"
   ]
  },
  {
   "cell_type": "code",
   "execution_count": 31,
   "metadata": {},
   "outputs": [
    {
     "data": {
      "image/png": "[encoded data removed]",
      "text/plain": [
       "<Figure size 432x288 with 1 Axes>"
      ]
     },
     "metadata": {},
     "output_type": "display_data"
    }
   ],
   "source": [
    "sns.boxplot(data=la_scores.drop(columns=['compound']));"
   ]
  },
  {
   "cell_type": "code",
   "execution_count": 32,
   "metadata": {},
   "outputs": [
    {
     "data": {
      "image/png": "[encoded data removed]",
      "text/plain": [
       "<Figure size 432x288 with 1 Axes>"
      ]
     },
     "metadata": {},
     "output_type": "display_data"
    }
   ],
   "source": [
    "sns.boxplot(data=nsq_scores.drop(columns=['compound']));"
   ]
  },
  {
   "cell_type": "code",
   "execution_count": 33,
   "metadata": {},
   "outputs": [
    {
     "data": {
      "image/png": "[encoded data removed]",
      "text/plain": [
       "<Figure size 1008x432 with 2 Axes>"
      ]
     },
     "metadata": {},
     "output_type": "display_data"
    }
   ],
   "source": [
    "fig, ax = plt.subplots(1, 2, figsize = (14, 6), sharey=True)\n",
    "\n",
    "plt.subplot(1, 2, 1)\n",
    "la_scores.mean().plot(kind='bar')\n",
    "plt.title('Mean Sentiment Scores - Legal Advice')\n",
    "plt.xlabel('Sentiment')\n",
    "plt.ylim(-0.2, 1);\n",
    "\n",
    "plt.subplot(1, 2, 2)\n",
    "nsq_scores.mean().plot(kind='bar')\n",
    "plt.title('Mean Sentiment Scores - No Stupid Questions')\n",
    "plt.xlabel('Sentiment')\n",
    "plt.ylim(-0.2, 1);"
   ]
  },
  {
   "cell_type": "code",
   "execution_count": 34,
   "metadata": {},
   "outputs": [],
   "source": [
    "df['subreddit'], names = pd.factorize(df['subreddit'])"
   ]
  },
  {
   "cell_type": "code",
   "execution_count": 54,
   "metadata": {},
   "outputs": [],
   "source": [
    "X = df['clean_text']\n",
    "y = df['subreddit']"
   ]
  },
  {
   "cell_type": "code",
   "execution_count": 55,
   "metadata": {},
   "outputs": [
    {
     "data": {
      "text/plain": [
       "0    About a week ago I ended a moderately long rel...\n",
       "1    So I m looking for a new car and I stumbled up...\n",
       "2    I m an essential worker I work part time My co...\n",
       "3    28F engaged to a 31M we ll refer to him as M b...\n",
       "4    Can I be sued for using a common phrase someth...\n",
       "Name: clean_text, dtype: object"
      ]
     },
     "execution_count": 55,
     "metadata": {},
     "output_type": "execute_result"
    }
   ],
   "source": [
    "X.head()"
   ]
  },
  {
   "cell_type": "code",
   "execution_count": 56,
   "metadata": {},
   "outputs": [
    {
     "data": {
      "text/plain": [
       "<bound method NDFrame.head of 0        0\n",
       "1        0\n",
       "2        0\n",
       "3        0\n",
       "4        0\n",
       "        ..\n",
       "59995    1\n",
       "59996    1\n",
       "59997    1\n",
       "59998    1\n",
       "59999    1\n",
       "Name: subreddit, Length: 55713, dtype: int64>"
      ]
     },
     "execution_count": 56,
     "metadata": {},
     "output_type": "execute_result"
    }
   ],
   "source": [
    "y.head"
   ]
  },
  {
   "cell_type": "code",
   "execution_count": 57,
   "metadata": {},
   "outputs": [],
   "source": [
    "X_train, X_test, y_train, y_test = train_test_split(X, y, random_state=22)"
   ]
  },
  {
   "cell_type": "code",
   "execution_count": 58,
   "metadata": {},
   "outputs": [
    {
     "data": {
      "text/plain": [
       "(41784,)"
      ]
     },
     "execution_count": 58,
     "metadata": {},
     "output_type": "execute_result"
    }
   ],
   "source": [
    "X_train.shape"
   ]
  },
  {
   "cell_type": "code",
   "execution_count": 59,
   "metadata": {},
   "outputs": [
    {
     "data": {
      "text/plain": [
       "(41784,)"
      ]
     },
     "execution_count": 59,
     "metadata": {},
     "output_type": "execute_result"
    }
   ],
   "source": [
    "y_train.shape"
   ]
  },
  {
   "cell_type": "code",
   "execution_count": 60,
   "metadata": {},
   "outputs": [],
   "source": [
    "nbayes = MultinomialNB()\n",
    "cvect = CountVectorizer(stop_words='english')"
   ]
  },
  {
   "cell_type": "code",
   "execution_count": 61,
   "metadata": {},
   "outputs": [],
   "source": [
    "X_train_vect = cvect.fit_transform(X_train)"
   ]
  },
  {
   "cell_type": "code",
   "execution_count": 62,
   "metadata": {},
   "outputs": [],
   "source": [
    "X_train_df = pd.DataFrame(X_train_vect.toarray(), columns=cvect.get_feature_names())"
   ]
  },
  {
   "cell_type": "code",
   "execution_count": 63,
   "metadata": {},
   "outputs": [
    {
     "data": {
      "text/html": [
       "<div>\n",
       "<style scoped>\n",
       "    .dataframe tbody tr th:only-of-type {\n",
       "        vertical-align: middle;\n",
       "    }\n",
       "\n",
       "    .dataframe tbody tr th {\n",
       "        vertical-align: top;\n",
       "    }\n",
       "\n",
       "    .dataframe thead th {\n",
       "        text-align: right;\n",
       "    }\n",
       "</style>\n",
       "<table border=\"1\" class=\"dataframe\">\n",
       "  <thead>\n",
       "    <tr style=\"text-align: right;\">\n",
       "      <th></th>\n",
       "      <th>00</th>\n",
       "      <th>000</th>\n",
       "      <th>0000</th>\n",
       "      <th>000000298023224ft</th>\n",
       "      <th>00001</th>\n",
       "      <th>00002511</th>\n",
       "      <th>00008</th>\n",
       "      <th>0001</th>\n",
       "      <th>000ish</th>\n",
       "      <th>000k</th>\n",
       "      <th>...</th>\n",
       "      <th>zwei</th>\n",
       "      <th>zwischen</th>\n",
       "      <th>zxuwbfle1sy</th>\n",
       "      <th>zykkqg2</th>\n",
       "      <th>zymun</th>\n",
       "      <th>zyprexa</th>\n",
       "      <th>zyslyat</th>\n",
       "      <th>zzevbq4pp1wrbl4</th>\n",
       "      <th>zzz</th>\n",
       "      <th>zzzquil</th>\n",
       "    </tr>\n",
       "  </thead>\n",
       "  <tbody>\n",
       "    <tr>\n",
       "      <th>0</th>\n",
       "      <td>0</td>\n",
       "      <td>0</td>\n",
       "      <td>0</td>\n",
       "      <td>0</td>\n",
       "      <td>0</td>\n",
       "      <td>0</td>\n",
       "      <td>0</td>\n",
       "      <td>0</td>\n",
       "      <td>0</td>\n",
       "      <td>0</td>\n",
       "      <td>...</td>\n",
       "      <td>0</td>\n",
       "      <td>0</td>\n",
       "      <td>0</td>\n",
       "      <td>0</td>\n",
       "      <td>0</td>\n",
       "      <td>0</td>\n",
       "      <td>0</td>\n",
       "      <td>0</td>\n",
       "      <td>0</td>\n",
       "      <td>0</td>\n",
       "    </tr>\n",
       "    <tr>\n",
       "      <th>1</th>\n",
       "      <td>0</td>\n",
       "      <td>0</td>\n",
       "      <td>0</td>\n",
       "      <td>0</td>\n",
       "      <td>0</td>\n",
       "      <td>0</td>\n",
       "      <td>0</td>\n",
       "      <td>0</td>\n",
       "      <td>0</td>\n",
       "      <td>0</td>\n",
       "      <td>...</td>\n",
       "      <td>0</td>\n",
       "      <td>0</td>\n",
       "      <td>0</td>\n",
       "      <td>0</td>\n",
       "      <td>0</td>\n",
       "      <td>0</td>\n",
       "      <td>0</td>\n",
       "      <td>0</td>\n",
       "      <td>0</td>\n",
       "      <td>0</td>\n",
       "    </tr>\n",
       "    <tr>\n",
       "      <th>2</th>\n",
       "      <td>0</td>\n",
       "      <td>0</td>\n",
       "      <td>0</td>\n",
       "      <td>0</td>\n",
       "      <td>0</td>\n",
       "      <td>0</td>\n",
       "      <td>0</td>\n",
       "      <td>0</td>\n",
       "      <td>0</td>\n",
       "      <td>0</td>\n",
       "      <td>...</td>\n",
       "      <td>0</td>\n",
       "      <td>0</td>\n",
       "      <td>0</td>\n",
       "      <td>0</td>\n",
       "      <td>0</td>\n",
       "      <td>0</td>\n",
       "      <td>0</td>\n",
       "      <td>0</td>\n",
       "      <td>0</td>\n",
       "      <td>0</td>\n",
       "    </tr>\n",
       "    <tr>\n",
       "      <th>3</th>\n",
       "      <td>0</td>\n",
       "      <td>0</td>\n",
       "      <td>0</td>\n",
       "      <td>0</td>\n",
       "      <td>0</td>\n",
       "      <td>0</td>\n",
       "      <td>0</td>\n",
       "      <td>0</td>\n",
       "      <td>0</td>\n",
       "      <td>0</td>\n",
       "      <td>...</td>\n",
       "      <td>0</td>\n",
       "      <td>0</td>\n",
       "      <td>0</td>\n",
       "      <td>0</td>\n",
       "      <td>0</td>\n",
       "      <td>0</td>\n",
       "      <td>0</td>\n",
       "      <td>0</td>\n",
       "      <td>0</td>\n",
       "      <td>0</td>\n",
       "    </tr>\n",
       "    <tr>\n",
       "      <th>4</th>\n",
       "      <td>0</td>\n",
       "      <td>0</td>\n",
       "      <td>0</td>\n",
       "      <td>0</td>\n",
       "      <td>0</td>\n",
       "      <td>0</td>\n",
       "      <td>0</td>\n",
       "      <td>0</td>\n",
       "      <td>0</td>\n",
       "      <td>0</td>\n",
       "      <td>...</td>\n",
       "      <td>0</td>\n",
       "      <td>0</td>\n",
       "      <td>0</td>\n",
       "      <td>0</td>\n",
       "      <td>0</td>\n",
       "      <td>0</td>\n",
       "      <td>0</td>\n",
       "      <td>0</td>\n",
       "      <td>0</td>\n",
       "      <td>0</td>\n",
       "    </tr>\n",
       "    <tr>\n",
       "      <th>...</th>\n",
       "      <td>...</td>\n",
       "      <td>...</td>\n",
       "      <td>...</td>\n",
       "      <td>...</td>\n",
       "      <td>...</td>\n",
       "      <td>...</td>\n",
       "      <td>...</td>\n",
       "      <td>...</td>\n",
       "      <td>...</td>\n",
       "      <td>...</td>\n",
       "      <td>...</td>\n",
       "      <td>...</td>\n",
       "      <td>...</td>\n",
       "      <td>...</td>\n",
       "      <td>...</td>\n",
       "      <td>...</td>\n",
       "      <td>...</td>\n",
       "      <td>...</td>\n",
       "      <td>...</td>\n",
       "      <td>...</td>\n",
       "      <td>...</td>\n",
       "    </tr>\n",
       "    <tr>\n",
       "      <th>41779</th>\n",
       "      <td>0</td>\n",
       "      <td>0</td>\n",
       "      <td>0</td>\n",
       "      <td>0</td>\n",
       "      <td>0</td>\n",
       "      <td>0</td>\n",
       "      <td>0</td>\n",
       "      <td>0</td>\n",
       "      <td>0</td>\n",
       "      <td>0</td>\n",
       "      <td>...</td>\n",
       "      <td>0</td>\n",
       "      <td>0</td>\n",
       "      <td>0</td>\n",
       "      <td>0</td>\n",
       "      <td>0</td>\n",
       "      <td>0</td>\n",
       "      <td>0</td>\n",
       "      <td>0</td>\n",
       "      <td>0</td>\n",
       "      <td>0</td>\n",
       "    </tr>\n",
       "    <tr>\n",
       "      <th>41780</th>\n",
       "      <td>0</td>\n",
       "      <td>0</td>\n",
       "      <td>0</td>\n",
       "      <td>0</td>\n",
       "      <td>0</td>\n",
       "      <td>0</td>\n",
       "      <td>0</td>\n",
       "      <td>0</td>\n",
       "      <td>0</td>\n",
       "      <td>0</td>\n",
       "      <td>...</td>\n",
       "      <td>0</td>\n",
       "      <td>0</td>\n",
       "      <td>0</td>\n",
       "      <td>0</td>\n",
       "      <td>0</td>\n",
       "      <td>0</td>\n",
       "      <td>0</td>\n",
       "      <td>0</td>\n",
       "      <td>0</td>\n",
       "      <td>0</td>\n",
       "    </tr>\n",
       "    <tr>\n",
       "      <th>41781</th>\n",
       "      <td>0</td>\n",
       "      <td>0</td>\n",
       "      <td>0</td>\n",
       "      <td>0</td>\n",
       "      <td>0</td>\n",
       "      <td>0</td>\n",
       "      <td>0</td>\n",
       "      <td>0</td>\n",
       "      <td>0</td>\n",
       "      <td>0</td>\n",
       "      <td>...</td>\n",
       "      <td>0</td>\n",
       "      <td>0</td>\n",
       "      <td>0</td>\n",
       "      <td>0</td>\n",
       "      <td>0</td>\n",
       "      <td>0</td>\n",
       "      <td>0</td>\n",
       "      <td>0</td>\n",
       "      <td>0</td>\n",
       "      <td>0</td>\n",
       "    </tr>\n",
       "    <tr>\n",
       "      <th>41782</th>\n",
       "      <td>0</td>\n",
       "      <td>0</td>\n",
       "      <td>0</td>\n",
       "      <td>0</td>\n",
       "      <td>0</td>\n",
       "      <td>0</td>\n",
       "      <td>0</td>\n",
       "      <td>0</td>\n",
       "      <td>0</td>\n",
       "      <td>0</td>\n",
       "      <td>...</td>\n",
       "      <td>0</td>\n",
       "      <td>0</td>\n",
       "      <td>0</td>\n",
       "      <td>0</td>\n",
       "      <td>0</td>\n",
       "      <td>0</td>\n",
       "      <td>0</td>\n",
       "      <td>0</td>\n",
       "      <td>0</td>\n",
       "      <td>0</td>\n",
       "    </tr>\n",
       "    <tr>\n",
       "      <th>41783</th>\n",
       "      <td>0</td>\n",
       "      <td>0</td>\n",
       "      <td>0</td>\n",
       "      <td>0</td>\n",
       "      <td>0</td>\n",
       "      <td>0</td>\n",
       "      <td>0</td>\n",
       "      <td>0</td>\n",
       "      <td>0</td>\n",
       "      <td>0</td>\n",
       "      <td>...</td>\n",
       "      <td>0</td>\n",
       "      <td>0</td>\n",
       "      <td>0</td>\n",
       "      <td>0</td>\n",
       "      <td>0</td>\n",
       "      <td>0</td>\n",
       "      <td>0</td>\n",
       "      <td>0</td>\n",
       "      <td>0</td>\n",
       "      <td>0</td>\n",
       "    </tr>\n",
       "  </tbody>\n",
       "</table>\n",
       "<p>41784 rows × 48061 columns</p>\n",
       "</div>"
      ],
      "text/plain": [
       "       00  000  0000  000000298023224ft  00001  00002511  00008  0001  000ish  \\\n",
       "0       0    0     0                  0      0         0      0     0       0   \n",
       "1       0    0     0                  0      0         0      0     0       0   \n",
       "2       0    0     0                  0      0         0      0     0       0   \n",
       "3       0    0     0                  0      0         0      0     0       0   \n",
       "4       0    0     0                  0      0         0      0     0       0   \n",
       "...    ..  ...   ...                ...    ...       ...    ...   ...     ...   \n",
       "41779   0    0     0                  0      0         0      0     0       0   \n",
       "41780   0    0     0                  0      0         0      0     0       0   \n",
       "41781   0    0     0                  0      0         0      0     0       0   \n",
       "41782   0    0     0                  0      0         0      0     0       0   \n",
       "41783   0    0     0                  0      0         0      0     0       0   \n",
       "\n",
       "       000k  ...  zwei  zwischen  zxuwbfle1sy  zykkqg2  zymun  zyprexa  \\\n",
       "0         0  ...     0         0            0        0      0        0   \n",
       "1         0  ...     0         0            0        0      0        0   \n",
       "2         0  ...     0         0            0        0      0        0   \n",
       "3         0  ...     0         0            0        0      0        0   \n",
       "4         0  ...     0         0            0        0      0        0   \n",
       "...     ...  ...   ...       ...          ...      ...    ...      ...   \n",
       "41779     0  ...     0         0            0        0      0        0   \n",
       "41780     0  ...     0         0            0        0      0        0   \n",
       "41781     0  ...     0         0            0        0      0        0   \n",
       "41782     0  ...     0         0            0        0      0        0   \n",
       "41783     0  ...     0         0            0        0      0        0   \n",
       "\n",
       "       zyslyat  zzevbq4pp1wrbl4  zzz  zzzquil  \n",
       "0            0                0    0        0  \n",
       "1            0                0    0        0  \n",
       "2            0                0    0        0  \n",
       "3            0                0    0        0  \n",
       "4            0                0    0        0  \n",
       "...        ...              ...  ...      ...  \n",
       "41779        0                0    0        0  \n",
       "41780        0                0    0        0  \n",
       "41781        0                0    0        0  \n",
       "41782        0                0    0        0  \n",
       "41783        0                0    0        0  \n",
       "\n",
       "[41784 rows x 48061 columns]"
      ]
     },
     "execution_count": 63,
     "metadata": {},
     "output_type": "execute_result"
    }
   ],
   "source": [
    "X_train_df"
   ]
  },
  {
   "cell_type": "code",
   "execution_count": 64,
   "metadata": {},
   "outputs": [],
   "source": [
    "X_test_vect = cvect.transform(X_test)"
   ]
  },
  {
   "cell_type": "code",
   "execution_count": 65,
   "metadata": {},
   "outputs": [],
   "source": [
    "X_test_df = pd.DataFrame(X_test_vect.toarray(), columns=cvect.get_feature_names())"
   ]
  },
  {
   "cell_type": "code",
   "execution_count": 66,
   "metadata": {},
   "outputs": [
    {
     "data": {
      "text/html": [
       "<div>\n",
       "<style scoped>\n",
       "    .dataframe tbody tr th:only-of-type {\n",
       "        vertical-align: middle;\n",
       "    }\n",
       "\n",
       "    .dataframe tbody tr th {\n",
       "        vertical-align: top;\n",
       "    }\n",
       "\n",
       "    .dataframe thead th {\n",
       "        text-align: right;\n",
       "    }\n",
       "</style>\n",
       "<table border=\"1\" class=\"dataframe\">\n",
       "  <thead>\n",
       "    <tr style=\"text-align: right;\">\n",
       "      <th></th>\n",
       "      <th>00</th>\n",
       "      <th>000</th>\n",
       "      <th>0000</th>\n",
       "      <th>000000298023224ft</th>\n",
       "      <th>00001</th>\n",
       "      <th>00002511</th>\n",
       "      <th>00008</th>\n",
       "      <th>0001</th>\n",
       "      <th>000ish</th>\n",
       "      <th>000k</th>\n",
       "      <th>...</th>\n",
       "      <th>zwei</th>\n",
       "      <th>zwischen</th>\n",
       "      <th>zxuwbfle1sy</th>\n",
       "      <th>zykkqg2</th>\n",
       "      <th>zymun</th>\n",
       "      <th>zyprexa</th>\n",
       "      <th>zyslyat</th>\n",
       "      <th>zzevbq4pp1wrbl4</th>\n",
       "      <th>zzz</th>\n",
       "      <th>zzzquil</th>\n",
       "    </tr>\n",
       "  </thead>\n",
       "  <tbody>\n",
       "    <tr>\n",
       "      <th>0</th>\n",
       "      <td>0</td>\n",
       "      <td>0</td>\n",
       "      <td>0</td>\n",
       "      <td>0</td>\n",
       "      <td>0</td>\n",
       "      <td>0</td>\n",
       "      <td>0</td>\n",
       "      <td>0</td>\n",
       "      <td>0</td>\n",
       "      <td>0</td>\n",
       "      <td>...</td>\n",
       "      <td>0</td>\n",
       "      <td>0</td>\n",
       "      <td>0</td>\n",
       "      <td>0</td>\n",
       "      <td>0</td>\n",
       "      <td>0</td>\n",
       "      <td>0</td>\n",
       "      <td>0</td>\n",
       "      <td>0</td>\n",
       "      <td>0</td>\n",
       "    </tr>\n",
       "    <tr>\n",
       "      <th>1</th>\n",
       "      <td>0</td>\n",
       "      <td>0</td>\n",
       "      <td>0</td>\n",
       "      <td>0</td>\n",
       "      <td>0</td>\n",
       "      <td>0</td>\n",
       "      <td>0</td>\n",
       "      <td>0</td>\n",
       "      <td>0</td>\n",
       "      <td>0</td>\n",
       "      <td>...</td>\n",
       "      <td>0</td>\n",
       "      <td>0</td>\n",
       "      <td>0</td>\n",
       "      <td>0</td>\n",
       "      <td>0</td>\n",
       "      <td>0</td>\n",
       "      <td>0</td>\n",
       "      <td>0</td>\n",
       "      <td>0</td>\n",
       "      <td>0</td>\n",
       "    </tr>\n",
       "    <tr>\n",
       "      <th>2</th>\n",
       "      <td>0</td>\n",
       "      <td>0</td>\n",
       "      <td>0</td>\n",
       "      <td>0</td>\n",
       "      <td>0</td>\n",
       "      <td>0</td>\n",
       "      <td>0</td>\n",
       "      <td>0</td>\n",
       "      <td>0</td>\n",
       "      <td>0</td>\n",
       "      <td>...</td>\n",
       "      <td>0</td>\n",
       "      <td>0</td>\n",
       "      <td>0</td>\n",
       "      <td>0</td>\n",
       "      <td>0</td>\n",
       "      <td>0</td>\n",
       "      <td>0</td>\n",
       "      <td>0</td>\n",
       "      <td>0</td>\n",
       "      <td>0</td>\n",
       "    </tr>\n",
       "    <tr>\n",
       "      <th>3</th>\n",
       "      <td>0</td>\n",
       "      <td>0</td>\n",
       "      <td>0</td>\n",
       "      <td>0</td>\n",
       "      <td>0</td>\n",
       "      <td>0</td>\n",
       "      <td>0</td>\n",
       "      <td>0</td>\n",
       "      <td>0</td>\n",
       "      <td>0</td>\n",
       "      <td>...</td>\n",
       "      <td>0</td>\n",
       "      <td>0</td>\n",
       "      <td>0</td>\n",
       "      <td>0</td>\n",
       "      <td>0</td>\n",
       "      <td>0</td>\n",
       "      <td>0</td>\n",
       "      <td>0</td>\n",
       "      <td>0</td>\n",
       "      <td>0</td>\n",
       "    </tr>\n",
       "    <tr>\n",
       "      <th>4</th>\n",
       "      <td>0</td>\n",
       "      <td>0</td>\n",
       "      <td>0</td>\n",
       "      <td>0</td>\n",
       "      <td>0</td>\n",
       "      <td>0</td>\n",
       "      <td>0</td>\n",
       "      <td>0</td>\n",
       "      <td>0</td>\n",
       "      <td>0</td>\n",
       "      <td>...</td>\n",
       "      <td>0</td>\n",
       "      <td>0</td>\n",
       "      <td>0</td>\n",
       "      <td>0</td>\n",
       "      <td>0</td>\n",
       "      <td>0</td>\n",
       "      <td>0</td>\n",
       "      <td>0</td>\n",
       "      <td>0</td>\n",
       "      <td>0</td>\n",
       "    </tr>\n",
       "  </tbody>\n",
       "</table>\n",
       "<p>5 rows × 48061 columns</p>\n",
       "</div>"
      ],
      "text/plain": [
       "   00  000  0000  000000298023224ft  00001  00002511  00008  0001  000ish  \\\n",
       "0   0    0     0                  0      0         0      0     0       0   \n",
       "1   0    0     0                  0      0         0      0     0       0   \n",
       "2   0    0     0                  0      0         0      0     0       0   \n",
       "3   0    0     0                  0      0         0      0     0       0   \n",
       "4   0    0     0                  0      0         0      0     0       0   \n",
       "\n",
       "   000k  ...  zwei  zwischen  zxuwbfle1sy  zykkqg2  zymun  zyprexa  zyslyat  \\\n",
       "0     0  ...     0         0            0        0      0        0        0   \n",
       "1     0  ...     0         0            0        0      0        0        0   \n",
       "2     0  ...     0         0            0        0      0        0        0   \n",
       "3     0  ...     0         0            0        0      0        0        0   \n",
       "4     0  ...     0         0            0        0      0        0        0   \n",
       "\n",
       "   zzevbq4pp1wrbl4  zzz  zzzquil  \n",
       "0                0    0        0  \n",
       "1                0    0        0  \n",
       "2                0    0        0  \n",
       "3                0    0        0  \n",
       "4                0    0        0  \n",
       "\n",
       "[5 rows x 48061 columns]"
      ]
     },
     "execution_count": 66,
     "metadata": {},
     "output_type": "execute_result"
    }
   ],
   "source": [
    "X_test_df.head()"
   ]
  },
  {
   "cell_type": "code",
   "execution_count": 68,
   "metadata": {},
   "outputs": [
    {
     "data": {
      "text/plain": [
       "MultinomialNB()"
      ]
     },
     "execution_count": 68,
     "metadata": {},
     "output_type": "execute_result"
    }
   ],
   "source": [
    "nbayes.fit(X_train_vect, y_train)"
   ]
  },
  {
   "cell_type": "code",
   "execution_count": 69,
   "metadata": {},
   "outputs": [
    {
     "data": {
      "text/plain": [
       "0.923056672410492"
      ]
     },
     "execution_count": 69,
     "metadata": {},
     "output_type": "execute_result"
    }
   ],
   "source": [
    "nbayes.score(X_train_vect, y_train)"
   ]
  },
  {
   "cell_type": "code",
   "execution_count": 70,
   "metadata": {},
   "outputs": [
    {
     "data": {
      "text/plain": [
       "0.9076746356522364"
      ]
     },
     "execution_count": 70,
     "metadata": {},
     "output_type": "execute_result"
    }
   ],
   "source": [
    "nbayes.score(X_test_vect, y_test)"
   ]
  },
  {
   "cell_type": "code",
   "execution_count": 82,
   "metadata": {},
   "outputs": [
    {
     "data": {
      "image/png": "[encoded data removed]",
      "text/plain": [
       "<Figure size 576x396 with 1 Axes>"
      ]
     },
     "metadata": {},
     "output_type": "display_data"
    }
   ],
   "source": [
    "X_train_df.sum().nlargest(15).plot(kind='bar');"
   ]
  },
  {
   "cell_type": "code",
   "execution_count": 83,
   "metadata": {},
   "outputs": [
    {
     "data": {
      "image/png": "[encoded data removed]",
      "text/plain": [
       "<Figure size 576x396 with 1 Axes>"
      ]
     },
     "metadata": {},
     "output_type": "display_data"
    }
   ],
   "source": [
    "X_train_df[X_train_df['subreddit']==0].sum().nlargest(15).plot(kind='bar');"
   ]
  },
  {
   "cell_type": "code",
   "execution_count": 84,
   "metadata": {},
   "outputs": [
    {
     "data": {
      "image/png": "[encoded data removed]",
      "text/plain": [
       "<Figure size 576x396 with 1 Axes>"
      ]
     },
     "metadata": {},
     "output_type": "display_data"
    }
   ],
   "source": [
    "X_train_df[X_train_df['subreddit']==1].sum().nlargest(15).plot(kind='bar');"
   ]
  },
  {
   "cell_type": "code",
   "execution_count": 48,
   "metadata": {},
   "outputs": [
    {
     "name": "stderr",
     "output_type": "stream",
     "text": [
      "/Users/claireph/opt/anaconda3/lib/python3.8/site-packages/sklearn/utils/deprecation.py:143: FutureWarning: The sklearn.metrics.classification module is  deprecated in version 0.22 and will be removed in version 0.24. The corresponding classes / functions should instead be imported from sklearn.metrics. Anything that cannot be imported from sklearn.metrics is now part of the private API.\n",
      "  warnings.warn(message, FutureWarning)\n"
     ]
    }
   ],
   "source": [
    "from yellowbrick.classifier import ROCAUC"
   ]
  },
  {
   "cell_type": "code",
   "execution_count": 49,
   "metadata": {},
   "outputs": [
    {
     "name": "stderr",
     "output_type": "stream",
     "text": [
      "/Users/claireph/opt/anaconda3/lib/python3.8/site-packages/sklearn/base.py:209: FutureWarning: From version 0.24, get_params will raise an AttributeError if a parameter cannot be retrieved as an instance attribute. Previously it would return None.\n",
      "  warnings.warn('From version 0.24, get_params will raise an '\n"
     ]
    },
    {
     "data": {
      "image/png": "[encoded data removed]",
      "text/plain": [
       "<Figure size 576x396 with 1 Axes>"
      ]
     },
     "metadata": {},
     "output_type": "display_data"
    }
   ],
   "source": [
    "# idea provided by Alex Fioto\n",
    "rocauc_viz = ROCAUC(nbayes, classes=['legaladvice', 'nostupidquestions'])\n",
    "rocauc_viz.fit(X_train_df, y_train)\n",
    "rocauc_viz.score(X_test_df, y_test)\n",
    "rocauc_viz.show();"
   ]
  },
  {
   "cell_type": "code",
   "execution_count": 50,
   "metadata": {},
   "outputs": [
    {
     "data": {
      "image/png": "[encoded data removed]",
      "text/plain": [
       "<Figure size 576x396 with 1 Axes>"
      ]
     },
     "metadata": {},
     "output_type": "display_data"
    }
   ],
   "source": [
    "from yellowbrick.text import FreqDistVisualizer\n",
    "vectorizer = CountVectorizer(stop_words = 'english')\n",
    "docs       = vectorizer.fit_transform(X_train)\n",
    "features   = vectorizer.get_feature_names()\n",
    "visualizer = FreqDistVisualizer(features=features, orient='v')\n",
    "visualizer.fit(docs)\n",
    "visualizer.show();"
   ]
  },
  {
   "cell_type": "markdown",
   "metadata": {},
   "source": [
    "### Discovering Model 2"
   ]
  },
  {
   "cell_type": "code",
   "execution_count": 91,
   "metadata": {},
   "outputs": [],
   "source": [
    "lr = LogisticRegression(max_iter=10_000)\n",
    "knn = KNeighborsClassifier()\n",
    "dtc = DecisionTreeClassifier()\n",
    "bag = BaggingClassifier()\n",
    "rfc = RandomForestClassifier()\n",
    "ada = AdaBoostClassifier()\n",
    "svc = SVC()"
   ]
  },
  {
   "cell_type": "code",
   "execution_count": 45,
   "metadata": {},
   "outputs": [
    {
     "data": {
      "text/plain": [
       "LogisticRegression(max_iter=10000)"
      ]
     },
     "execution_count": 45,
     "metadata": {},
     "output_type": "execute_result"
    }
   ],
   "source": [
    "lr.fit(X_train_vect, y_train)"
   ]
  },
  {
   "cell_type": "code",
   "execution_count": null,
   "metadata": {},
   "outputs": [],
   "source": []
  },
  {
   "cell_type": "code",
   "execution_count": null,
   "metadata": {},
   "outputs": [],
   "source": []
  },
  {
   "cell_type": "code",
   "execution_count": null,
   "metadata": {},
   "outputs": [],
   "source": []
  },
  {
   "cell_type": "code",
   "execution_count": 89,
   "metadata": {},
   "outputs": [],
   "source": [
    "def multi_class(estimator):\n",
    "    estimator.fit(X_train_vect, y_train)\n",
    "    return f'Train score, {estimator}: {estimator.score(X_train_vect, y_train)}   \\nTest score, {estimator}: {estimator.score(X_test_vect, y_test)}'"
   ]
  },
  {
   "cell_type": "code",
   "execution_count": 92,
   "metadata": {},
   "outputs": [
    {
     "name": "stdout",
     "output_type": "stream",
     "text": [
      "Train score, LogisticRegression(max_iter=10000): 0.9874994069927416   \n",
      "Test score, LogisticRegression(max_iter=10000): 0.9402262862022344\n",
      "Train score, KNeighborsClassifier(): 0.7261729683571327   \n",
      "Test score, KNeighborsClassifier(): 0.6634882231551982\n",
      "Train score, DecisionTreeClassifier(): 0.9998339579676455   \n",
      "Test score, DecisionTreeClassifier(): 0.8814488009677649\n",
      "Train score, BaggingClassifier(): 0.9899663171877223   \n",
      "Test score, BaggingClassifier(): 0.9063545150501672\n",
      "Train score, RandomForestClassifier(): 0.9998339579676455   \n",
      "Test score, RandomForestClassifier(): 0.9286984985412368\n",
      "Train score, AdaBoostClassifier(): 0.8976706674889701   \n",
      "Test score, AdaBoostClassifier(): 0.8943997722906141\n",
      "Train score, SVC(): 0.9680487689169316   \n",
      "Test score, SVC(): 0.9417206290471786\n"
     ]
    }
   ],
   "source": [
    "estimators = [lr, knn, dtc, bag, rfc, ada, svc]\n",
    "\n",
    "for est in estimators:\n",
    "    print(multi_class(est))"
   ]
  },
  {
   "cell_type": "code",
   "execution_count": 86,
   "metadata": {},
   "outputs": [],
   "source": [
    "def split_lem(text):\n",
    "    text = text.lower()\n",
    "    lem = WordNetLemmatizer()\n",
    "    return ' '.join([lem.lemmatize(word) for word in text.split()])"
   ]
  },
  {
   "cell_type": "code",
   "execution_count": 87,
   "metadata": {},
   "outputs": [],
   "source": [
    "pipe = make_pipeline(\n",
    "    CountVectorizer(stop_words=stopwords.words('english'), min_df=5),\n",
    "    LogisticRegression(max_iter=10_000)\n",
    ")\n",
    "\n",
    "params = {\n",
    "    'countvectorizer__max_features': [30_000],\n",
    "    'countvectorizer__ngram_range': [(1,2)],\n",
    "    'countvectorizer__preprocessor': [split_lem]\n",
    "}\n",
    "\n",
    "grid = GridSearchCV(pipe, params, n_jobs=-1)"
   ]
  },
  {
   "cell_type": "code",
   "execution_count": 88,
   "metadata": {},
   "outputs": [
    {
     "name": "stderr",
     "output_type": "stream",
     "text": [
      "/Users/claireph/opt/anaconda3/lib/python3.8/site-packages/sklearn/feature_extraction/text.py:383: UserWarning: Your stop_words may be inconsistent with your preprocessing. Tokenizing the stop words generated tokens ['doe', 'ha', 'wa'] not in stop_words.\n",
      "  warnings.warn('Your stop_words may be inconsistent with '\n"
     ]
    },
    {
     "name": "stdout",
     "output_type": "stream",
     "text": [
      "Train score:  0.9939750462545661\n",
      "Test score:  0.9422899025119191\n"
     ]
    }
   ],
   "source": [
    "grid.fit(X_train, y_train)\n",
    "print(\"Train score: \", grid.score(X_train, y_train))\n",
    "print(\"Test score: \", grid.score(X_test, y_test))"
   ]
  },
  {
   "cell_type": "code",
   "execution_count": 56,
   "metadata": {},
   "outputs": [
    {
     "data": {
      "text/plain": [
       "{'countvectorizer__max_features': 30000,\n",
       " 'countvectorizer__ngram_range': (1, 2),\n",
       " 'countvectorizer__preprocessor': None}"
      ]
     },
     "execution_count": 56,
     "metadata": {},
     "output_type": "execute_result"
    }
   ],
   "source": [
    "grid.best_params_"
   ]
  },
  {
   "cell_type": "code",
   "execution_count": 67,
   "metadata": {},
   "outputs": [],
   "source": [
    "pipe2 = make_pipeline(\n",
    "    CountVectorizer(stop_words=stopwords.words('english')),\n",
    "    RandomForestClassifier()\n",
    ")\n",
    "\n",
    "params2 = {\n",
    "    'countvectorizer__max_features': [20_000, 30_000],\n",
    "    'countvectorizer__ngram_range': [(1,1), (1,2), (1,3)],\n",
    "    'countvectorizer__preprocessor': [split_lem],\n",
    "    'randomforestclassifier__n_estimators': [100,200,500],\n",
    "    'randomforestclassifier__max_depth': [ 5, 9, 15, 25],\n",
    "}\n",
    "\n",
    "grid2 = GridSearchCV(pipe2, params2, n_jobs=-1)"
   ]
  },
  {
   "cell_type": "code",
   "execution_count": null,
   "metadata": {},
   "outputs": [],
   "source": [
    "grid2.fit(X_train, y_train)\n",
    "print(\"Train score: \", grid.score(X_train, y_train))\n",
    "print(\"Test score: \", grid.score(X_test, y_test))"
   ]
  },
  {
   "cell_type": "code",
   "execution_count": null,
   "metadata": {},
   "outputs": [],
   "source": []
  }
 ],
 "metadata": {
  "kernelspec": {
   "display_name": "Python 3",
   "language": "python",
   "name": "python3"
  },
  "language_info": {
   "codemirror_mode": {
    "name": "ipython",
    "version": 3
   },
   "file_extension": ".py",
   "mimetype": "text/x-python",
   "name": "python",
   "nbconvert_exporter": "python",
   "pygments_lexer": "ipython3",
   "version": "3.8.3"
  }
 },
 "nbformat": 4,
 "nbformat_minor": 4
}
