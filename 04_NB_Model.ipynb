{
 "cells": [
  {
   "cell_type": "markdown",
   "metadata": {},
   "source": [
    "# Project 3 - Reddit NLP\n",
    "## 04-First Model: Multinomial Naive Bayes"
   ]
  },
  {
   "cell_type": "markdown",
   "metadata": {},
   "source": [
    "For my first model, I will run a gridsearch over a Multinomial Naive Bayes twice - once with CountVectorizer, and once with TfidfVectorizer so that I can compare the two. I then create a pipeline with my best model for ease of interpretability. "
   ]
  },
  {
   "cell_type": "code",
   "execution_count": 1,
   "metadata": {},
   "outputs": [],
   "source": [
    "import matplotlib.pyplot as plt\n",
    "import numpy as np\n",
    "import pandas as pd\n",
    "import seaborn as sns\n",
    "import re\n",
    "\n",
    "from sklearn.naive_bayes import MultinomialNB\n",
    "from sklearn.model_selection import train_test_split, GridSearchCV\n",
    "from sklearn.feature_extraction.text import CountVectorizer, TfidfVectorizer\n",
    "from sklearn.pipeline import make_pipeline\n",
    "from sklearn.metrics import balanced_accuracy_score, f1_score\n",
    "from nltk.stem import WordNetLemmatizer\n",
    "from nltk.corpus import stopwords\n",
    "\n",
    "import warnings\n",
    "warnings.filterwarnings(\"ignore\")"
   ]
  },
  {
   "cell_type": "code",
   "execution_count": 32,
   "metadata": {},
   "outputs": [],
   "source": [
    "df = pd.read_csv('./data/legal_nsq_clean.csv')"
   ]
  },
  {
   "cell_type": "code",
   "execution_count": 33,
   "metadata": {},
   "outputs": [
    {
     "data": {
      "text/html": [
       "<div>\n",
       "<style scoped>\n",
       "    .dataframe tbody tr th:only-of-type {\n",
       "        vertical-align: middle;\n",
       "    }\n",
       "\n",
       "    .dataframe tbody tr th {\n",
       "        vertical-align: top;\n",
       "    }\n",
       "\n",
       "    .dataframe thead th {\n",
       "        text-align: right;\n",
       "    }\n",
       "</style>\n",
       "<table border=\"1\" class=\"dataframe\">\n",
       "  <thead>\n",
       "    <tr style=\"text-align: right;\">\n",
       "      <th></th>\n",
       "      <th>created_utc</th>\n",
       "      <th>subreddit</th>\n",
       "      <th>author</th>\n",
       "      <th>media_only</th>\n",
       "      <th>permalink</th>\n",
       "      <th>clean_text</th>\n",
       "      <th>clean_title</th>\n",
       "      <th>alltext_clean</th>\n",
       "      <th>alltext_word_count</th>\n",
       "      <th>title_word_count</th>\n",
       "      <th>selftext_word_count</th>\n",
       "    </tr>\n",
       "  </thead>\n",
       "  <tbody>\n",
       "    <tr>\n",
       "      <th>0</th>\n",
       "      <td>1601524380</td>\n",
       "      <td>legaladvice</td>\n",
       "      <td>Gtormund51</td>\n",
       "      <td>False</td>\n",
       "      <td>/r/legaladvice/comments/j31aqq/my_ex_gf_refuse...</td>\n",
       "      <td>About a week ago I ended a moderately long rel...</td>\n",
       "      <td>My ex gf refuses to reclaim her items from my ...</td>\n",
       "      <td>My ex gf refuses to reclaim her items from my ...</td>\n",
       "      <td>136</td>\n",
       "      <td>23</td>\n",
       "      <td>113</td>\n",
       "    </tr>\n",
       "    <tr>\n",
       "      <th>1</th>\n",
       "      <td>1601524283</td>\n",
       "      <td>legaladvice</td>\n",
       "      <td>hustlegoat</td>\n",
       "      <td>False</td>\n",
       "      <td>/r/legaladvice/comments/j319w1/a_car_is_advert...</td>\n",
       "      <td>So I'm looking for a new car and I stumbled up...</td>\n",
       "      <td>A car is advertised for 18 000 lower than MSRP...</td>\n",
       "      <td>A car is advertised for 18 000 lower than MSRP...</td>\n",
       "      <td>105</td>\n",
       "      <td>21</td>\n",
       "      <td>85</td>\n",
       "    </tr>\n",
       "  </tbody>\n",
       "</table>\n",
       "</div>"
      ],
      "text/plain": [
       "   created_utc    subreddit      author  media_only  \\\n",
       "0   1601524380  legaladvice  Gtormund51       False   \n",
       "1   1601524283  legaladvice  hustlegoat       False   \n",
       "\n",
       "                                           permalink  \\\n",
       "0  /r/legaladvice/comments/j31aqq/my_ex_gf_refuse...   \n",
       "1  /r/legaladvice/comments/j319w1/a_car_is_advert...   \n",
       "\n",
       "                                          clean_text  \\\n",
       "0  About a week ago I ended a moderately long rel...   \n",
       "1  So I'm looking for a new car and I stumbled up...   \n",
       "\n",
       "                                         clean_title  \\\n",
       "0  My ex gf refuses to reclaim her items from my ...   \n",
       "1  A car is advertised for 18 000 lower than MSRP...   \n",
       "\n",
       "                                       alltext_clean  alltext_word_count  \\\n",
       "0  My ex gf refuses to reclaim her items from my ...                 136   \n",
       "1  A car is advertised for 18 000 lower than MSRP...                 105   \n",
       "\n",
       "   title_word_count  selftext_word_count  \n",
       "0                23                  113  \n",
       "1                21                   85  "
      ]
     },
     "execution_count": 33,
     "metadata": {},
     "output_type": "execute_result"
    }
   ],
   "source": [
    "df.head(2)"
   ]
  },
  {
   "cell_type": "code",
   "execution_count": 34,
   "metadata": {},
   "outputs": [
    {
     "name": "stdout",
     "output_type": "stream",
     "text": [
      "<class 'pandas.core.frame.DataFrame'>\n",
      "RangeIndex: 55713 entries, 0 to 55712\n",
      "Data columns (total 11 columns):\n",
      " #   Column               Non-Null Count  Dtype \n",
      "---  ------               --------------  ----- \n",
      " 0   created_utc          55713 non-null  int64 \n",
      " 1   subreddit            55713 non-null  object\n",
      " 2   author               55713 non-null  object\n",
      " 3   media_only           55713 non-null  bool  \n",
      " 4   permalink            55713 non-null  object\n",
      " 5   clean_text           55713 non-null  object\n",
      " 6   clean_title          55713 non-null  object\n",
      " 7   alltext_clean        55713 non-null  object\n",
      " 8   alltext_word_count   55713 non-null  int64 \n",
      " 9   title_word_count     55713 non-null  int64 \n",
      " 10  selftext_word_count  55713 non-null  int64 \n",
      "dtypes: bool(1), int64(4), object(6)\n",
      "memory usage: 4.3+ MB\n"
     ]
    }
   ],
   "source": [
    "df.info()"
   ]
  },
  {
   "cell_type": "markdown",
   "metadata": {},
   "source": [
    "### Baseline/Null Model\n",
    "\n",
    "As shown below, our baseline model is 52% accuracy."
   ]
  },
  {
   "cell_type": "code",
   "execution_count": 35,
   "metadata": {},
   "outputs": [
    {
     "data": {
      "text/plain": [
       "legaladvice          0.515607\n",
       "NoStupidQuestions    0.484393\n",
       "Name: subreddit, dtype: float64"
      ]
     },
     "execution_count": 35,
     "metadata": {},
     "output_type": "execute_result"
    }
   ],
   "source": [
    "df['subreddit'].value_counts(normalize=True)"
   ]
  },
  {
   "cell_type": "markdown",
   "metadata": {},
   "source": [
    "### Set up X and y and train/test/split"
   ]
  },
  {
   "cell_type": "code",
   "execution_count": 5,
   "metadata": {},
   "outputs": [],
   "source": [
    "df['subreddit'], names = pd.factorize(df['subreddit'])"
   ]
  },
  {
   "cell_type": "code",
   "execution_count": 7,
   "metadata": {},
   "outputs": [],
   "source": [
    "X = df['alltext_clean']\n",
    "y = df['subreddit']"
   ]
  },
  {
   "cell_type": "code",
   "execution_count": 8,
   "metadata": {},
   "outputs": [
    {
     "data": {
      "text/plain": [
       "0    My ex gf refuses to reclaim her items from my ...\n",
       "1    A car is advertised for 18 000 lower than MSRP...\n",
       "2    Can my boss make me 16 year old work 28.5 hour...\n",
       "3    I m leaving him and taking the dog. What can I...\n",
       "4    NONPROFIT T SHIRT LOGO infringement???Can I be...\n",
       "Name: alltext_clean, dtype: object"
      ]
     },
     "execution_count": 8,
     "metadata": {},
     "output_type": "execute_result"
    }
   ],
   "source": [
    "X.head()"
   ]
  },
  {
   "cell_type": "code",
   "execution_count": 9,
   "metadata": {},
   "outputs": [
    {
     "data": {
      "text/plain": [
       "<bound method NDFrame.head of 0        0\n",
       "1        0\n",
       "2        0\n",
       "3        0\n",
       "4        0\n",
       "        ..\n",
       "55708    1\n",
       "55709    1\n",
       "55710    1\n",
       "55711    1\n",
       "55712    1\n",
       "Name: subreddit, Length: 55713, dtype: int64>"
      ]
     },
     "execution_count": 9,
     "metadata": {},
     "output_type": "execute_result"
    }
   ],
   "source": [
    "y.head"
   ]
  },
  {
   "cell_type": "code",
   "execution_count": 10,
   "metadata": {},
   "outputs": [],
   "source": [
    "X_train, X_test, y_train, y_test = train_test_split(X, y, random_state=22)"
   ]
  },
  {
   "cell_type": "code",
   "execution_count": 11,
   "metadata": {},
   "outputs": [
    {
     "data": {
      "text/plain": [
       "(41784,)"
      ]
     },
     "execution_count": 11,
     "metadata": {},
     "output_type": "execute_result"
    }
   ],
   "source": [
    "X_train.shape"
   ]
  },
  {
   "cell_type": "code",
   "execution_count": 12,
   "metadata": {},
   "outputs": [
    {
     "data": {
      "text/plain": [
       "(41784,)"
      ]
     },
     "execution_count": 12,
     "metadata": {},
     "output_type": "execute_result"
    }
   ],
   "source": [
    "y_train.shape"
   ]
  },
  {
   "cell_type": "markdown",
   "metadata": {},
   "source": [
    "### Lemmatizing\n",
    "\n",
    "I will create a function for lemmatizing that I can use as a preprocessor in the grid search. I will also grid search over two different stop words in accordance with the preprocessors."
   ]
  },
  {
   "cell_type": "code",
   "execution_count": 13,
   "metadata": {},
   "outputs": [],
   "source": [
    "def split_lem(text):\n",
    "    text = text.lower()\n",
    "    lem = WordNetLemmatizer()\n",
    "    return ' '.join([lem.lemmatize(word) for word in text.split()])"
   ]
  },
  {
   "cell_type": "markdown",
   "metadata": {},
   "source": [
    "### GridSearchCV with CountVectorizer"
   ]
  },
  {
   "cell_type": "code",
   "execution_count": 14,
   "metadata": {},
   "outputs": [
    {
     "name": "stdout",
     "output_type": "stream",
     "text": [
      "Training score:  0.9450028719126938\n",
      "Testing score:  0.9315097996984708\n"
     ]
    }
   ],
   "source": [
    "pipe = make_pipeline(CountVectorizer(), MultinomialNB())\n",
    "\n",
    "params = {\n",
    "    'countvectorizer__ngram_range': [(1,1), (1,2), (1,3)],\n",
    "    'countvectorizer__min_df': [5, .05],\n",
    "    'countvectorizer__preprocessor': [None, split_lem],\n",
    "    'countvectorizer__stop_words': ['english', stopwords.words('english')]\n",
    "}\n",
    "\n",
    "grid = GridSearchCV(pipe, params, n_jobs=-1)\n",
    "\n",
    "grid.fit(X_train, y_train)\n",
    "\n",
    "print('Training score: ', grid.score(X_train, y_train))\n",
    "print('Testing score: ', grid.score(X_test, y_test))"
   ]
  },
  {
   "cell_type": "code",
   "execution_count": 15,
   "metadata": {},
   "outputs": [
    {
     "name": "stdout",
     "output_type": "stream",
     "text": [
      "Best parameters:  {'countvectorizer__min_df': 5, 'countvectorizer__ngram_range': (1, 2), 'countvectorizer__preprocessor': None, 'countvectorizer__stop_words': 'english'}\n"
     ]
    }
   ],
   "source": [
    "print('Best parameters: ', grid.best_params_)"
   ]
  },
  {
   "cell_type": "markdown",
   "metadata": {},
   "source": [
    "### GridSearchCV with TfidfVectorizer "
   ]
  },
  {
   "cell_type": "code",
   "execution_count": 25,
   "metadata": {},
   "outputs": [
    {
     "name": "stdout",
     "output_type": "stream",
     "text": [
      "Training score:  0.9135793605207735\n",
      "Testing score:  0.8998492354081413\n",
      "Best parameters:  {'tfidfvectorizer__min_df': 5, 'tfidfvectorizer__ngram_range': (1, 1), 'tfidfvectorizer__preprocessor': None, 'tfidfvectorizer__stop_words': 'english'}\n"
     ]
    }
   ],
   "source": [
    "pipe = make_pipeline(TfidfVectorizer(), MultinomialNB())\n",
    "\n",
    "params = {\n",
    "    'tfidfvectorizer__ngram_range': [(1,1), (1,2), (1,3)],\n",
    "    'tfidfvectorizer__min_df': [5, .05],\n",
    "    'tfidfvectorizer__preprocessor': [None, split_lem],\n",
    "    'tfidfvectorizer__stop_words': ['english', stopwords.words('english')]\n",
    "}\n",
    "\n",
    "grid = GridSearchCV(pipe, params, n_jobs=-1)\n",
    "\n",
    "grid.fit(X_train, y_train)\n",
    "\n",
    "print('Training score: ', grid.score(X_train, y_train))\n",
    "print('Testing score: ', grid.score(X_test, y_test))\n",
    "print('Best parameters: ', grid.best_params_)"
   ]
  },
  {
   "cell_type": "markdown",
   "metadata": {},
   "source": [
    "**Model Comparison**: Both the training and testing scores were higher using CountVectorizer. The min_df value is 5 for both models, rather than 5%. Both models selected No Preprocessor and the standard 'english' stopwords. CountVectorizer uses unigrams and bigrams, whereas TfidfVectorizer only uses unigrams."
   ]
  },
  {
   "cell_type": "markdown",
   "metadata": {},
   "source": [
    "### Additional Classification Metrics"
   ]
  },
  {
   "cell_type": "code",
   "execution_count": 20,
   "metadata": {},
   "outputs": [],
   "source": [
    "y_preds = nbayes_pipe.predict(X_test)"
   ]
  },
  {
   "cell_type": "code",
   "execution_count": 22,
   "metadata": {},
   "outputs": [
    {
     "data": {
      "text/plain": [
       "0.9306999741284443"
      ]
     },
     "execution_count": 22,
     "metadata": {},
     "output_type": "execute_result"
    }
   ],
   "source": [
    "balanced_accuracy_score(y_test, y_preds)"
   ]
  },
  {
   "cell_type": "code",
   "execution_count": 21,
   "metadata": {},
   "outputs": [
    {
     "data": {
      "text/plain": [
       "0.928913443830571"
      ]
     },
     "execution_count": 21,
     "metadata": {},
     "output_type": "execute_result"
    }
   ],
   "source": [
    "f1_score(y_test, y_preds)"
   ]
  },
  {
   "cell_type": "markdown",
   "metadata": {},
   "source": [
    "**Metrics Analysis:** The f1 score is close to 1. This indicates that the model is well balanced, and does not favor either precision or or recall. The balanced accuracy score is also close to 1, indicating that performance is evenly weighted between the two classes. This is expected, since our classes were relatively well represented."
   ]
  },
  {
   "cell_type": "markdown",
   "metadata": {},
   "source": [
    "\n",
    "### Pipeline for Interpretability\n",
    "I will use the best parameters from the CountVectorizer Grid Search to build a pipeline for increased interpretability."
   ]
  },
  {
   "cell_type": "code",
   "execution_count": 16,
   "metadata": {},
   "outputs": [],
   "source": [
    "nbayes_pipe = make_pipeline(\n",
    "    CountVectorizer(stop_words = stopwords.words('english'), min_df=5, ngram_range=(1,2)), \n",
    "    MultinomialNB())"
   ]
  },
  {
   "cell_type": "code",
   "execution_count": 17,
   "metadata": {},
   "outputs": [
    {
     "data": {
      "text/plain": [
       "Pipeline(steps=[('countvectorizer',\n",
       "                 CountVectorizer(min_df=5, ngram_range=(1, 2),\n",
       "                                 stop_words=['i', 'me', 'my', 'myself', 'we',\n",
       "                                             'our', 'ours', 'ourselves', 'you',\n",
       "                                             \"you're\", \"you've\", \"you'll\",\n",
       "                                             \"you'd\", 'your', 'yours',\n",
       "                                             'yourself', 'yourselves', 'he',\n",
       "                                             'him', 'his', 'himself', 'she',\n",
       "                                             \"she's\", 'her', 'hers', 'herself',\n",
       "                                             'it', \"it's\", 'its', 'itself', ...])),\n",
       "                ('multinomialnb', MultinomialNB())])"
      ]
     },
     "execution_count": 17,
     "metadata": {},
     "output_type": "execute_result"
    }
   ],
   "source": [
    "nbayes_pipe.fit(X_train, y_train)"
   ]
  },
  {
   "cell_type": "code",
   "execution_count": 18,
   "metadata": {},
   "outputs": [
    {
     "data": {
      "text/plain": [
       "0.9463670304422745"
      ]
     },
     "execution_count": 18,
     "metadata": {},
     "output_type": "execute_result"
    }
   ],
   "source": [
    "nbayes_pipe.score(X_train, y_train)"
   ]
  },
  {
   "cell_type": "code",
   "execution_count": 19,
   "metadata": {},
   "outputs": [
    {
     "data": {
      "text/plain": [
       "0.9307200804077823"
      ]
     },
     "execution_count": 19,
     "metadata": {},
     "output_type": "execute_result"
    }
   ],
   "source": [
    "nbayes_pipe.score(X_test, y_test)"
   ]
  },
  {
   "cell_type": "markdown",
   "metadata": {},
   "source": [
    "### Visualizations"
   ]
  },
  {
   "cell_type": "code",
   "execution_count": 25,
   "metadata": {},
   "outputs": [
    {
     "data": {
      "image/png": "[encoded data removed]",
      "text/plain": [
       "<Figure size 576x396 with 1 Axes>"
      ]
     },
     "metadata": {},
     "output_type": "display_data"
    }
   ],
   "source": [
    "from yellowbrick.classifier import ConfusionMatrix\n",
    "from yellowbrick.style.palettes import PALETTES, SEQUENCES, color_palette\n",
    "cm = ConfusionMatrix(\n",
    "    nbayes_pipe, classes=['Legal Advice', 'No Stupid Questions'],\n",
    "    percent=True,\n",
    "    cmap='BuGn'\n",
    ")\n",
    "cm.fit(X_train, y_train)\n",
    "cm.score(X_test, y_test)\n",
    "cm.show();"
   ]
  },
  {
   "cell_type": "markdown",
   "metadata": {},
   "source": [
    "**Confusion Matrix:** Here we can see that the model is very well balanced - it predicted 93% correctly for both classes, and false negatives and false positives are both 7%. If our goal is balance, this is a great model to use."
   ]
  },
  {
   "cell_type": "code",
   "execution_count": 58,
   "metadata": {},
   "outputs": [],
   "source": [
    "from yellowbrick.classifier import ROCAUC"
   ]
  },
  {
   "cell_type": "code",
   "execution_count": 61,
   "metadata": {},
   "outputs": [
    {
     "data": {
      "image/png": "[encoded data removed]",
      "text/plain": [
       "<Figure size 576x396 with 1 Axes>"
      ]
     },
     "metadata": {},
     "output_type": "display_data"
    }
   ],
   "source": [
    "# idea provided by Alex Fioto\n",
    "rocauc_viz = ROCAUC(nbayes_pipe, classes=['legaladvice', 'nostupidquestions'])\n",
    "rocauc_viz.fit(X_train, y_train)\n",
    "rocauc_viz.score(X_test, y_test)\n",
    "rocauc_viz.show();"
   ]
  },
  {
   "cell_type": "markdown",
   "metadata": {},
   "source": [
    "**ROC Curve:** This is a visual representation of our predictive ability, and the tradeoff between sensitivity and specificity. The curve is very close to the upper left hand corner, indicating strong predictability."
   ]
  }
 ],
 "metadata": {
  "kernelspec": {
   "display_name": "Python 3",
   "language": "python",
   "name": "python3"
  },
  "language_info": {
   "codemirror_mode": {
    "name": "ipython",
    "version": 3
   },
   "file_extension": ".py",
   "mimetype": "text/x-python",
   "name": "python",
   "nbconvert_exporter": "python",
   "pygments_lexer": "ipython3",
   "version": "3.8.3"
  }
 },
 "nbformat": 4,
 "nbformat_minor": 4
}
